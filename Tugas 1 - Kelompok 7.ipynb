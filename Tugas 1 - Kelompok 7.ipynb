{
  "cells": [
    {
      "cell_type": "markdown",
      "source": [
        "# **TUGAS 1 : Supervised Learning**\n",
        "\n",
        "**KELOMPOK 7** :\n",
        "\n",
        "Gaung Taqwa Indraswara (235150207111043)\n",
        "\n",
        "Muhammad Fauzan (235150201111044)\n",
        "\n",
        "Ferrel Destatiananda Edwardo (235150207111044)\n",
        "\n",
        "Muhammad Fatir Zaira (23515020011039)"
      ],
      "metadata": {
        "id": "zRMzPoe0wrHJ"
      }
    },
    {
      "cell_type": "markdown",
      "metadata": {
        "id": "022WuRiHzOu8"
      },
      "source": [
        "# **LOADING DATA & IMPORT LIBRARIES**"
      ]
    },
    {
      "cell_type": "code",
      "execution_count": null,
      "metadata": {
        "id": "TY3-3YmNA4sb"
      },
      "outputs": [],
      "source": [
        "import kagglehub\n",
        "import pandas as pd\n",
        "import os\n",
        "import seaborn as sns\n",
        "import matplotlib.pyplot as plt\n",
        "import numpy as np\n",
        "from sklearn.preprocessing import LabelEncoder, RobustScaler\n",
        "from sklearn.metrics import accuracy_score, classification_report, confusion_matrix"
      ]
    },
    {
      "cell_type": "code",
      "execution_count": null,
      "metadata": {
        "colab": {
          "background_save": true,
          "base_uri": "https://localhost:8080/"
        },
        "id": "bTFinK7-E560",
        "outputId": "4cfeb68e-9161-494b-eaa0-dd13723c1298"
      },
      "outputs": [
        {
          "name": "stdout",
          "output_type": "stream",
          "text": [
            "Path to dataset files: /kaggle/input/telco-customer-churn\n",
            "Files in dataset folder: ['WA_Fn-UseC_-Telco-Customer-Churn.csv']\n"
          ]
        }
      ],
      "source": [
        "path = kagglehub.dataset_download(\"blastchar/telco-customer-churn\")\n",
        "print(\"Path to dataset files:\", path)\n",
        "\n",
        "files = os.listdir(path)\n",
        "print(\"Files in dataset folder:\", files)"
      ]
    },
    {
      "cell_type": "code",
      "execution_count": null,
      "metadata": {
        "id": "eSYoy20ww0nj"
      },
      "outputs": [],
      "source": [
        "data_path = os.path.join(path, 'WA_Fn-UseC_-Telco-Customer-Churn.csv')\n",
        "data = pd.read_csv(data_path)"
      ]
    },
    {
      "cell_type": "markdown",
      "metadata": {
        "id": "ZdvsIoYNzXVn"
      },
      "source": [
        "# **EDA**"
      ]
    },
    {
      "cell_type": "markdown",
      "metadata": {
        "id": "WYi22qA0RUsZ"
      },
      "source": [
        "## **Understanding Data**"
      ]
    },
    {
      "cell_type": "code",
      "execution_count": null,
      "metadata": {
        "colab": {
          "base_uri": "https://localhost:8080/"
        },
        "id": "s-NdZ2p5hFL8",
        "outputId": "f8136257-aec3-41be-d5d8-86618bfd30ad"
      },
      "outputs": [
        {
          "name": "stdout",
          "output_type": "stream",
          "text": [
            "      customerID  gender  SeniorCitizen Partner Dependents  tenure  \\\n",
            "0     7590-VHVEG  Female              0     Yes         No       1   \n",
            "1     5575-GNVDE    Male              0      No         No      34   \n",
            "2     3668-QPYBK    Male              0      No         No       2   \n",
            "3     7795-CFOCW    Male              0      No         No      45   \n",
            "4     9237-HQITU  Female              0      No         No       2   \n",
            "...          ...     ...            ...     ...        ...     ...   \n",
            "7038  6840-RESVB    Male              0     Yes        Yes      24   \n",
            "7039  2234-XADUH  Female              0     Yes        Yes      72   \n",
            "7040  4801-JZAZL  Female              0     Yes        Yes      11   \n",
            "7041  8361-LTMKD    Male              1     Yes         No       4   \n",
            "7042  3186-AJIEK    Male              0      No         No      66   \n",
            "\n",
            "     PhoneService     MultipleLines InternetService OnlineSecurity  ...  \\\n",
            "0              No  No phone service             DSL             No  ...   \n",
            "1             Yes                No             DSL            Yes  ...   \n",
            "2             Yes                No             DSL            Yes  ...   \n",
            "3              No  No phone service             DSL            Yes  ...   \n",
            "4             Yes                No     Fiber optic             No  ...   \n",
            "...           ...               ...             ...            ...  ...   \n",
            "7038          Yes               Yes             DSL            Yes  ...   \n",
            "7039          Yes               Yes     Fiber optic             No  ...   \n",
            "7040           No  No phone service             DSL            Yes  ...   \n",
            "7041          Yes               Yes     Fiber optic             No  ...   \n",
            "7042          Yes                No     Fiber optic            Yes  ...   \n",
            "\n",
            "     DeviceProtection TechSupport StreamingTV StreamingMovies        Contract  \\\n",
            "0                  No          No          No              No  Month-to-month   \n",
            "1                 Yes          No          No              No        One year   \n",
            "2                  No          No          No              No  Month-to-month   \n",
            "3                 Yes         Yes          No              No        One year   \n",
            "4                  No          No          No              No  Month-to-month   \n",
            "...               ...         ...         ...             ...             ...   \n",
            "7038              Yes         Yes         Yes             Yes        One year   \n",
            "7039              Yes          No         Yes             Yes        One year   \n",
            "7040               No          No          No              No  Month-to-month   \n",
            "7041               No          No          No              No  Month-to-month   \n",
            "7042              Yes         Yes         Yes             Yes        Two year   \n",
            "\n",
            "     PaperlessBilling              PaymentMethod MonthlyCharges  TotalCharges  \\\n",
            "0                 Yes           Electronic check          29.85         29.85   \n",
            "1                  No               Mailed check          56.95        1889.5   \n",
            "2                 Yes               Mailed check          53.85        108.15   \n",
            "3                  No  Bank transfer (automatic)          42.30       1840.75   \n",
            "4                 Yes           Electronic check          70.70        151.65   \n",
            "...               ...                        ...            ...           ...   \n",
            "7038              Yes               Mailed check          84.80        1990.5   \n",
            "7039              Yes    Credit card (automatic)         103.20        7362.9   \n",
            "7040              Yes           Electronic check          29.60        346.45   \n",
            "7041              Yes               Mailed check          74.40         306.6   \n",
            "7042              Yes  Bank transfer (automatic)         105.65        6844.5   \n",
            "\n",
            "     Churn  \n",
            "0       No  \n",
            "1       No  \n",
            "2      Yes  \n",
            "3       No  \n",
            "4      Yes  \n",
            "...    ...  \n",
            "7038    No  \n",
            "7039    No  \n",
            "7040    No  \n",
            "7041   Yes  \n",
            "7042    No  \n",
            "\n",
            "[7043 rows x 21 columns]\n"
          ]
        }
      ],
      "source": [
        "print(data)"
      ]
    },
    {
      "cell_type": "code",
      "execution_count": null,
      "metadata": {
        "colab": {
          "base_uri": "https://localhost:8080/"
        },
        "id": "ruAlB0lVBdXf",
        "outputId": "be45434d-0342-466f-a487-17461f839e7c"
      },
      "outputs": [
        {
          "name": "stdout",
          "output_type": "stream",
          "text": [
            "<class 'pandas.core.frame.DataFrame'>\n",
            "RangeIndex: 7043 entries, 0 to 7042\n",
            "Data columns (total 21 columns):\n",
            " #   Column            Non-Null Count  Dtype  \n",
            "---  ------            --------------  -----  \n",
            " 0   customerID        7043 non-null   object \n",
            " 1   gender            7043 non-null   object \n",
            " 2   SeniorCitizen     7043 non-null   int64  \n",
            " 3   Partner           7043 non-null   object \n",
            " 4   Dependents        7043 non-null   object \n",
            " 5   tenure            7043 non-null   int64  \n",
            " 6   PhoneService      7043 non-null   object \n",
            " 7   MultipleLines     7043 non-null   object \n",
            " 8   InternetService   7043 non-null   object \n",
            " 9   OnlineSecurity    7043 non-null   object \n",
            " 10  OnlineBackup      7043 non-null   object \n",
            " 11  DeviceProtection  7043 non-null   object \n",
            " 12  TechSupport       7043 non-null   object \n",
            " 13  StreamingTV       7043 non-null   object \n",
            " 14  StreamingMovies   7043 non-null   object \n",
            " 15  Contract          7043 non-null   object \n",
            " 16  PaperlessBilling  7043 non-null   object \n",
            " 17  PaymentMethod     7043 non-null   object \n",
            " 18  MonthlyCharges    7043 non-null   float64\n",
            " 19  TotalCharges      7043 non-null   object \n",
            " 20  Churn             7043 non-null   object \n",
            "dtypes: float64(1), int64(2), object(18)\n",
            "memory usage: 1.1+ MB\n"
          ]
        }
      ],
      "source": [
        "data.info()"
      ]
    },
    {
      "cell_type": "markdown",
      "metadata": {
        "id": "kPmxWQ35C9tf"
      },
      "source": [
        "![image.png](data:image/png;base64,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)"
      ]
    },
    {
      "cell_type": "markdown",
      "metadata": {
        "id": "i37YthpAgxpl"
      },
      "source": [
        "Dari data.info() dapat dilihat bahwa ada 3 kolom numerik dan 17 kolom bertipe object, namun dilihat dari print(data), sebenarnya kolom `TotalCharges` adalah kolom numerik namun di simpan sebagai string/object, lalu ada juga kolom biner `SeniorCitizen` yang di simpan dalam integer padahal kolom biner lainnya tersimpan dalam string yes dan no, beberapa ketidakkonsistenan tipe data ini menjadi conern kami dalam tahap-tahap selanjutnya"
      ]
    },
    {
      "cell_type": "code",
      "execution_count": null,
      "metadata": {
        "colab": {
          "base_uri": "https://localhost:8080/",
          "height": 300
        },
        "id": "rCWtX6lWAhFj",
        "outputId": "7abfb203-88b7-4f17-b7ea-171c21caef39"
      },
      "outputs": [
        {
          "data": {
            "application/vnd.google.colaboratory.intrinsic+json": {
              "summary": "{\n  \"name\": \"data\",\n  \"rows\": 8,\n  \"fields\": [\n    {\n      \"column\": \"SeniorCitizen\",\n      \"properties\": {\n        \"dtype\": \"number\",\n        \"std\": 2489.9992387084,\n        \"min\": 0.0,\n        \"max\": 7043.0,\n        \"num_unique_values\": 5,\n        \"samples\": [\n          0.1621468124378816,\n          1.0,\n          0.36861160561002687\n        ],\n        \"semantic_type\": \"\",\n        \"description\": \"\"\n      }\n    },\n    {\n      \"column\": \"tenure\",\n      \"properties\": {\n        \"dtype\": \"number\",\n        \"std\": 2478.9752758409018,\n        \"min\": 0.0,\n        \"max\": 7043.0,\n        \"num_unique_values\": 8,\n        \"samples\": [\n          32.37114865824223,\n          29.0,\n          7043.0\n        ],\n        \"semantic_type\": \"\",\n        \"description\": \"\"\n      }\n    },\n    {\n      \"column\": \"MonthlyCharges\",\n      \"properties\": {\n        \"dtype\": \"number\",\n        \"std\": 2468.7047672837775,\n        \"min\": 18.25,\n        \"max\": 7043.0,\n        \"num_unique_values\": 8,\n        \"samples\": [\n          64.76169246059918,\n          70.35,\n          7043.0\n        ],\n        \"semantic_type\": \"\",\n        \"description\": \"\"\n      }\n    }\n  ]\n}",
              "type": "dataframe"
            },
            "text/html": [
              "\n",
              "  <div id=\"df-f9c5c110-888c-49e0-86fb-0e269be995b0\" class=\"colab-df-container\">\n",
              "    <div>\n",
              "<style scoped>\n",
              "    .dataframe tbody tr th:only-of-type {\n",
              "        vertical-align: middle;\n",
              "    }\n",
              "\n",
              "    .dataframe tbody tr th {\n",
              "        vertical-align: top;\n",
              "    }\n",
              "\n",
              "    .dataframe thead th {\n",
              "        text-align: right;\n",
              "    }\n",
              "</style>\n",
              "<table border=\"1\" class=\"dataframe\">\n",
              "  <thead>\n",
              "    <tr style=\"text-align: right;\">\n",
              "      <th></th>\n",
              "      <th>SeniorCitizen</th>\n",
              "      <th>tenure</th>\n",
              "      <th>MonthlyCharges</th>\n",
              "    </tr>\n",
              "  </thead>\n",
              "  <tbody>\n",
              "    <tr>\n",
              "      <th>count</th>\n",
              "      <td>7043.000000</td>\n",
              "      <td>7043.000000</td>\n",
              "      <td>7043.000000</td>\n",
              "    </tr>\n",
              "    <tr>\n",
              "      <th>mean</th>\n",
              "      <td>0.162147</td>\n",
              "      <td>32.371149</td>\n",
              "      <td>64.761692</td>\n",
              "    </tr>\n",
              "    <tr>\n",
              "      <th>std</th>\n",
              "      <td>0.368612</td>\n",
              "      <td>24.559481</td>\n",
              "      <td>30.090047</td>\n",
              "    </tr>\n",
              "    <tr>\n",
              "      <th>min</th>\n",
              "      <td>0.000000</td>\n",
              "      <td>0.000000</td>\n",
              "      <td>18.250000</td>\n",
              "    </tr>\n",
              "    <tr>\n",
              "      <th>25%</th>\n",
              "      <td>0.000000</td>\n",
              "      <td>9.000000</td>\n",
              "      <td>35.500000</td>\n",
              "    </tr>\n",
              "    <tr>\n",
              "      <th>50%</th>\n",
              "      <td>0.000000</td>\n",
              "      <td>29.000000</td>\n",
              "      <td>70.350000</td>\n",
              "    </tr>\n",
              "    <tr>\n",
              "      <th>75%</th>\n",
              "      <td>0.000000</td>\n",
              "      <td>55.000000</td>\n",
              "      <td>89.850000</td>\n",
              "    </tr>\n",
              "    <tr>\n",
              "      <th>max</th>\n",
              "      <td>1.000000</td>\n",
              "      <td>72.000000</td>\n",
              "      <td>118.750000</td>\n",
              "    </tr>\n",
              "  </tbody>\n",
              "</table>\n",
              "</div>\n",
              "    <div class=\"colab-df-buttons\">\n",
              "\n",
              "  <div class=\"colab-df-container\">\n",
              "    <button class=\"colab-df-convert\" onclick=\"convertToInteractive('df-f9c5c110-888c-49e0-86fb-0e269be995b0')\"\n",
              "            title=\"Convert this dataframe to an interactive table.\"\n",
              "            style=\"display:none;\">\n",
              "\n",
              "  <svg xmlns=\"http://www.w3.org/2000/svg\" height=\"24px\" viewBox=\"0 -960 960 960\">\n",
              "    <path d=\"M120-120v-720h720v720H120Zm60-500h600v-160H180v160Zm220 220h160v-160H400v160Zm0 220h160v-160H400v160ZM180-400h160v-160H180v160Zm440 0h160v-160H620v160ZM180-180h160v-160H180v160Zm440 0h160v-160H620v160Z\"/>\n",
              "  </svg>\n",
              "    </button>\n",
              "\n",
              "  <style>\n",
              "    .colab-df-container {\n",
              "      display:flex;\n",
              "      gap: 12px;\n",
              "    }\n",
              "\n",
              "    .colab-df-convert {\n",
              "      background-color: #E8F0FE;\n",
              "      border: none;\n",
              "      border-radius: 50%;\n",
              "      cursor: pointer;\n",
              "      display: none;\n",
              "      fill: #1967D2;\n",
              "      height: 32px;\n",
              "      padding: 0 0 0 0;\n",
              "      width: 32px;\n",
              "    }\n",
              "\n",
              "    .colab-df-convert:hover {\n",
              "      background-color: #E2EBFA;\n",
              "      box-shadow: 0px 1px 2px rgba(60, 64, 67, 0.3), 0px 1px 3px 1px rgba(60, 64, 67, 0.15);\n",
              "      fill: #174EA6;\n",
              "    }\n",
              "\n",
              "    .colab-df-buttons div {\n",
              "      margin-bottom: 4px;\n",
              "    }\n",
              "\n",
              "    [theme=dark] .colab-df-convert {\n",
              "      background-color: #3B4455;\n",
              "      fill: #D2E3FC;\n",
              "    }\n",
              "\n",
              "    [theme=dark] .colab-df-convert:hover {\n",
              "      background-color: #434B5C;\n",
              "      box-shadow: 0px 1px 3px 1px rgba(0, 0, 0, 0.15);\n",
              "      filter: drop-shadow(0px 1px 2px rgba(0, 0, 0, 0.3));\n",
              "      fill: #FFFFFF;\n",
              "    }\n",
              "  </style>\n",
              "\n",
              "    <script>\n",
              "      const buttonEl =\n",
              "        document.querySelector('#df-f9c5c110-888c-49e0-86fb-0e269be995b0 button.colab-df-convert');\n",
              "      buttonEl.style.display =\n",
              "        google.colab.kernel.accessAllowed ? 'block' : 'none';\n",
              "\n",
              "      async function convertToInteractive(key) {\n",
              "        const element = document.querySelector('#df-f9c5c110-888c-49e0-86fb-0e269be995b0');\n",
              "        const dataTable =\n",
              "          await google.colab.kernel.invokeFunction('convertToInteractive',\n",
              "                                                    [key], {});\n",
              "        if (!dataTable) return;\n",
              "\n",
              "        const docLinkHtml = 'Like what you see? Visit the ' +\n",
              "          '<a target=\"_blank\" href=https://colab.research.google.com/notebooks/data_table.ipynb>data table notebook</a>'\n",
              "          + ' to learn more about interactive tables.';\n",
              "        element.innerHTML = '';\n",
              "        dataTable['output_type'] = 'display_data';\n",
              "        await google.colab.output.renderOutput(dataTable, element);\n",
              "        const docLink = document.createElement('div');\n",
              "        docLink.innerHTML = docLinkHtml;\n",
              "        element.appendChild(docLink);\n",
              "      }\n",
              "    </script>\n",
              "  </div>\n",
              "\n",
              "\n",
              "    <div id=\"df-71c1df94-38c3-4be1-9129-0a649958e4af\">\n",
              "      <button class=\"colab-df-quickchart\" onclick=\"quickchart('df-71c1df94-38c3-4be1-9129-0a649958e4af')\"\n",
              "                title=\"Suggest charts\"\n",
              "                style=\"display:none;\">\n",
              "\n",
              "<svg xmlns=\"http://www.w3.org/2000/svg\" height=\"24px\"viewBox=\"0 0 24 24\"\n",
              "     width=\"24px\">\n",
              "    <g>\n",
              "        <path d=\"M19 3H5c-1.1 0-2 .9-2 2v14c0 1.1.9 2 2 2h14c1.1 0 2-.9 2-2V5c0-1.1-.9-2-2-2zM9 17H7v-7h2v7zm4 0h-2V7h2v10zm4 0h-2v-4h2v4z\"/>\n",
              "    </g>\n",
              "</svg>\n",
              "      </button>\n",
              "\n",
              "<style>\n",
              "  .colab-df-quickchart {\n",
              "      --bg-color: #E8F0FE;\n",
              "      --fill-color: #1967D2;\n",
              "      --hover-bg-color: #E2EBFA;\n",
              "      --hover-fill-color: #174EA6;\n",
              "      --disabled-fill-color: #AAA;\n",
              "      --disabled-bg-color: #DDD;\n",
              "  }\n",
              "\n",
              "  [theme=dark] .colab-df-quickchart {\n",
              "      --bg-color: #3B4455;\n",
              "      --fill-color: #D2E3FC;\n",
              "      --hover-bg-color: #434B5C;\n",
              "      --hover-fill-color: #FFFFFF;\n",
              "      --disabled-bg-color: #3B4455;\n",
              "      --disabled-fill-color: #666;\n",
              "  }\n",
              "\n",
              "  .colab-df-quickchart {\n",
              "    background-color: var(--bg-color);\n",
              "    border: none;\n",
              "    border-radius: 50%;\n",
              "    cursor: pointer;\n",
              "    display: none;\n",
              "    fill: var(--fill-color);\n",
              "    height: 32px;\n",
              "    padding: 0;\n",
              "    width: 32px;\n",
              "  }\n",
              "\n",
              "  .colab-df-quickchart:hover {\n",
              "    background-color: var(--hover-bg-color);\n",
              "    box-shadow: 0 1px 2px rgba(60, 64, 67, 0.3), 0 1px 3px 1px rgba(60, 64, 67, 0.15);\n",
              "    fill: var(--button-hover-fill-color);\n",
              "  }\n",
              "\n",
              "  .colab-df-quickchart-complete:disabled,\n",
              "  .colab-df-quickchart-complete:disabled:hover {\n",
              "    background-color: var(--disabled-bg-color);\n",
              "    fill: var(--disabled-fill-color);\n",
              "    box-shadow: none;\n",
              "  }\n",
              "\n",
              "  .colab-df-spinner {\n",
              "    border: 2px solid var(--fill-color);\n",
              "    border-color: transparent;\n",
              "    border-bottom-color: var(--fill-color);\n",
              "    animation:\n",
              "      spin 1s steps(1) infinite;\n",
              "  }\n",
              "\n",
              "  @keyframes spin {\n",
              "    0% {\n",
              "      border-color: transparent;\n",
              "      border-bottom-color: var(--fill-color);\n",
              "      border-left-color: var(--fill-color);\n",
              "    }\n",
              "    20% {\n",
              "      border-color: transparent;\n",
              "      border-left-color: var(--fill-color);\n",
              "      border-top-color: var(--fill-color);\n",
              "    }\n",
              "    30% {\n",
              "      border-color: transparent;\n",
              "      border-left-color: var(--fill-color);\n",
              "      border-top-color: var(--fill-color);\n",
              "      border-right-color: var(--fill-color);\n",
              "    }\n",
              "    40% {\n",
              "      border-color: transparent;\n",
              "      border-right-color: var(--fill-color);\n",
              "      border-top-color: var(--fill-color);\n",
              "    }\n",
              "    60% {\n",
              "      border-color: transparent;\n",
              "      border-right-color: var(--fill-color);\n",
              "    }\n",
              "    80% {\n",
              "      border-color: transparent;\n",
              "      border-right-color: var(--fill-color);\n",
              "      border-bottom-color: var(--fill-color);\n",
              "    }\n",
              "    90% {\n",
              "      border-color: transparent;\n",
              "      border-bottom-color: var(--fill-color);\n",
              "    }\n",
              "  }\n",
              "</style>\n",
              "\n",
              "      <script>\n",
              "        async function quickchart(key) {\n",
              "          const quickchartButtonEl =\n",
              "            document.querySelector('#' + key + ' button');\n",
              "          quickchartButtonEl.disabled = true;  // To prevent multiple clicks.\n",
              "          quickchartButtonEl.classList.add('colab-df-spinner');\n",
              "          try {\n",
              "            const charts = await google.colab.kernel.invokeFunction(\n",
              "                'suggestCharts', [key], {});\n",
              "          } catch (error) {\n",
              "            console.error('Error during call to suggestCharts:', error);\n",
              "          }\n",
              "          quickchartButtonEl.classList.remove('colab-df-spinner');\n",
              "          quickchartButtonEl.classList.add('colab-df-quickchart-complete');\n",
              "        }\n",
              "        (() => {\n",
              "          let quickchartButtonEl =\n",
              "            document.querySelector('#df-71c1df94-38c3-4be1-9129-0a649958e4af button');\n",
              "          quickchartButtonEl.style.display =\n",
              "            google.colab.kernel.accessAllowed ? 'block' : 'none';\n",
              "        })();\n",
              "      </script>\n",
              "    </div>\n",
              "\n",
              "    </div>\n",
              "  </div>\n"
            ],
            "text/plain": [
              "       SeniorCitizen       tenure  MonthlyCharges\n",
              "count    7043.000000  7043.000000     7043.000000\n",
              "mean        0.162147    32.371149       64.761692\n",
              "std         0.368612    24.559481       30.090047\n",
              "min         0.000000     0.000000       18.250000\n",
              "25%         0.000000     9.000000       35.500000\n",
              "50%         0.000000    29.000000       70.350000\n",
              "75%         0.000000    55.000000       89.850000\n",
              "max         1.000000    72.000000      118.750000"
            ]
          },
          "execution_count": 117,
          "metadata": {},
          "output_type": "execute_result"
        }
      ],
      "source": [
        "data.describe()"
      ]
    },
    {
      "cell_type": "markdown",
      "metadata": {
        "id": "c_K5Rqt62bcg"
      },
      "source": [
        "Karena `describe()` hanya menampilkan kolom numerik maka ditampilkanlah 3 kolom ini, namun masalahnya untuk `SeniorCitizen` adalah kolom binary 1 dan 0 dan klom `TotalCharges` yang sebenarnya adalah kolom numerik masih belum tertampilkan karena masih dalam bentuk tipe data object"
      ]
    },
    {
      "cell_type": "code",
      "execution_count": null,
      "metadata": {
        "colab": {
          "base_uri": "https://localhost:8080/",
          "height": 178
        },
        "id": "slIDgGuj3nqS",
        "outputId": "1d8a48f4-4bb6-4d67-d7c1-c45d1f2997e1"
      },
      "outputs": [
        {
          "data": {
            "text/html": [
              "<div>\n",
              "<style scoped>\n",
              "    .dataframe tbody tr th:only-of-type {\n",
              "        vertical-align: middle;\n",
              "    }\n",
              "\n",
              "    .dataframe tbody tr th {\n",
              "        vertical-align: top;\n",
              "    }\n",
              "\n",
              "    .dataframe thead th {\n",
              "        text-align: right;\n",
              "    }\n",
              "</style>\n",
              "<table border=\"1\" class=\"dataframe\">\n",
              "  <thead>\n",
              "    <tr style=\"text-align: right;\">\n",
              "      <th></th>\n",
              "      <th>count</th>\n",
              "    </tr>\n",
              "    <tr>\n",
              "      <th>Churn</th>\n",
              "      <th></th>\n",
              "    </tr>\n",
              "  </thead>\n",
              "  <tbody>\n",
              "    <tr>\n",
              "      <th>No</th>\n",
              "      <td>5174</td>\n",
              "    </tr>\n",
              "    <tr>\n",
              "      <th>Yes</th>\n",
              "      <td>1869</td>\n",
              "    </tr>\n",
              "  </tbody>\n",
              "</table>\n",
              "</div><br><label><b>dtype:</b> int64</label>"
            ],
            "text/plain": [
              "Churn\n",
              "No     5174\n",
              "Yes    1869\n",
              "Name: count, dtype: int64"
            ]
          },
          "execution_count": 118,
          "metadata": {},
          "output_type": "execute_result"
        }
      ],
      "source": [
        "data['Churn'].value_counts()"
      ]
    },
    {
      "cell_type": "code",
      "execution_count": null,
      "metadata": {
        "colab": {
          "base_uri": "https://localhost:8080/",
          "height": 178
        },
        "id": "7nbx3BmNFghp",
        "outputId": "a5aa59ff-d295-4651-c443-e9eccba90069"
      },
      "outputs": [
        {
          "data": {
            "text/html": [
              "<div>\n",
              "<style scoped>\n",
              "    .dataframe tbody tr th:only-of-type {\n",
              "        vertical-align: middle;\n",
              "    }\n",
              "\n",
              "    .dataframe tbody tr th {\n",
              "        vertical-align: top;\n",
              "    }\n",
              "\n",
              "    .dataframe thead th {\n",
              "        text-align: right;\n",
              "    }\n",
              "</style>\n",
              "<table border=\"1\" class=\"dataframe\">\n",
              "  <thead>\n",
              "    <tr style=\"text-align: right;\">\n",
              "      <th></th>\n",
              "      <th>proportion</th>\n",
              "    </tr>\n",
              "    <tr>\n",
              "      <th>Churn</th>\n",
              "      <th></th>\n",
              "    </tr>\n",
              "  </thead>\n",
              "  <tbody>\n",
              "    <tr>\n",
              "      <th>No</th>\n",
              "      <td>73.46</td>\n",
              "    </tr>\n",
              "    <tr>\n",
              "      <th>Yes</th>\n",
              "      <td>26.54</td>\n",
              "    </tr>\n",
              "  </tbody>\n",
              "</table>\n",
              "</div><br><label><b>dtype:</b> float64</label>"
            ],
            "text/plain": [
              "Churn\n",
              "No     73.46\n",
              "Yes    26.54\n",
              "Name: proportion, dtype: float64"
            ]
          },
          "execution_count": 119,
          "metadata": {},
          "output_type": "execute_result"
        }
      ],
      "source": [
        "percentages = data['Churn'].value_counts(normalize=True) * 100\n",
        "percentages.round(2)"
      ]
    },
    {
      "cell_type": "markdown",
      "metadata": {
        "id": "7vrrYby03AGY"
      },
      "source": [
        "Dari persebaran target bisa dilihat bahwa dataset ini cukup imbalance dengan record churn berkisar antara 26% dari total keseluruhan data, insight ini akan kami tindak lanjuti dengan melakukan stratify train-test split nanti di bagian modeling"
      ]
    },
    {
      "cell_type": "code",
      "execution_count": null,
      "metadata": {
        "colab": {
          "base_uri": "https://localhost:8080/",
          "height": 676
        },
        "id": "lQyQtfrLAR27",
        "outputId": "1248360e-cc35-42ff-f9a2-b75c5623a145"
      },
      "outputs": [
        {
          "data": {
            "application/vnd.google.colaboratory.intrinsic+json": {
              "summary": "{\n  \"name\": \"unique_per_col\",\n  \"rows\": 20,\n  \"fields\": [\n    {\n      \"column\": \"Column\",\n      \"properties\": {\n        \"dtype\": \"string\",\n        \"num_unique_values\": 20,\n        \"samples\": [\n          \"gender\",\n          \"MonthlyCharges\",\n          \"PaperlessBilling\"\n        ],\n        \"semantic_type\": \"\",\n        \"description\": \"\"\n      }\n    },\n    {\n      \"column\": \"Unique Values\",\n      \"properties\": {\n        \"dtype\": \"object\",\n        \"semantic_type\": \"\",\n        \"description\": \"\"\n      }\n    },\n    {\n      \"column\": \"Len unique values\",\n      \"properties\": {\n        \"dtype\": \"number\",\n        \"std\": 1482,\n        \"min\": 2,\n        \"max\": 6531,\n        \"num_unique_values\": 6,\n        \"samples\": [\n          2,\n          73,\n          6531\n        ],\n        \"semantic_type\": \"\",\n        \"description\": \"\"\n      }\n    }\n  ]\n}",
              "type": "dataframe",
              "variable_name": "unique_per_col"
            },
            "text/html": [
              "\n",
              "  <div id=\"df-1530e2f0-b8aa-44b6-b9cd-15f817b563ff\" class=\"colab-df-container\">\n",
              "    <div>\n",
              "<style scoped>\n",
              "    .dataframe tbody tr th:only-of-type {\n",
              "        vertical-align: middle;\n",
              "    }\n",
              "\n",
              "    .dataframe tbody tr th {\n",
              "        vertical-align: top;\n",
              "    }\n",
              "\n",
              "    .dataframe thead th {\n",
              "        text-align: right;\n",
              "    }\n",
              "</style>\n",
              "<table border=\"1\" class=\"dataframe\">\n",
              "  <thead>\n",
              "    <tr style=\"text-align: right;\">\n",
              "      <th></th>\n",
              "      <th>Column</th>\n",
              "      <th>Unique Values</th>\n",
              "      <th>Len unique values</th>\n",
              "    </tr>\n",
              "  </thead>\n",
              "  <tbody>\n",
              "    <tr>\n",
              "      <th>0</th>\n",
              "      <td>gender</td>\n",
              "      <td>[Female, Male]</td>\n",
              "      <td>2</td>\n",
              "    </tr>\n",
              "    <tr>\n",
              "      <th>1</th>\n",
              "      <td>SeniorCitizen</td>\n",
              "      <td>[0, 1]</td>\n",
              "      <td>2</td>\n",
              "    </tr>\n",
              "    <tr>\n",
              "      <th>2</th>\n",
              "      <td>Partner</td>\n",
              "      <td>[Yes, No]</td>\n",
              "      <td>2</td>\n",
              "    </tr>\n",
              "    <tr>\n",
              "      <th>3</th>\n",
              "      <td>Dependents</td>\n",
              "      <td>[No, Yes]</td>\n",
              "      <td>2</td>\n",
              "    </tr>\n",
              "    <tr>\n",
              "      <th>4</th>\n",
              "      <td>tenure</td>\n",
              "      <td>[1, 34, 2, 45, 8, 22, 10, 28, 62, 13, 16, 58, ...</td>\n",
              "      <td>73</td>\n",
              "    </tr>\n",
              "    <tr>\n",
              "      <th>5</th>\n",
              "      <td>PhoneService</td>\n",
              "      <td>[No, Yes]</td>\n",
              "      <td>2</td>\n",
              "    </tr>\n",
              "    <tr>\n",
              "      <th>6</th>\n",
              "      <td>MultipleLines</td>\n",
              "      <td>[No phone service, No, Yes]</td>\n",
              "      <td>3</td>\n",
              "    </tr>\n",
              "    <tr>\n",
              "      <th>7</th>\n",
              "      <td>InternetService</td>\n",
              "      <td>[DSL, Fiber optic, No]</td>\n",
              "      <td>3</td>\n",
              "    </tr>\n",
              "    <tr>\n",
              "      <th>8</th>\n",
              "      <td>OnlineSecurity</td>\n",
              "      <td>[No, Yes, No internet service]</td>\n",
              "      <td>3</td>\n",
              "    </tr>\n",
              "    <tr>\n",
              "      <th>9</th>\n",
              "      <td>OnlineBackup</td>\n",
              "      <td>[Yes, No, No internet service]</td>\n",
              "      <td>3</td>\n",
              "    </tr>\n",
              "    <tr>\n",
              "      <th>10</th>\n",
              "      <td>DeviceProtection</td>\n",
              "      <td>[No, Yes, No internet service]</td>\n",
              "      <td>3</td>\n",
              "    </tr>\n",
              "    <tr>\n",
              "      <th>11</th>\n",
              "      <td>TechSupport</td>\n",
              "      <td>[No, Yes, No internet service]</td>\n",
              "      <td>3</td>\n",
              "    </tr>\n",
              "    <tr>\n",
              "      <th>12</th>\n",
              "      <td>StreamingTV</td>\n",
              "      <td>[No, Yes, No internet service]</td>\n",
              "      <td>3</td>\n",
              "    </tr>\n",
              "    <tr>\n",
              "      <th>13</th>\n",
              "      <td>StreamingMovies</td>\n",
              "      <td>[No, Yes, No internet service]</td>\n",
              "      <td>3</td>\n",
              "    </tr>\n",
              "    <tr>\n",
              "      <th>14</th>\n",
              "      <td>Contract</td>\n",
              "      <td>[Month-to-month, One year, Two year]</td>\n",
              "      <td>3</td>\n",
              "    </tr>\n",
              "    <tr>\n",
              "      <th>15</th>\n",
              "      <td>PaperlessBilling</td>\n",
              "      <td>[Yes, No]</td>\n",
              "      <td>2</td>\n",
              "    </tr>\n",
              "    <tr>\n",
              "      <th>16</th>\n",
              "      <td>PaymentMethod</td>\n",
              "      <td>[Electronic check, Mailed check, Bank transfer...</td>\n",
              "      <td>4</td>\n",
              "    </tr>\n",
              "    <tr>\n",
              "      <th>17</th>\n",
              "      <td>MonthlyCharges</td>\n",
              "      <td>[29.85, 56.95, 53.85, 42.3, 70.7, 99.65, 89.1,...</td>\n",
              "      <td>1585</td>\n",
              "    </tr>\n",
              "    <tr>\n",
              "      <th>18</th>\n",
              "      <td>TotalCharges</td>\n",
              "      <td>[29.85, 1889.5, 108.15, 1840.75, 151.65, 820.5...</td>\n",
              "      <td>6531</td>\n",
              "    </tr>\n",
              "    <tr>\n",
              "      <th>19</th>\n",
              "      <td>Churn</td>\n",
              "      <td>[No, Yes]</td>\n",
              "      <td>2</td>\n",
              "    </tr>\n",
              "  </tbody>\n",
              "</table>\n",
              "</div>\n",
              "    <div class=\"colab-df-buttons\">\n",
              "\n",
              "  <div class=\"colab-df-container\">\n",
              "    <button class=\"colab-df-convert\" onclick=\"convertToInteractive('df-1530e2f0-b8aa-44b6-b9cd-15f817b563ff')\"\n",
              "            title=\"Convert this dataframe to an interactive table.\"\n",
              "            style=\"display:none;\">\n",
              "\n",
              "  <svg xmlns=\"http://www.w3.org/2000/svg\" height=\"24px\" viewBox=\"0 -960 960 960\">\n",
              "    <path d=\"M120-120v-720h720v720H120Zm60-500h600v-160H180v160Zm220 220h160v-160H400v160Zm0 220h160v-160H400v160ZM180-400h160v-160H180v160Zm440 0h160v-160H620v160ZM180-180h160v-160H180v160Zm440 0h160v-160H620v160Z\"/>\n",
              "  </svg>\n",
              "    </button>\n",
              "\n",
              "  <style>\n",
              "    .colab-df-container {\n",
              "      display:flex;\n",
              "      gap: 12px;\n",
              "    }\n",
              "\n",
              "    .colab-df-convert {\n",
              "      background-color: #E8F0FE;\n",
              "      border: none;\n",
              "      border-radius: 50%;\n",
              "      cursor: pointer;\n",
              "      display: none;\n",
              "      fill: #1967D2;\n",
              "      height: 32px;\n",
              "      padding: 0 0 0 0;\n",
              "      width: 32px;\n",
              "    }\n",
              "\n",
              "    .colab-df-convert:hover {\n",
              "      background-color: #E2EBFA;\n",
              "      box-shadow: 0px 1px 2px rgba(60, 64, 67, 0.3), 0px 1px 3px 1px rgba(60, 64, 67, 0.15);\n",
              "      fill: #174EA6;\n",
              "    }\n",
              "\n",
              "    .colab-df-buttons div {\n",
              "      margin-bottom: 4px;\n",
              "    }\n",
              "\n",
              "    [theme=dark] .colab-df-convert {\n",
              "      background-color: #3B4455;\n",
              "      fill: #D2E3FC;\n",
              "    }\n",
              "\n",
              "    [theme=dark] .colab-df-convert:hover {\n",
              "      background-color: #434B5C;\n",
              "      box-shadow: 0px 1px 3px 1px rgba(0, 0, 0, 0.15);\n",
              "      filter: drop-shadow(0px 1px 2px rgba(0, 0, 0, 0.3));\n",
              "      fill: #FFFFFF;\n",
              "    }\n",
              "  </style>\n",
              "\n",
              "    <script>\n",
              "      const buttonEl =\n",
              "        document.querySelector('#df-1530e2f0-b8aa-44b6-b9cd-15f817b563ff button.colab-df-convert');\n",
              "      buttonEl.style.display =\n",
              "        google.colab.kernel.accessAllowed ? 'block' : 'none';\n",
              "\n",
              "      async function convertToInteractive(key) {\n",
              "        const element = document.querySelector('#df-1530e2f0-b8aa-44b6-b9cd-15f817b563ff');\n",
              "        const dataTable =\n",
              "          await google.colab.kernel.invokeFunction('convertToInteractive',\n",
              "                                                    [key], {});\n",
              "        if (!dataTable) return;\n",
              "\n",
              "        const docLinkHtml = 'Like what you see? Visit the ' +\n",
              "          '<a target=\"_blank\" href=https://colab.research.google.com/notebooks/data_table.ipynb>data table notebook</a>'\n",
              "          + ' to learn more about interactive tables.';\n",
              "        element.innerHTML = '';\n",
              "        dataTable['output_type'] = 'display_data';\n",
              "        await google.colab.output.renderOutput(dataTable, element);\n",
              "        const docLink = document.createElement('div');\n",
              "        docLink.innerHTML = docLinkHtml;\n",
              "        element.appendChild(docLink);\n",
              "      }\n",
              "    </script>\n",
              "  </div>\n",
              "\n",
              "\n",
              "    <div id=\"df-ab936c28-ed17-4534-b5ba-b8617bd7d85a\">\n",
              "      <button class=\"colab-df-quickchart\" onclick=\"quickchart('df-ab936c28-ed17-4534-b5ba-b8617bd7d85a')\"\n",
              "                title=\"Suggest charts\"\n",
              "                style=\"display:none;\">\n",
              "\n",
              "<svg xmlns=\"http://www.w3.org/2000/svg\" height=\"24px\"viewBox=\"0 0 24 24\"\n",
              "     width=\"24px\">\n",
              "    <g>\n",
              "        <path d=\"M19 3H5c-1.1 0-2 .9-2 2v14c0 1.1.9 2 2 2h14c1.1 0 2-.9 2-2V5c0-1.1-.9-2-2-2zM9 17H7v-7h2v7zm4 0h-2V7h2v10zm4 0h-2v-4h2v4z\"/>\n",
              "    </g>\n",
              "</svg>\n",
              "      </button>\n",
              "\n",
              "<style>\n",
              "  .colab-df-quickchart {\n",
              "      --bg-color: #E8F0FE;\n",
              "      --fill-color: #1967D2;\n",
              "      --hover-bg-color: #E2EBFA;\n",
              "      --hover-fill-color: #174EA6;\n",
              "      --disabled-fill-color: #AAA;\n",
              "      --disabled-bg-color: #DDD;\n",
              "  }\n",
              "\n",
              "  [theme=dark] .colab-df-quickchart {\n",
              "      --bg-color: #3B4455;\n",
              "      --fill-color: #D2E3FC;\n",
              "      --hover-bg-color: #434B5C;\n",
              "      --hover-fill-color: #FFFFFF;\n",
              "      --disabled-bg-color: #3B4455;\n",
              "      --disabled-fill-color: #666;\n",
              "  }\n",
              "\n",
              "  .colab-df-quickchart {\n",
              "    background-color: var(--bg-color);\n",
              "    border: none;\n",
              "    border-radius: 50%;\n",
              "    cursor: pointer;\n",
              "    display: none;\n",
              "    fill: var(--fill-color);\n",
              "    height: 32px;\n",
              "    padding: 0;\n",
              "    width: 32px;\n",
              "  }\n",
              "\n",
              "  .colab-df-quickchart:hover {\n",
              "    background-color: var(--hover-bg-color);\n",
              "    box-shadow: 0 1px 2px rgba(60, 64, 67, 0.3), 0 1px 3px 1px rgba(60, 64, 67, 0.15);\n",
              "    fill: var(--button-hover-fill-color);\n",
              "  }\n",
              "\n",
              "  .colab-df-quickchart-complete:disabled,\n",
              "  .colab-df-quickchart-complete:disabled:hover {\n",
              "    background-color: var(--disabled-bg-color);\n",
              "    fill: var(--disabled-fill-color);\n",
              "    box-shadow: none;\n",
              "  }\n",
              "\n",
              "  .colab-df-spinner {\n",
              "    border: 2px solid var(--fill-color);\n",
              "    border-color: transparent;\n",
              "    border-bottom-color: var(--fill-color);\n",
              "    animation:\n",
              "      spin 1s steps(1) infinite;\n",
              "  }\n",
              "\n",
              "  @keyframes spin {\n",
              "    0% {\n",
              "      border-color: transparent;\n",
              "      border-bottom-color: var(--fill-color);\n",
              "      border-left-color: var(--fill-color);\n",
              "    }\n",
              "    20% {\n",
              "      border-color: transparent;\n",
              "      border-left-color: var(--fill-color);\n",
              "      border-top-color: var(--fill-color);\n",
              "    }\n",
              "    30% {\n",
              "      border-color: transparent;\n",
              "      border-left-color: var(--fill-color);\n",
              "      border-top-color: var(--fill-color);\n",
              "      border-right-color: var(--fill-color);\n",
              "    }\n",
              "    40% {\n",
              "      border-color: transparent;\n",
              "      border-right-color: var(--fill-color);\n",
              "      border-top-color: var(--fill-color);\n",
              "    }\n",
              "    60% {\n",
              "      border-color: transparent;\n",
              "      border-right-color: var(--fill-color);\n",
              "    }\n",
              "    80% {\n",
              "      border-color: transparent;\n",
              "      border-right-color: var(--fill-color);\n",
              "      border-bottom-color: var(--fill-color);\n",
              "    }\n",
              "    90% {\n",
              "      border-color: transparent;\n",
              "      border-bottom-color: var(--fill-color);\n",
              "    }\n",
              "  }\n",
              "</style>\n",
              "\n",
              "      <script>\n",
              "        async function quickchart(key) {\n",
              "          const quickchartButtonEl =\n",
              "            document.querySelector('#' + key + ' button');\n",
              "          quickchartButtonEl.disabled = true;  // To prevent multiple clicks.\n",
              "          quickchartButtonEl.classList.add('colab-df-spinner');\n",
              "          try {\n",
              "            const charts = await google.colab.kernel.invokeFunction(\n",
              "                'suggestCharts', [key], {});\n",
              "          } catch (error) {\n",
              "            console.error('Error during call to suggestCharts:', error);\n",
              "          }\n",
              "          quickchartButtonEl.classList.remove('colab-df-spinner');\n",
              "          quickchartButtonEl.classList.add('colab-df-quickchart-complete');\n",
              "        }\n",
              "        (() => {\n",
              "          let quickchartButtonEl =\n",
              "            document.querySelector('#df-ab936c28-ed17-4534-b5ba-b8617bd7d85a button');\n",
              "          quickchartButtonEl.style.display =\n",
              "            google.colab.kernel.accessAllowed ? 'block' : 'none';\n",
              "        })();\n",
              "      </script>\n",
              "    </div>\n",
              "\n",
              "  <div id=\"id_0160c190-d2bb-4c56-85a2-fabf64326add\">\n",
              "    <style>\n",
              "      .colab-df-generate {\n",
              "        background-color: #E8F0FE;\n",
              "        border: none;\n",
              "        border-radius: 50%;\n",
              "        cursor: pointer;\n",
              "        display: none;\n",
              "        fill: #1967D2;\n",
              "        height: 32px;\n",
              "        padding: 0 0 0 0;\n",
              "        width: 32px;\n",
              "      }\n",
              "\n",
              "      .colab-df-generate:hover {\n",
              "        background-color: #E2EBFA;\n",
              "        box-shadow: 0px 1px 2px rgba(60, 64, 67, 0.3), 0px 1px 3px 1px rgba(60, 64, 67, 0.15);\n",
              "        fill: #174EA6;\n",
              "      }\n",
              "\n",
              "      [theme=dark] .colab-df-generate {\n",
              "        background-color: #3B4455;\n",
              "        fill: #D2E3FC;\n",
              "      }\n",
              "\n",
              "      [theme=dark] .colab-df-generate:hover {\n",
              "        background-color: #434B5C;\n",
              "        box-shadow: 0px 1px 3px 1px rgba(0, 0, 0, 0.15);\n",
              "        filter: drop-shadow(0px 1px 2px rgba(0, 0, 0, 0.3));\n",
              "        fill: #FFFFFF;\n",
              "      }\n",
              "    </style>\n",
              "    <button class=\"colab-df-generate\" onclick=\"generateWithVariable('unique_per_col')\"\n",
              "            title=\"Generate code using this dataframe.\"\n",
              "            style=\"display:none;\">\n",
              "\n",
              "  <svg xmlns=\"http://www.w3.org/2000/svg\" height=\"24px\"viewBox=\"0 0 24 24\"\n",
              "       width=\"24px\">\n",
              "    <path d=\"M7,19H8.4L18.45,9,17,7.55,7,17.6ZM5,21V16.75L18.45,3.32a2,2,0,0,1,2.83,0l1.4,1.43a1.91,1.91,0,0,1,.58,1.4,1.91,1.91,0,0,1-.58,1.4L9.25,21ZM18.45,9,17,7.55Zm-12,3A5.31,5.31,0,0,0,4.9,8.1,5.31,5.31,0,0,0,1,6.5,5.31,5.31,0,0,0,4.9,4.9,5.31,5.31,0,0,0,6.5,1,5.31,5.31,0,0,0,8.1,4.9,5.31,5.31,0,0,0,12,6.5,5.46,5.46,0,0,0,6.5,12Z\"/>\n",
              "  </svg>\n",
              "    </button>\n",
              "    <script>\n",
              "      (() => {\n",
              "      const buttonEl =\n",
              "        document.querySelector('#id_0160c190-d2bb-4c56-85a2-fabf64326add button.colab-df-generate');\n",
              "      buttonEl.style.display =\n",
              "        google.colab.kernel.accessAllowed ? 'block' : 'none';\n",
              "\n",
              "      buttonEl.onclick = () => {\n",
              "        google.colab.notebook.generateWithVariable('unique_per_col');\n",
              "      }\n",
              "      })();\n",
              "    </script>\n",
              "  </div>\n",
              "\n",
              "    </div>\n",
              "  </div>\n"
            ],
            "text/plain": [
              "              Column                                      Unique Values  \\\n",
              "0             gender                                     [Female, Male]   \n",
              "1      SeniorCitizen                                             [0, 1]   \n",
              "2            Partner                                          [Yes, No]   \n",
              "3         Dependents                                          [No, Yes]   \n",
              "4             tenure  [1, 34, 2, 45, 8, 22, 10, 28, 62, 13, 16, 58, ...   \n",
              "5       PhoneService                                          [No, Yes]   \n",
              "6      MultipleLines                        [No phone service, No, Yes]   \n",
              "7    InternetService                             [DSL, Fiber optic, No]   \n",
              "8     OnlineSecurity                     [No, Yes, No internet service]   \n",
              "9       OnlineBackup                     [Yes, No, No internet service]   \n",
              "10  DeviceProtection                     [No, Yes, No internet service]   \n",
              "11       TechSupport                     [No, Yes, No internet service]   \n",
              "12       StreamingTV                     [No, Yes, No internet service]   \n",
              "13   StreamingMovies                     [No, Yes, No internet service]   \n",
              "14          Contract               [Month-to-month, One year, Two year]   \n",
              "15  PaperlessBilling                                          [Yes, No]   \n",
              "16     PaymentMethod  [Electronic check, Mailed check, Bank transfer...   \n",
              "17    MonthlyCharges  [29.85, 56.95, 53.85, 42.3, 70.7, 99.65, 89.1,...   \n",
              "18      TotalCharges  [29.85, 1889.5, 108.15, 1840.75, 151.65, 820.5...   \n",
              "19             Churn                                          [No, Yes]   \n",
              "\n",
              "    Len unique values  \n",
              "0                   2  \n",
              "1                   2  \n",
              "2                   2  \n",
              "3                   2  \n",
              "4                  73  \n",
              "5                   2  \n",
              "6                   3  \n",
              "7                   3  \n",
              "8                   3  \n",
              "9                   3  \n",
              "10                  3  \n",
              "11                  3  \n",
              "12                  3  \n",
              "13                  3  \n",
              "14                  3  \n",
              "15                  2  \n",
              "16                  4  \n",
              "17               1585  \n",
              "18               6531  \n",
              "19                  2  "
            ]
          },
          "execution_count": 120,
          "metadata": {},
          "output_type": "execute_result"
        }
      ],
      "source": [
        "unique_values = []\n",
        "\n",
        "for col in data.columns:\n",
        "    if col != 'customerID':\n",
        "        unique_values.append({\n",
        "            'Column': col,\n",
        "            'Unique Values': data[col].unique(),\n",
        "            'Len unique values': len(data[col].unique())\n",
        "        })\n",
        "\n",
        "unique_per_col = pd.DataFrame(unique_values)\n",
        "unique_per_col"
      ]
    },
    {
      "cell_type": "markdown",
      "metadata": {
        "id": "vIGfdb6j30Tw"
      },
      "source": [
        "Kode diatas membantu kami untuk menentukan encoding yang cocok untuk masing-masing kolom"
      ]
    },
    {
      "cell_type": "markdown",
      "metadata": {
        "id": "s1NW0pnkJtkl"
      },
      "source": [
        "## **Missing Value**"
      ]
    },
    {
      "cell_type": "code",
      "execution_count": null,
      "metadata": {
        "colab": {
          "base_uri": "https://localhost:8080/",
          "height": 742
        },
        "id": "7EDbkQUbJ4Xb",
        "outputId": "d0e28100-c72c-457f-db35-1737d90af3cd"
      },
      "outputs": [
        {
          "data": {
            "text/html": [
              "<div>\n",
              "<style scoped>\n",
              "    .dataframe tbody tr th:only-of-type {\n",
              "        vertical-align: middle;\n",
              "    }\n",
              "\n",
              "    .dataframe tbody tr th {\n",
              "        vertical-align: top;\n",
              "    }\n",
              "\n",
              "    .dataframe thead th {\n",
              "        text-align: right;\n",
              "    }\n",
              "</style>\n",
              "<table border=\"1\" class=\"dataframe\">\n",
              "  <thead>\n",
              "    <tr style=\"text-align: right;\">\n",
              "      <th></th>\n",
              "      <th>0</th>\n",
              "    </tr>\n",
              "  </thead>\n",
              "  <tbody>\n",
              "    <tr>\n",
              "      <th>customerID</th>\n",
              "      <td>0</td>\n",
              "    </tr>\n",
              "    <tr>\n",
              "      <th>gender</th>\n",
              "      <td>0</td>\n",
              "    </tr>\n",
              "    <tr>\n",
              "      <th>SeniorCitizen</th>\n",
              "      <td>0</td>\n",
              "    </tr>\n",
              "    <tr>\n",
              "      <th>Partner</th>\n",
              "      <td>0</td>\n",
              "    </tr>\n",
              "    <tr>\n",
              "      <th>Dependents</th>\n",
              "      <td>0</td>\n",
              "    </tr>\n",
              "    <tr>\n",
              "      <th>tenure</th>\n",
              "      <td>0</td>\n",
              "    </tr>\n",
              "    <tr>\n",
              "      <th>PhoneService</th>\n",
              "      <td>0</td>\n",
              "    </tr>\n",
              "    <tr>\n",
              "      <th>MultipleLines</th>\n",
              "      <td>0</td>\n",
              "    </tr>\n",
              "    <tr>\n",
              "      <th>InternetService</th>\n",
              "      <td>0</td>\n",
              "    </tr>\n",
              "    <tr>\n",
              "      <th>OnlineSecurity</th>\n",
              "      <td>0</td>\n",
              "    </tr>\n",
              "    <tr>\n",
              "      <th>OnlineBackup</th>\n",
              "      <td>0</td>\n",
              "    </tr>\n",
              "    <tr>\n",
              "      <th>DeviceProtection</th>\n",
              "      <td>0</td>\n",
              "    </tr>\n",
              "    <tr>\n",
              "      <th>TechSupport</th>\n",
              "      <td>0</td>\n",
              "    </tr>\n",
              "    <tr>\n",
              "      <th>StreamingTV</th>\n",
              "      <td>0</td>\n",
              "    </tr>\n",
              "    <tr>\n",
              "      <th>StreamingMovies</th>\n",
              "      <td>0</td>\n",
              "    </tr>\n",
              "    <tr>\n",
              "      <th>Contract</th>\n",
              "      <td>0</td>\n",
              "    </tr>\n",
              "    <tr>\n",
              "      <th>PaperlessBilling</th>\n",
              "      <td>0</td>\n",
              "    </tr>\n",
              "    <tr>\n",
              "      <th>PaymentMethod</th>\n",
              "      <td>0</td>\n",
              "    </tr>\n",
              "    <tr>\n",
              "      <th>MonthlyCharges</th>\n",
              "      <td>0</td>\n",
              "    </tr>\n",
              "    <tr>\n",
              "      <th>TotalCharges</th>\n",
              "      <td>0</td>\n",
              "    </tr>\n",
              "    <tr>\n",
              "      <th>Churn</th>\n",
              "      <td>0</td>\n",
              "    </tr>\n",
              "  </tbody>\n",
              "</table>\n",
              "</div><br><label><b>dtype:</b> int64</label>"
            ],
            "text/plain": [
              "customerID          0\n",
              "gender              0\n",
              "SeniorCitizen       0\n",
              "Partner             0\n",
              "Dependents          0\n",
              "tenure              0\n",
              "PhoneService        0\n",
              "MultipleLines       0\n",
              "InternetService     0\n",
              "OnlineSecurity      0\n",
              "OnlineBackup        0\n",
              "DeviceProtection    0\n",
              "TechSupport         0\n",
              "StreamingTV         0\n",
              "StreamingMovies     0\n",
              "Contract            0\n",
              "PaperlessBilling    0\n",
              "PaymentMethod       0\n",
              "MonthlyCharges      0\n",
              "TotalCharges        0\n",
              "Churn               0\n",
              "dtype: int64"
            ]
          },
          "execution_count": 121,
          "metadata": {},
          "output_type": "execute_result"
        }
      ],
      "source": [
        "data.isnull().sum()"
      ]
    },
    {
      "cell_type": "markdown",
      "metadata": {
        "id": "CsCRIkku4Xj-"
      },
      "source": [
        "Setelah di cek tidak ada data yang null jika menggunakan isnull"
      ]
    },
    {
      "cell_type": "code",
      "execution_count": null,
      "metadata": {
        "id": "XndOFsm_IFMn"
      },
      "outputs": [],
      "source": [
        "datav = data.copy()"
      ]
    },
    {
      "cell_type": "code",
      "execution_count": null,
      "metadata": {
        "id": "zUYCb38QN1RP"
      },
      "outputs": [],
      "source": [
        "datav['TotalCharges'] = pd.to_numeric(datav['TotalCharges'], errors='coerce')"
      ]
    },
    {
      "cell_type": "code",
      "execution_count": null,
      "metadata": {
        "colab": {
          "base_uri": "https://localhost:8080/",
          "height": 742
        },
        "id": "gfgCfNLuEzWk",
        "outputId": "cec235f5-ff35-4ea0-b9fa-79f6ed9dd630"
      },
      "outputs": [
        {
          "data": {
            "text/html": [
              "<div>\n",
              "<style scoped>\n",
              "    .dataframe tbody tr th:only-of-type {\n",
              "        vertical-align: middle;\n",
              "    }\n",
              "\n",
              "    .dataframe tbody tr th {\n",
              "        vertical-align: top;\n",
              "    }\n",
              "\n",
              "    .dataframe thead th {\n",
              "        text-align: right;\n",
              "    }\n",
              "</style>\n",
              "<table border=\"1\" class=\"dataframe\">\n",
              "  <thead>\n",
              "    <tr style=\"text-align: right;\">\n",
              "      <th></th>\n",
              "      <th>0</th>\n",
              "    </tr>\n",
              "  </thead>\n",
              "  <tbody>\n",
              "    <tr>\n",
              "      <th>customerID</th>\n",
              "      <td>0</td>\n",
              "    </tr>\n",
              "    <tr>\n",
              "      <th>gender</th>\n",
              "      <td>0</td>\n",
              "    </tr>\n",
              "    <tr>\n",
              "      <th>SeniorCitizen</th>\n",
              "      <td>0</td>\n",
              "    </tr>\n",
              "    <tr>\n",
              "      <th>Partner</th>\n",
              "      <td>0</td>\n",
              "    </tr>\n",
              "    <tr>\n",
              "      <th>Dependents</th>\n",
              "      <td>0</td>\n",
              "    </tr>\n",
              "    <tr>\n",
              "      <th>tenure</th>\n",
              "      <td>0</td>\n",
              "    </tr>\n",
              "    <tr>\n",
              "      <th>PhoneService</th>\n",
              "      <td>0</td>\n",
              "    </tr>\n",
              "    <tr>\n",
              "      <th>MultipleLines</th>\n",
              "      <td>0</td>\n",
              "    </tr>\n",
              "    <tr>\n",
              "      <th>InternetService</th>\n",
              "      <td>0</td>\n",
              "    </tr>\n",
              "    <tr>\n",
              "      <th>OnlineSecurity</th>\n",
              "      <td>0</td>\n",
              "    </tr>\n",
              "    <tr>\n",
              "      <th>OnlineBackup</th>\n",
              "      <td>0</td>\n",
              "    </tr>\n",
              "    <tr>\n",
              "      <th>DeviceProtection</th>\n",
              "      <td>0</td>\n",
              "    </tr>\n",
              "    <tr>\n",
              "      <th>TechSupport</th>\n",
              "      <td>0</td>\n",
              "    </tr>\n",
              "    <tr>\n",
              "      <th>StreamingTV</th>\n",
              "      <td>0</td>\n",
              "    </tr>\n",
              "    <tr>\n",
              "      <th>StreamingMovies</th>\n",
              "      <td>0</td>\n",
              "    </tr>\n",
              "    <tr>\n",
              "      <th>Contract</th>\n",
              "      <td>0</td>\n",
              "    </tr>\n",
              "    <tr>\n",
              "      <th>PaperlessBilling</th>\n",
              "      <td>0</td>\n",
              "    </tr>\n",
              "    <tr>\n",
              "      <th>PaymentMethod</th>\n",
              "      <td>0</td>\n",
              "    </tr>\n",
              "    <tr>\n",
              "      <th>MonthlyCharges</th>\n",
              "      <td>0</td>\n",
              "    </tr>\n",
              "    <tr>\n",
              "      <th>TotalCharges</th>\n",
              "      <td>11</td>\n",
              "    </tr>\n",
              "    <tr>\n",
              "      <th>Churn</th>\n",
              "      <td>0</td>\n",
              "    </tr>\n",
              "  </tbody>\n",
              "</table>\n",
              "</div><br><label><b>dtype:</b> int64</label>"
            ],
            "text/plain": [
              "customerID           0\n",
              "gender               0\n",
              "SeniorCitizen        0\n",
              "Partner              0\n",
              "Dependents           0\n",
              "tenure               0\n",
              "PhoneService         0\n",
              "MultipleLines        0\n",
              "InternetService      0\n",
              "OnlineSecurity       0\n",
              "OnlineBackup         0\n",
              "DeviceProtection     0\n",
              "TechSupport          0\n",
              "StreamingTV          0\n",
              "StreamingMovies      0\n",
              "Contract             0\n",
              "PaperlessBilling     0\n",
              "PaymentMethod        0\n",
              "MonthlyCharges       0\n",
              "TotalCharges        11\n",
              "Churn                0\n",
              "dtype: int64"
            ]
          },
          "execution_count": 124,
          "metadata": {},
          "output_type": "execute_result"
        }
      ],
      "source": [
        "datav.isna().sum()"
      ]
    },
    {
      "cell_type": "markdown",
      "metadata": {
        "id": "NzhzeIp_4dJG"
      },
      "source": [
        "namun setelah tipe data kolom `TotalCharges` diubah menjadi numerik ternyata ada kolom yang null, mungkin ada record yang menyimpan string yang berisi tidak hanya angka"
      ]
    },
    {
      "cell_type": "code",
      "execution_count": null,
      "metadata": {
        "colab": {
          "base_uri": "https://localhost:8080/"
        },
        "id": "MISsy-oY4wqD",
        "outputId": "0f3ba70f-621b-4981-9740-1c36e08bc2c2"
      },
      "outputs": [
        {
          "data": {
            "text/plain": [
              "array([' '], dtype=object)"
            ]
          },
          "execution_count": 125,
          "metadata": {},
          "output_type": "execute_result"
        }
      ],
      "source": [
        "mask = pd.to_numeric(data['TotalCharges'], errors='coerce').isna()\n",
        "data.loc[mask, 'TotalCharges'].unique()"
      ]
    },
    {
      "cell_type": "markdown",
      "metadata": {
        "id": "3UYwLyFp55rF"
      },
      "source": [
        "Benar ternyata yang gagal dikonversi menjadi numerik  dan menjadi null adalah data berisi spasi, untuk selanjutnya akan kita telusuri apakah data null ini layak di drop atau di imputasi"
      ]
    },
    {
      "cell_type": "code",
      "execution_count": null,
      "metadata": {
        "colab": {
          "base_uri": "https://localhost:8080/"
        },
        "id": "Tk_PCeSm6Etm",
        "outputId": "72bf3024-ca0f-47db-9f29-2f7e1fd45340"
      },
      "outputs": [
        {
          "name": "stdout",
          "output_type": "stream",
          "text": [
            "      customerID  gender  SeniorCitizen Partner Dependents  tenure  \\\n",
            "488   4472-LVYGI  Female              0     Yes        Yes       0   \n",
            "753   3115-CZMZD    Male              0      No        Yes       0   \n",
            "936   5709-LVOEQ  Female              0     Yes        Yes       0   \n",
            "1082  4367-NUYAO    Male              0     Yes        Yes       0   \n",
            "1340  1371-DWPAZ  Female              0     Yes        Yes       0   \n",
            "3331  7644-OMVMY    Male              0     Yes        Yes       0   \n",
            "3826  3213-VVOLG    Male              0     Yes        Yes       0   \n",
            "4380  2520-SGTTA  Female              0     Yes        Yes       0   \n",
            "5218  2923-ARZLG    Male              0     Yes        Yes       0   \n",
            "6670  4075-WKNIU  Female              0     Yes        Yes       0   \n",
            "6754  2775-SEFEE    Male              0      No        Yes       0   \n",
            "\n",
            "     PhoneService     MultipleLines InternetService       OnlineSecurity  ...  \\\n",
            "488            No  No phone service             DSL                  Yes  ...   \n",
            "753           Yes                No              No  No internet service  ...   \n",
            "936           Yes                No             DSL                  Yes  ...   \n",
            "1082          Yes               Yes              No  No internet service  ...   \n",
            "1340           No  No phone service             DSL                  Yes  ...   \n",
            "3331          Yes                No              No  No internet service  ...   \n",
            "3826          Yes               Yes              No  No internet service  ...   \n",
            "4380          Yes                No              No  No internet service  ...   \n",
            "5218          Yes                No              No  No internet service  ...   \n",
            "6670          Yes               Yes             DSL                   No  ...   \n",
            "6754          Yes               Yes             DSL                  Yes  ...   \n",
            "\n",
            "         DeviceProtection          TechSupport          StreamingTV  \\\n",
            "488                   Yes                  Yes                  Yes   \n",
            "753   No internet service  No internet service  No internet service   \n",
            "936                   Yes                   No                  Yes   \n",
            "1082  No internet service  No internet service  No internet service   \n",
            "1340                  Yes                  Yes                  Yes   \n",
            "3331  No internet service  No internet service  No internet service   \n",
            "3826  No internet service  No internet service  No internet service   \n",
            "4380  No internet service  No internet service  No internet service   \n",
            "5218  No internet service  No internet service  No internet service   \n",
            "6670                  Yes                  Yes                  Yes   \n",
            "6754                   No                  Yes                   No   \n",
            "\n",
            "          StreamingMovies  Contract PaperlessBilling  \\\n",
            "488                    No  Two year              Yes   \n",
            "753   No internet service  Two year               No   \n",
            "936                   Yes  Two year               No   \n",
            "1082  No internet service  Two year               No   \n",
            "1340                   No  Two year               No   \n",
            "3331  No internet service  Two year               No   \n",
            "3826  No internet service  Two year               No   \n",
            "4380  No internet service  Two year               No   \n",
            "5218  No internet service  One year              Yes   \n",
            "6670                   No  Two year               No   \n",
            "6754                   No  Two year              Yes   \n",
            "\n",
            "                  PaymentMethod MonthlyCharges  TotalCharges Churn  \n",
            "488   Bank transfer (automatic)          52.55                  No  \n",
            "753                Mailed check          20.25                  No  \n",
            "936                Mailed check          80.85                  No  \n",
            "1082               Mailed check          25.75                  No  \n",
            "1340    Credit card (automatic)          56.05                  No  \n",
            "3331               Mailed check          19.85                  No  \n",
            "3826               Mailed check          25.35                  No  \n",
            "4380               Mailed check          20.00                  No  \n",
            "5218               Mailed check          19.70                  No  \n",
            "6670               Mailed check          73.35                  No  \n",
            "6754  Bank transfer (automatic)          61.90                  No  \n",
            "\n",
            "[11 rows x 21 columns]\n"
          ]
        }
      ],
      "source": [
        "print(data[data['TotalCharges'] == ' '])"
      ]
    },
    {
      "cell_type": "markdown",
      "metadata": {
        "id": "d8fXXQ-T6n34"
      },
      "source": [
        "setelah dilihat ternyata data null ini merupakan data para pelanggan yang baru bergabung kurang dari 1 bulan, berikut adalah evidence nya kami temukan dari data diatas untuk kami lakukan penanganan missing value ini\n",
        "- `tenure` = 0 untuk semua 11 record → artinya pelanggan baru mendaftar.\n",
        "\n",
        "- `TotalCharges` = \" \" → memang belum membayar apa-apa karena belum ada tagihan berjalan.\n",
        "\n",
        "- `MonthlyCharges` sudah ada nilainya → menunjukkan paket yang dipilih sudah diketahui.\n",
        "\n",
        "- `Churn` = No → mereka masih aktif saat data dicatat.\n",
        "\n",
        "maka dengan ini kami tetapkan untuk imputasi nilai 0 di kolom **TotalCharges** nya"
      ]
    },
    {
      "cell_type": "code",
      "execution_count": null,
      "metadata": {
        "colab": {
          "base_uri": "https://localhost:8080/"
        },
        "id": "81ip9vDyEdPp",
        "outputId": "21b4865e-5df6-4694-90eb-01adc925ab06"
      },
      "outputs": [
        {
          "name": "stderr",
          "output_type": "stream",
          "text": [
            "<ipython-input-127-ea5c995dc89e>:2: FutureWarning: A value is trying to be set on a copy of a DataFrame or Series through chained assignment using an inplace method.\n",
            "The behavior will change in pandas 3.0. This inplace method will never work because the intermediate object on which we are setting values always behaves as a copy.\n",
            "\n",
            "For example, when doing 'df[col].method(value, inplace=True)', try using 'df.method({col: value}, inplace=True)' or df[col] = df[col].method(value) instead, to perform the operation inplace on the original object.\n",
            "\n",
            "\n",
            "  datav['TotalCharges'].fillna(0, inplace=True)\n"
          ]
        }
      ],
      "source": [
        "datav['TotalCharges'] = pd.to_numeric(data['TotalCharges'], errors='coerce')\n",
        "datav['TotalCharges'].fillna(0, inplace=True)"
      ]
    },
    {
      "cell_type": "code",
      "execution_count": null,
      "metadata": {
        "colab": {
          "base_uri": "https://localhost:8080/"
        },
        "id": "gpb45o2FElBm",
        "outputId": "82ce2b63-ac49-438a-8748-c03d530840f0"
      },
      "outputs": [
        {
          "data": {
            "text/plain": [
              "np.int64(0)"
            ]
          },
          "execution_count": 128,
          "metadata": {},
          "output_type": "execute_result"
        }
      ],
      "source": [
        "datav['TotalCharges'].isnull().sum()"
      ]
    },
    {
      "cell_type": "code",
      "execution_count": null,
      "metadata": {
        "colab": {
          "base_uri": "https://localhost:8080/"
        },
        "id": "ViQ4Il_gFZJp",
        "outputId": "9b4bc0ba-02b7-4ff9-9686-cd865084add1"
      },
      "outputs": [
        {
          "name": "stdout",
          "output_type": "stream",
          "text": [
            "<class 'pandas.core.frame.DataFrame'>\n",
            "RangeIndex: 7043 entries, 0 to 7042\n",
            "Data columns (total 21 columns):\n",
            " #   Column            Non-Null Count  Dtype  \n",
            "---  ------            --------------  -----  \n",
            " 0   customerID        7043 non-null   object \n",
            " 1   gender            7043 non-null   object \n",
            " 2   SeniorCitizen     7043 non-null   int64  \n",
            " 3   Partner           7043 non-null   object \n",
            " 4   Dependents        7043 non-null   object \n",
            " 5   tenure            7043 non-null   int64  \n",
            " 6   PhoneService      7043 non-null   object \n",
            " 7   MultipleLines     7043 non-null   object \n",
            " 8   InternetService   7043 non-null   object \n",
            " 9   OnlineSecurity    7043 non-null   object \n",
            " 10  OnlineBackup      7043 non-null   object \n",
            " 11  DeviceProtection  7043 non-null   object \n",
            " 12  TechSupport       7043 non-null   object \n",
            " 13  StreamingTV       7043 non-null   object \n",
            " 14  StreamingMovies   7043 non-null   object \n",
            " 15  Contract          7043 non-null   object \n",
            " 16  PaperlessBilling  7043 non-null   object \n",
            " 17  PaymentMethod     7043 non-null   object \n",
            " 18  MonthlyCharges    7043 non-null   float64\n",
            " 19  TotalCharges      7043 non-null   float64\n",
            " 20  Churn             7043 non-null   object \n",
            "dtypes: float64(2), int64(2), object(17)\n",
            "memory usage: 1.1+ MB\n"
          ]
        }
      ],
      "source": [
        "datav.info()"
      ]
    },
    {
      "cell_type": "markdown",
      "metadata": {
        "id": "fMk4dhX9LWHI"
      },
      "source": [
        "## Data Distribution"
      ]
    },
    {
      "cell_type": "markdown",
      "metadata": {
        "id": "ZKSTljWNGWBa"
      },
      "source": [
        "Untuk mendapatkan ke konsistenan di tahap EDA kolom `SeniorCitizen` kamu buat untuk memiliki value Yes atau No agar sama seperti kolom biner lainnya dan mempermudah pembuatan grafik nantinya"
      ]
    },
    {
      "cell_type": "code",
      "execution_count": null,
      "metadata": {
        "id": "noi_E0rsF_Vx"
      },
      "outputs": [],
      "source": [
        "datav['SeniorCitizen'] = datav['SeniorCitizen'].map({0: 'No', 1: 'Yes'})"
      ]
    },
    {
      "cell_type": "code",
      "execution_count": null,
      "metadata": {
        "colab": {
          "base_uri": "https://localhost:8080/"
        },
        "id": "cRA04zZgKuAc",
        "outputId": "202ce247-6920-4539-a566-dacbe71ea2c1"
      },
      "outputs": [
        {
          "name": "stdout",
          "output_type": "stream",
          "text": [
            "Index(['tenure', 'MonthlyCharges', 'TotalCharges'], dtype='object')\n",
            "Index(['gender', 'SeniorCitizen', 'Partner', 'Dependents', 'PhoneService',\n",
            "       'MultipleLines', 'InternetService', 'OnlineSecurity', 'OnlineBackup',\n",
            "       'DeviceProtection', 'TechSupport', 'StreamingTV', 'StreamingMovies',\n",
            "       'Contract', 'PaperlessBilling', 'PaymentMethod', 'Churn'],\n",
            "      dtype='object')\n"
          ]
        }
      ],
      "source": [
        "num_col = datav.select_dtypes(include=['int64', 'float64']).columns\n",
        "cat_col = datav.select_dtypes(include=['object']).columns.drop('customerID')\n",
        "\n",
        "print(num_col)\n",
        "print(cat_col)"
      ]
    },
    {
      "cell_type": "markdown",
      "metadata": {
        "id": "BIrRihjpjFef"
      },
      "source": [
        "### Analisis untuk Fitur Numerikal"
      ]
    },
    {
      "cell_type": "code",
      "execution_count": null,
      "metadata": {
        "colab": {
          "base_uri": "https://localhost:8080/",
          "height": 507
        },
        "id": "HyNpq4R-H40R",
        "outputId": "3897ad70-d7e9-4074-a45e-9faa0e672ba5"
      },
      "outputs": [
        {
          "data": {
            "image/png": "[encoded data removed]",
            "text/plain": [
              "<Figure size 800x500 with 3 Axes>"
            ]
          },
          "metadata": {},
          "output_type": "display_data"
        }
      ],
      "source": [
        "plt.figure(figsize=(8, 5))\n",
        "\n",
        "# Banyak subplot berdasarkan jumlah kolom\n",
        "for idx, col in enumerate(num_col):\n",
        "    plt.subplot(2, (len(num_col)+1)//2, idx+1)  # 2 baris, sisanya otomatis\n",
        "    sns.histplot(datav[col], kde=True, bins=30)\n",
        "    plt.title(col, fontsize=10)\n",
        "    plt.tight_layout()\n",
        "\n",
        "plt.show()"
      ]
    },
    {
      "cell_type": "markdown",
      "metadata": {
        "id": "msSrf_XSdqfS"
      },
      "source": [
        "Dari distribusi data numerik bisa dilihat bahwa\n",
        "\n",
        "- `Tenure`:\n",
        "\n",
        "  - Menunjukkan distribusi bimodal dengan puncak di nilai rendah (sekitar 0-1 bulan) dan nilai tinggi (sekitar 70 bulan)\n",
        "  - Mengindikasikan dua kelompok pelanggan yang dominan: pelanggan baru dan pelanggan loyal jangka panjang\n",
        "  - Distribusi cukup merata di antara kedua puncak tersebut\n",
        "\n",
        "\n",
        "- `MonthlyCharges` :\n",
        "\n",
        "  - Menunjukkan distribusi yang cukup merata dengan sedikit right-skewed\n",
        "  - Memiliki puncak di nilai rendah (sekitar 20) dan beberapa puncak kecil di sepanjang range nilai\n",
        "  - Range nilai berkisar antara 20-120\n",
        "\n",
        "\n",
        "- `TotalCharges` :\n",
        "\n",
        "  - Sangat right-skewed (distribusi ekor panjang ke kanan)\n",
        "  - Mayoritas nilai berada di range rendah dengan ekor yang memanjang ke nilai yang lebih tinggi\n",
        "  - Ini menunjukkan bahwa sebagian besar pelanggan memiliki total biaya yang relatif rendah, dengan beberapa pelanggan yang memiliki nilai ekstrem tinggi\n",
        "\n",
        "  Kondisi diatas membuat pemilihan scaler menjadi penting agar model tidak bias terhadap nilai ekstrem. Karena karakteristik RobustScaler yang menggunakan median dan IQR, ia lebih tahan terhadap outlier dibandingkan StandardScaler atau MinMaxScaler. Oleh karena itu, saya memilih menggunakan RobustScaler untuk menangani distribusi data numerik tersebut agar hasil preprocessing lebih stabil dan representatif."
      ]
    },
    {
      "cell_type": "markdown",
      "metadata": {
        "id": "3A9z6YQ-i_xO"
      },
      "source": [
        "### Analisis Untuk Fitur Kategorikal"
      ]
    },
    {
      "cell_type": "code",
      "execution_count": null,
      "metadata": {
        "colab": {
          "base_uri": "https://localhost:8080/",
          "height": 798
        },
        "id": "NIsux_m6LZ3m",
        "outputId": "4d10be7a-5af2-4a6a-b280-be47b04079ae"
      },
      "outputs": [
        {
          "data": {
            "image/png": "[encoded data removed]",
            "text/plain": [
              "<Figure size 1800x1000 with 17 Axes>"
            ]
          },
          "metadata": {},
          "output_type": "display_data"
        }
      ],
      "source": [
        "plt.figure(figsize=(18, 10))\n",
        "\n",
        "for idx, col in enumerate(cat_col):\n",
        "    plt.subplot((len(cat_col)+5)//6, 6, idx+1)  # 6 kolom per baris\n",
        "    ax = sns.countplot(x=datav[col], order=datav[col].value_counts().index)\n",
        "\n",
        "    # Tambahkan persentase di setiap bar\n",
        "    total = len(datav)\n",
        "    for p in ax.patches:\n",
        "        height = p.get_height()\n",
        "        percentage = f'{100 * height / total:.1f}%'\n",
        "        ax.annotate(percentage,\n",
        "                    (p.get_x() + p.get_width() / 2., height / 2),\n",
        "                    ha='center', va='center',\n",
        "                    fontsize=7, color='white', fontweight='bold')\n",
        "\n",
        "    plt.title(col, fontsize=9)\n",
        "    plt.xticks(rotation=45, fontsize=7)\n",
        "    plt.yticks(fontsize=7)\n",
        "    plt.tight_layout()\n",
        "\n",
        "plt.show()\n"
      ]
    },
    {
      "cell_type": "markdown",
      "metadata": {
        "id": "Mq2B9od8iwAE"
      },
      "source": [
        "1. Fitur Binary (2 kategori)\n",
        "\n",
        "    Contoh: `gender, SeniorCitizen, Partner, Dependents, PhoneService, PaperlessBilling, Churn.`\n",
        "\n",
        "    - Distribusi relatif seimbang untuk gender dan Partner.\n",
        "\n",
        "    - Distribusi timpang pada `SeniorCitizen` (hanya 16.2% adalah senior), `PhoneService` (90.3% punya layanan), Dependents (mayoritas tidak punya tanggungan), dan Churn (hanya 26.5% churn).\n",
        "\n",
        "    📌 Insight:\n",
        "\n",
        "    - Ketidakseimbangan seperti ini bisa menjadi faktor penting dalam modeling (dilakukan stratified split).\n",
        "\n",
        "    - Churn yang imbalanced perlu perhatian khusus di evaluasi (pakai metrik seperti recall dan F1-score).\n",
        "    \n",
        "2. Fitur Ternary atau Lebih (3+ kategori)\n",
        "    Contoh: `InternetService, OnlineSecurity, OnlineBackup, DeviceProtection, TechSupport, StreamingTV, StreamingMovies, Contract, PaymentMethod`, dll.\n",
        "\n",
        "    - Banyak fitur memiliki kategori \"**No internet service**\" atau \"**No phone service**\", yang pada dasarnya berarti tidak berlaku.\n",
        "\n",
        "    - Fitur seperti `Contract` dan `PaymentMethod` punya distribusi yang berbeda-beda tapi tetap valid untuk model.\n",
        "\n",
        "    📌 Insight:\n",
        "    \n",
        "    - Fitur seperti `OnlineSecurity`, `OnlineBackup`, `DeviceProtection`, `TechSupport`, `StreamingTV`, dan `StreamingMovies` hanya relevan bagi pelanggan yang memiliki layanan internet.\n",
        "     Ketika InternetService = No, maka semua fitur tersebut akan otomatis bernilai \"No internet service\".\n",
        "\n",
        "    - Beberapa fitur seperti `Contract` dan `PaymentMethod` bisa memberi sinyal kuat terhadap churn dan layak dipertahankan dengan one-hot encoding."
      ]
    },
    {
      "cell_type": "markdown",
      "metadata": {
        "id": "OR3Fm3cARKGn"
      },
      "source": [
        "## Outlier"
      ]
    },
    {
      "cell_type": "code",
      "execution_count": null,
      "metadata": {
        "colab": {
          "base_uri": "https://localhost:8080/",
          "height": 143
        },
        "id": "YzYEEDpyWvqe",
        "outputId": "9b86230f-910e-49a4-e180-cf57bd014e77"
      },
      "outputs": [
        {
          "data": {
            "application/vnd.google.colaboratory.intrinsic+json": {
              "summary": "{\n  \"name\": \"datav\",\n  \"rows\": 3,\n  \"fields\": [\n    {\n      \"column\": \"count\",\n      \"properties\": {\n        \"dtype\": \"number\",\n        \"std\": 0.0,\n        \"min\": 7043.0,\n        \"max\": 7043.0,\n        \"num_unique_values\": 1,\n        \"samples\": [\n          7043.0\n        ],\n        \"semantic_type\": \"\",\n        \"description\": \"\"\n      }\n    },\n    {\n      \"column\": \"mean\",\n      \"properties\": {\n        \"dtype\": \"number\",\n        \"std\": 1288.2671801876868,\n        \"min\": 32.37114865824223,\n        \"max\": 2279.7343035638223,\n        \"num_unique_values\": 3,\n        \"samples\": [\n          32.37114865824223\n        ],\n        \"semantic_type\": \"\",\n        \"description\": \"\"\n      }\n    },\n    {\n      \"column\": \"std\",\n      \"properties\": {\n        \"dtype\": \"number\",\n        \"std\": 1292.961394473842,\n        \"min\": 24.55948102309423,\n        \"max\": 2266.7944696890195,\n        \"num_unique_values\": 3,\n        \"samples\": [\n          24.55948102309423\n        ],\n        \"semantic_type\": \"\",\n        \"description\": \"\"\n      }\n    },\n    {\n      \"column\": \"min\",\n      \"properties\": {\n        \"dtype\": \"number\",\n        \"std\": 10.536642412710671,\n        \"min\": 0.0,\n        \"max\": 18.25,\n        \"num_unique_values\": 2,\n        \"samples\": [\n          18.25\n        ],\n        \"semantic_type\": \"\",\n        \"description\": \"\"\n      }\n    },\n    {\n      \"column\": \"25%\",\n      \"properties\": {\n        \"dtype\": \"number\",\n        \"std\": 217.6605748254225,\n        \"min\": 9.0,\n        \"max\": 398.55,\n        \"num_unique_values\": 3,\n        \"samples\": [\n          9.0\n        ],\n        \"semantic_type\": \"\",\n        \"description\": \"\"\n      }\n    },\n    {\n      \"column\": \"50%\",\n      \"properties\": {\n        \"dtype\": \"number\",\n        \"std\": 776.7391523757079,\n        \"min\": 29.0,\n        \"max\": 1394.55,\n        \"num_unique_values\": 3,\n        \"samples\": [\n          29.0\n        ],\n        \"semantic_type\": \"\",\n        \"description\": \"\"\n      }\n    },\n    {\n      \"column\": \"75%\",\n      \"properties\": {\n        \"dtype\": \"number\",\n        \"std\": 2144.450731733731,\n        \"min\": 55.0,\n        \"max\": 3786.6,\n        \"num_unique_values\": 3,\n        \"samples\": [\n          55.0\n        ],\n        \"semantic_type\": \"\",\n        \"description\": \"\"\n      }\n    },\n    {\n      \"column\": \"max\",\n      \"properties\": {\n        \"dtype\": \"number\",\n        \"std\": 4959.1619252483915,\n        \"min\": 72.0,\n        \"max\": 8684.8,\n        \"num_unique_values\": 3,\n        \"samples\": [\n          72.0\n        ],\n        \"semantic_type\": \"\",\n        \"description\": \"\"\n      }\n    }\n  ]\n}",
              "type": "dataframe"
            },
            "text/html": [
              "\n",
              "  <div id=\"df-083f536d-9290-4a12-8fc1-17b1f50606e5\" class=\"colab-df-container\">\n",
              "    <div>\n",
              "<style scoped>\n",
              "    .dataframe tbody tr th:only-of-type {\n",
              "        vertical-align: middle;\n",
              "    }\n",
              "\n",
              "    .dataframe tbody tr th {\n",
              "        vertical-align: top;\n",
              "    }\n",
              "\n",
              "    .dataframe thead th {\n",
              "        text-align: right;\n",
              "    }\n",
              "</style>\n",
              "<table border=\"1\" class=\"dataframe\">\n",
              "  <thead>\n",
              "    <tr style=\"text-align: right;\">\n",
              "      <th></th>\n",
              "      <th>count</th>\n",
              "      <th>mean</th>\n",
              "      <th>std</th>\n",
              "      <th>min</th>\n",
              "      <th>25%</th>\n",
              "      <th>50%</th>\n",
              "      <th>75%</th>\n",
              "      <th>max</th>\n",
              "    </tr>\n",
              "  </thead>\n",
              "  <tbody>\n",
              "    <tr>\n",
              "      <th>tenure</th>\n",
              "      <td>7043.0</td>\n",
              "      <td>32.371149</td>\n",
              "      <td>24.559481</td>\n",
              "      <td>0.00</td>\n",
              "      <td>9.00</td>\n",
              "      <td>29.00</td>\n",
              "      <td>55.00</td>\n",
              "      <td>72.00</td>\n",
              "    </tr>\n",
              "    <tr>\n",
              "      <th>MonthlyCharges</th>\n",
              "      <td>7043.0</td>\n",
              "      <td>64.761692</td>\n",
              "      <td>30.090047</td>\n",
              "      <td>18.25</td>\n",
              "      <td>35.50</td>\n",
              "      <td>70.35</td>\n",
              "      <td>89.85</td>\n",
              "      <td>118.75</td>\n",
              "    </tr>\n",
              "    <tr>\n",
              "      <th>TotalCharges</th>\n",
              "      <td>7043.0</td>\n",
              "      <td>2279.734304</td>\n",
              "      <td>2266.794470</td>\n",
              "      <td>0.00</td>\n",
              "      <td>398.55</td>\n",
              "      <td>1394.55</td>\n",
              "      <td>3786.60</td>\n",
              "      <td>8684.80</td>\n",
              "    </tr>\n",
              "  </tbody>\n",
              "</table>\n",
              "</div>\n",
              "    <div class=\"colab-df-buttons\">\n",
              "\n",
              "  <div class=\"colab-df-container\">\n",
              "    <button class=\"colab-df-convert\" onclick=\"convertToInteractive('df-083f536d-9290-4a12-8fc1-17b1f50606e5')\"\n",
              "            title=\"Convert this dataframe to an interactive table.\"\n",
              "            style=\"display:none;\">\n",
              "\n",
              "  <svg xmlns=\"http://www.w3.org/2000/svg\" height=\"24px\" viewBox=\"0 -960 960 960\">\n",
              "    <path d=\"M120-120v-720h720v720H120Zm60-500h600v-160H180v160Zm220 220h160v-160H400v160Zm0 220h160v-160H400v160ZM180-400h160v-160H180v160Zm440 0h160v-160H620v160ZM180-180h160v-160H180v160Zm440 0h160v-160H620v160Z\"/>\n",
              "  </svg>\n",
              "    </button>\n",
              "\n",
              "  <style>\n",
              "    .colab-df-container {\n",
              "      display:flex;\n",
              "      gap: 12px;\n",
              "    }\n",
              "\n",
              "    .colab-df-convert {\n",
              "      background-color: #E8F0FE;\n",
              "      border: none;\n",
              "      border-radius: 50%;\n",
              "      cursor: pointer;\n",
              "      display: none;\n",
              "      fill: #1967D2;\n",
              "      height: 32px;\n",
              "      padding: 0 0 0 0;\n",
              "      width: 32px;\n",
              "    }\n",
              "\n",
              "    .colab-df-convert:hover {\n",
              "      background-color: #E2EBFA;\n",
              "      box-shadow: 0px 1px 2px rgba(60, 64, 67, 0.3), 0px 1px 3px 1px rgba(60, 64, 67, 0.15);\n",
              "      fill: #174EA6;\n",
              "    }\n",
              "\n",
              "    .colab-df-buttons div {\n",
              "      margin-bottom: 4px;\n",
              "    }\n",
              "\n",
              "    [theme=dark] .colab-df-convert {\n",
              "      background-color: #3B4455;\n",
              "      fill: #D2E3FC;\n",
              "    }\n",
              "\n",
              "    [theme=dark] .colab-df-convert:hover {\n",
              "      background-color: #434B5C;\n",
              "      box-shadow: 0px 1px 3px 1px rgba(0, 0, 0, 0.15);\n",
              "      filter: drop-shadow(0px 1px 2px rgba(0, 0, 0, 0.3));\n",
              "      fill: #FFFFFF;\n",
              "    }\n",
              "  </style>\n",
              "\n",
              "    <script>\n",
              "      const buttonEl =\n",
              "        document.querySelector('#df-083f536d-9290-4a12-8fc1-17b1f50606e5 button.colab-df-convert');\n",
              "      buttonEl.style.display =\n",
              "        google.colab.kernel.accessAllowed ? 'block' : 'none';\n",
              "\n",
              "      async function convertToInteractive(key) {\n",
              "        const element = document.querySelector('#df-083f536d-9290-4a12-8fc1-17b1f50606e5');\n",
              "        const dataTable =\n",
              "          await google.colab.kernel.invokeFunction('convertToInteractive',\n",
              "                                                    [key], {});\n",
              "        if (!dataTable) return;\n",
              "\n",
              "        const docLinkHtml = 'Like what you see? Visit the ' +\n",
              "          '<a target=\"_blank\" href=https://colab.research.google.com/notebooks/data_table.ipynb>data table notebook</a>'\n",
              "          + ' to learn more about interactive tables.';\n",
              "        element.innerHTML = '';\n",
              "        dataTable['output_type'] = 'display_data';\n",
              "        await google.colab.output.renderOutput(dataTable, element);\n",
              "        const docLink = document.createElement('div');\n",
              "        docLink.innerHTML = docLinkHtml;\n",
              "        element.appendChild(docLink);\n",
              "      }\n",
              "    </script>\n",
              "  </div>\n",
              "\n",
              "\n",
              "    <div id=\"df-63210309-ed29-4b8c-820e-c0fd28d9e0f2\">\n",
              "      <button class=\"colab-df-quickchart\" onclick=\"quickchart('df-63210309-ed29-4b8c-820e-c0fd28d9e0f2')\"\n",
              "                title=\"Suggest charts\"\n",
              "                style=\"display:none;\">\n",
              "\n",
              "<svg xmlns=\"http://www.w3.org/2000/svg\" height=\"24px\"viewBox=\"0 0 24 24\"\n",
              "     width=\"24px\">\n",
              "    <g>\n",
              "        <path d=\"M19 3H5c-1.1 0-2 .9-2 2v14c0 1.1.9 2 2 2h14c1.1 0 2-.9 2-2V5c0-1.1-.9-2-2-2zM9 17H7v-7h2v7zm4 0h-2V7h2v10zm4 0h-2v-4h2v4z\"/>\n",
              "    </g>\n",
              "</svg>\n",
              "      </button>\n",
              "\n",
              "<style>\n",
              "  .colab-df-quickchart {\n",
              "      --bg-color: #E8F0FE;\n",
              "      --fill-color: #1967D2;\n",
              "      --hover-bg-color: #E2EBFA;\n",
              "      --hover-fill-color: #174EA6;\n",
              "      --disabled-fill-color: #AAA;\n",
              "      --disabled-bg-color: #DDD;\n",
              "  }\n",
              "\n",
              "  [theme=dark] .colab-df-quickchart {\n",
              "      --bg-color: #3B4455;\n",
              "      --fill-color: #D2E3FC;\n",
              "      --hover-bg-color: #434B5C;\n",
              "      --hover-fill-color: #FFFFFF;\n",
              "      --disabled-bg-color: #3B4455;\n",
              "      --disabled-fill-color: #666;\n",
              "  }\n",
              "\n",
              "  .colab-df-quickchart {\n",
              "    background-color: var(--bg-color);\n",
              "    border: none;\n",
              "    border-radius: 50%;\n",
              "    cursor: pointer;\n",
              "    display: none;\n",
              "    fill: var(--fill-color);\n",
              "    height: 32px;\n",
              "    padding: 0;\n",
              "    width: 32px;\n",
              "  }\n",
              "\n",
              "  .colab-df-quickchart:hover {\n",
              "    background-color: var(--hover-bg-color);\n",
              "    box-shadow: 0 1px 2px rgba(60, 64, 67, 0.3), 0 1px 3px 1px rgba(60, 64, 67, 0.15);\n",
              "    fill: var(--button-hover-fill-color);\n",
              "  }\n",
              "\n",
              "  .colab-df-quickchart-complete:disabled,\n",
              "  .colab-df-quickchart-complete:disabled:hover {\n",
              "    background-color: var(--disabled-bg-color);\n",
              "    fill: var(--disabled-fill-color);\n",
              "    box-shadow: none;\n",
              "  }\n",
              "\n",
              "  .colab-df-spinner {\n",
              "    border: 2px solid var(--fill-color);\n",
              "    border-color: transparent;\n",
              "    border-bottom-color: var(--fill-color);\n",
              "    animation:\n",
              "      spin 1s steps(1) infinite;\n",
              "  }\n",
              "\n",
              "  @keyframes spin {\n",
              "    0% {\n",
              "      border-color: transparent;\n",
              "      border-bottom-color: var(--fill-color);\n",
              "      border-left-color: var(--fill-color);\n",
              "    }\n",
              "    20% {\n",
              "      border-color: transparent;\n",
              "      border-left-color: var(--fill-color);\n",
              "      border-top-color: var(--fill-color);\n",
              "    }\n",
              "    30% {\n",
              "      border-color: transparent;\n",
              "      border-left-color: var(--fill-color);\n",
              "      border-top-color: var(--fill-color);\n",
              "      border-right-color: var(--fill-color);\n",
              "    }\n",
              "    40% {\n",
              "      border-color: transparent;\n",
              "      border-right-color: var(--fill-color);\n",
              "      border-top-color: var(--fill-color);\n",
              "    }\n",
              "    60% {\n",
              "      border-color: transparent;\n",
              "      border-right-color: var(--fill-color);\n",
              "    }\n",
              "    80% {\n",
              "      border-color: transparent;\n",
              "      border-right-color: var(--fill-color);\n",
              "      border-bottom-color: var(--fill-color);\n",
              "    }\n",
              "    90% {\n",
              "      border-color: transparent;\n",
              "      border-bottom-color: var(--fill-color);\n",
              "    }\n",
              "  }\n",
              "</style>\n",
              "\n",
              "      <script>\n",
              "        async function quickchart(key) {\n",
              "          const quickchartButtonEl =\n",
              "            document.querySelector('#' + key + ' button');\n",
              "          quickchartButtonEl.disabled = true;  // To prevent multiple clicks.\n",
              "          quickchartButtonEl.classList.add('colab-df-spinner');\n",
              "          try {\n",
              "            const charts = await google.colab.kernel.invokeFunction(\n",
              "                'suggestCharts', [key], {});\n",
              "          } catch (error) {\n",
              "            console.error('Error during call to suggestCharts:', error);\n",
              "          }\n",
              "          quickchartButtonEl.classList.remove('colab-df-spinner');\n",
              "          quickchartButtonEl.classList.add('colab-df-quickchart-complete');\n",
              "        }\n",
              "        (() => {\n",
              "          let quickchartButtonEl =\n",
              "            document.querySelector('#df-63210309-ed29-4b8c-820e-c0fd28d9e0f2 button');\n",
              "          quickchartButtonEl.style.display =\n",
              "            google.colab.kernel.accessAllowed ? 'block' : 'none';\n",
              "        })();\n",
              "      </script>\n",
              "    </div>\n",
              "\n",
              "    </div>\n",
              "  </div>\n"
            ],
            "text/plain": [
              "                 count         mean          std    min     25%      50%  \\\n",
              "tenure          7043.0    32.371149    24.559481   0.00    9.00    29.00   \n",
              "MonthlyCharges  7043.0    64.761692    30.090047  18.25   35.50    70.35   \n",
              "TotalCharges    7043.0  2279.734304  2266.794470   0.00  398.55  1394.55   \n",
              "\n",
              "                    75%      max  \n",
              "tenure            55.00    72.00  \n",
              "MonthlyCharges    89.85   118.75  \n",
              "TotalCharges    3786.60  8684.80  "
            ]
          },
          "execution_count": 134,
          "metadata": {},
          "output_type": "execute_result"
        }
      ],
      "source": [
        "datav.describe().T"
      ]
    },
    {
      "cell_type": "code",
      "execution_count": null,
      "metadata": {
        "colab": {
          "base_uri": "https://localhost:8080/",
          "height": 407
        },
        "id": "PN-YGK-QSiLG",
        "outputId": "7579c445-0f61-4ae6-ec8f-8f2292909745"
      },
      "outputs": [
        {
          "data": {
            "image/png": "[encoded data removed]",
            "text/plain": [
              "<Figure size 800x400 with 3 Axes>"
            ]
          },
          "metadata": {},
          "output_type": "display_data"
        }
      ],
      "source": [
        "plt.figure(figsize=(8, 4))\n",
        "\n",
        "for idx, col in enumerate(num_col):\n",
        "    plt.subplot(1, len(num_col), idx+1)\n",
        "    sns.boxplot(y=datav[col])\n",
        "    plt.title(col, fontsize=10)\n",
        "    plt.tight_layout()\n",
        "\n",
        "plt.show()"
      ]
    },
    {
      "cell_type": "code",
      "execution_count": null,
      "metadata": {
        "colab": {
          "base_uri": "https://localhost:8080/"
        },
        "id": "m0GqtQH5Llqd",
        "outputId": "6f661db5-72db-442a-c011-c45fbe47d302"
      },
      "outputs": [
        {
          "name": "stdout",
          "output_type": "stream",
          "text": [
            "Jumlah outlier di tenure (IQR method): 0\n",
            "Jumlah outlier di MonthlyCharges (IQR method): 0\n",
            "Jumlah outlier di TotalCharges (IQR method): 0\n"
          ]
        }
      ],
      "source": [
        "# Cek outlier pakai metode IQR\n",
        "for col in num_col:\n",
        "    Q1 = datav[col].quantile(0.25)\n",
        "    Q3 = datav[col].quantile(0.75)\n",
        "    IQR = Q3 - Q1\n",
        "\n",
        "    lower_bound = Q1 - 1.5 * IQR\n",
        "    upper_bound = Q3 + 1.5 * IQR\n",
        "\n",
        "    outliers_iqr = datav[(datav[col] < lower_bound) | (datav[col] > upper_bound)]\n",
        "\n",
        "    print(f\"Jumlah outlier di {col} (IQR method): {outliers_iqr.shape[0]}\")"
      ]
    },
    {
      "cell_type": "markdown",
      "metadata": {
        "id": "uQLuP_JPzvBQ"
      },
      "source": [
        "Dengan menggunkan metde IQR tidak di dapati outlier untuk semua kolom numerik"
      ]
    },
    {
      "cell_type": "markdown",
      "metadata": {
        "id": "vV9MhjcprUzJ"
      },
      "source": [
        "### Correlation Matrix"
      ]
    },
    {
      "cell_type": "code",
      "execution_count": null,
      "metadata": {
        "colab": {
          "base_uri": "https://localhost:8080/",
          "height": 545
        },
        "id": "hDDq0iRdsMO7",
        "outputId": "7bc3c5b9-8ee3-4cb4-fe42-6af79deb2d5e"
      },
      "outputs": [
        {
          "data": {
            "image/png": "[encoded data removed]",
            "text/plain": [
              "<Figure size 800x600 with 2 Axes>"
            ]
          },
          "metadata": {},
          "output_type": "display_data"
        }
      ],
      "source": [
        "# Menghitung korelasi\n",
        "correlation_matrix = datav[num_col].corr()\n",
        "\n",
        "# Membuat plot heatmap\n",
        "plt.figure(figsize=(8, 6))\n",
        "sns.heatmap(correlation_matrix, annot=True, cmap='coolwarm', vmin=-1, vmax=1, fmt=\".2f\")\n",
        "plt.title('Correlation Matrix')\n",
        "plt.show()"
      ]
    },
    {
      "cell_type": "markdown",
      "metadata": {
        "id": "Jj-2rYpLSFRy"
      },
      "source": [
        "Dari Correlation Matrix tidak di dapatkan kejangglan atau insight menarik, semua korelasi logis, semakin lama nasabah berlanggganan (`tenure`) maka semakin tinggi pula total tagihan suatu customer (`TotalCharges`) begitu juga dengan total tagihan perbulan dari seorang nasabah (`MonthlyCharges`) juga selaras dengan total tagihan nya selama terdaftar sebagai nasbaah"
      ]
    },
    {
      "cell_type": "markdown",
      "metadata": {
        "id": "KEdtJaHPaeBw"
      },
      "source": [
        "# **DATA PREPROCESSING**"
      ]
    },
    {
      "cell_type": "code",
      "execution_count": null,
      "metadata": {
        "id": "f_Hl9vqWm5dD"
      },
      "outputs": [],
      "source": [
        "# copy data dan drop atribut customerID\n",
        "data_final = datav.copy().drop('customerID', axis=1)"
      ]
    },
    {
      "cell_type": "markdown",
      "metadata": {
        "id": "d3htbnzgS5nA"
      },
      "source": [
        "Disini kita akan drop kolom customer id karena fitur ini tidak relevan untuk melakukan inferensi nantinya"
      ]
    },
    {
      "cell_type": "code",
      "execution_count": null,
      "metadata": {
        "colab": {
          "base_uri": "https://localhost:8080/"
        },
        "id": "gtQztYLZTUrh",
        "outputId": "3538acd3-2a06-404d-934d-b09eecfc9c7f"
      },
      "outputs": [
        {
          "data": {
            "text/plain": [
              "np.int64(0)"
            ]
          },
          "execution_count": 139,
          "metadata": {},
          "output_type": "execute_result"
        }
      ],
      "source": [
        "datav.duplicated().sum()"
      ]
    },
    {
      "cell_type": "markdown",
      "metadata": {
        "id": "I9d56InLtnzk"
      },
      "source": [
        "## Handling Duplicate"
      ]
    },
    {
      "cell_type": "code",
      "execution_count": null,
      "metadata": {
        "colab": {
          "base_uri": "https://localhost:8080/"
        },
        "id": "fSDwjk8Mz-87",
        "outputId": "d225cfc3-e3f6-4131-cb29-3d86449b545a"
      },
      "outputs": [
        {
          "data": {
            "text/plain": [
              "np.int64(22)"
            ]
          },
          "execution_count": 140,
          "metadata": {},
          "output_type": "execute_result"
        }
      ],
      "source": [
        "data_final.duplicated().sum()"
      ]
    },
    {
      "cell_type": "markdown",
      "metadata": {
        "id": "eXhkhORKTESA"
      },
      "source": [
        "Ditemukan 22 records duplikat karena kita sudah menghapus kolom id, tapi kami menetapkan untuk membiarkan duplikat ini tetap ada karena mereka adalah pelanggan berbeda dengan karakteristik yang sama, dan model perlu belajar dari semua kasus tersebut untuk menghasilkan prediksi akurat."
      ]
    },
    {
      "cell_type": "markdown",
      "metadata": {
        "id": "WWNvs3jifVyT"
      },
      "source": [
        "## Encoding"
      ]
    },
    {
      "cell_type": "code",
      "execution_count": null,
      "metadata": {
        "id": "zSCm-lP9ax9j"
      },
      "outputs": [],
      "source": [
        "# Encoding\n",
        "from sklearn.preprocessing import LabelEncoder\n",
        "\n",
        "# 1. Label Encoding untuk kolom binary\n",
        "label_encode_cols = ['SeniorCitizen', 'gender', 'Partner', 'Dependents', 'PhoneService', 'PaperlessBilling', 'Churn']\n",
        "\n",
        "le = LabelEncoder()\n",
        "for col in label_encode_cols:\n",
        "    data_final[col] = le.fit_transform(data_final[col])\n",
        "\n",
        "# One-Hot Encoding untuk kolom kategori banyak pilihan\n",
        "one_hot_encode_cols = [\n",
        "    'MultipleLines', 'InternetService', 'OnlineSecurity', 'OnlineBackup',\n",
        "    'DeviceProtection', 'TechSupport', 'StreamingTV', 'StreamingMovies',\n",
        "    'Contract', 'PaymentMethod'\n",
        "]\n",
        "\n",
        "# Gunakan get_dummies dan konversi boolean ke integer (0/1)\n",
        "data_final = pd.get_dummies(data_final, columns=one_hot_encode_cols, dtype=int)"
      ]
    },
    {
      "cell_type": "code",
      "execution_count": null,
      "metadata": {
        "colab": {
          "base_uri": "https://localhost:8080/"
        },
        "id": "E2xI3LIf24z8",
        "outputId": "4050864a-75fc-4a06-f916-d783e81708f8"
      },
      "outputs": [
        {
          "name": "stdout",
          "output_type": "stream",
          "text": [
            "<class 'pandas.core.frame.DataFrame'>\n",
            "RangeIndex: 7043 entries, 0 to 7042\n",
            "Data columns (total 41 columns):\n",
            " #   Column                                   Non-Null Count  Dtype  \n",
            "---  ------                                   --------------  -----  \n",
            " 0   gender                                   7043 non-null   int64  \n",
            " 1   SeniorCitizen                            7043 non-null   int64  \n",
            " 2   Partner                                  7043 non-null   int64  \n",
            " 3   Dependents                               7043 non-null   int64  \n",
            " 4   tenure                                   7043 non-null   int64  \n",
            " 5   PhoneService                             7043 non-null   int64  \n",
            " 6   PaperlessBilling                         7043 non-null   int64  \n",
            " 7   MonthlyCharges                           7043 non-null   float64\n",
            " 8   TotalCharges                             7043 non-null   float64\n",
            " 9   Churn                                    7043 non-null   int64  \n",
            " 10  MultipleLines_No                         7043 non-null   int64  \n",
            " 11  MultipleLines_No phone service           7043 non-null   int64  \n",
            " 12  MultipleLines_Yes                        7043 non-null   int64  \n",
            " 13  InternetService_DSL                      7043 non-null   int64  \n",
            " 14  InternetService_Fiber optic              7043 non-null   int64  \n",
            " 15  InternetService_No                       7043 non-null   int64  \n",
            " 16  OnlineSecurity_No                        7043 non-null   int64  \n",
            " 17  OnlineSecurity_No internet service       7043 non-null   int64  \n",
            " 18  OnlineSecurity_Yes                       7043 non-null   int64  \n",
            " 19  OnlineBackup_No                          7043 non-null   int64  \n",
            " 20  OnlineBackup_No internet service         7043 non-null   int64  \n",
            " 21  OnlineBackup_Yes                         7043 non-null   int64  \n",
            " 22  DeviceProtection_No                      7043 non-null   int64  \n",
            " 23  DeviceProtection_No internet service     7043 non-null   int64  \n",
            " 24  DeviceProtection_Yes                     7043 non-null   int64  \n",
            " 25  TechSupport_No                           7043 non-null   int64  \n",
            " 26  TechSupport_No internet service          7043 non-null   int64  \n",
            " 27  TechSupport_Yes                          7043 non-null   int64  \n",
            " 28  StreamingTV_No                           7043 non-null   int64  \n",
            " 29  StreamingTV_No internet service          7043 non-null   int64  \n",
            " 30  StreamingTV_Yes                          7043 non-null   int64  \n",
            " 31  StreamingMovies_No                       7043 non-null   int64  \n",
            " 32  StreamingMovies_No internet service      7043 non-null   int64  \n",
            " 33  StreamingMovies_Yes                      7043 non-null   int64  \n",
            " 34  Contract_Month-to-month                  7043 non-null   int64  \n",
            " 35  Contract_One year                        7043 non-null   int64  \n",
            " 36  Contract_Two year                        7043 non-null   int64  \n",
            " 37  PaymentMethod_Bank transfer (automatic)  7043 non-null   int64  \n",
            " 38  PaymentMethod_Credit card (automatic)    7043 non-null   int64  \n",
            " 39  PaymentMethod_Electronic check           7043 non-null   int64  \n",
            " 40  PaymentMethod_Mailed check               7043 non-null   int64  \n",
            "dtypes: float64(2), int64(39)\n",
            "memory usage: 2.2 MB\n"
          ]
        }
      ],
      "source": [
        "data_final.info()"
      ]
    },
    {
      "cell_type": "markdown",
      "metadata": {
        "id": "mWwjgR6ofakZ"
      },
      "source": [
        "## Scalling"
      ]
    },
    {
      "cell_type": "code",
      "execution_count": null,
      "metadata": {
        "colab": {
          "base_uri": "https://localhost:8080/"
        },
        "id": "KMlz4Skwa0B0",
        "outputId": "06d80101-8ef7-47d2-b390-657eaeb3885c"
      },
      "outputs": [
        {
          "name": "stdout",
          "output_type": "stream",
          "text": [
            "            tenure  MonthlyCharges  TotalCharges\n",
            "count  7043.000000     7043.000000   7043.000000\n",
            "mean      0.073286       -0.102821      0.261267\n",
            "std       0.533902        0.553635      0.669056\n",
            "min      -0.630435       -0.958602     -0.411608\n",
            "25%      -0.434783       -0.641214     -0.293974\n",
            "50%       0.000000        0.000000      0.000000\n",
            "75%       0.565217        0.358786      0.706026\n",
            "max       0.934783        0.890524      2.151754\n"
          ]
        }
      ],
      "source": [
        "import pandas as pd\n",
        "from sklearn.preprocessing import RobustScaler\n",
        "\n",
        "# Misal df adalah DataFrame kamu\n",
        "fitur_numerik = ['tenure', 'MonthlyCharges', 'TotalCharges']\n",
        "\n",
        "# Inisialisasi scaler\n",
        "scaler = RobustScaler()\n",
        "\n",
        "# Terapkan scaling hanya ke kolom numerik\n",
        "data_final[fitur_numerik] = scaler.fit_transform(data_final[fitur_numerik])\n",
        "\n",
        "# Jika ingin lihat hasilnya\n",
        "print(data_final[fitur_numerik].describe())"
      ]
    },
    {
      "cell_type": "markdown",
      "metadata": {
        "id": "cbch3Gf7VN27"
      },
      "source": [
        "Berdasarkan visualisasi distribusi fitur numerik di bagiian EDA diatas, kolom seperti `tenure`, `MonthlyCharges`, dan `TotalCharges`, terlihat bahwa ketiganya memiliki distribusi yang tidak simetris (skewed) — terutama pada `TotalCharges` dan `MonthlyCharges` yang memiliki ekor kanan panjang (right-skewed). Karena distribusi tidak simetris, penggunaan RobustScaler menjadi pilihan yang baik karena ia tidak bergantung pada mean dan standard deviation, melainkan pada median dan IQR, sehingga lebih stabil dalam mentransformasi data yang tidak terdistribusi normal. Ini penting untuk membantu model seperti SVM dan Decision Tree bekerja lebih optimal, terutama dalam menjaga struktur relatif antar data yang mungkin tersebar tidak merata."
      ]
    },
    {
      "cell_type": "code",
      "execution_count": null,
      "metadata": {
        "id": "N8_xZY6pa0Io"
      },
      "outputs": [],
      "source": [
        "# Menyimpan dataset yang sudah di lakukan preprocessing\n",
        "data_final.to_csv('data_final.csv', index=False)"
      ]
    },
    {
      "cell_type": "markdown",
      "metadata": {
        "id": "wDKO38ZOV5tB"
      },
      "source": [
        "# **MODELING**"
      ]
    },
    {
      "cell_type": "markdown",
      "metadata": {
        "id": "FVywax4OWJZB"
      },
      "source": [
        "## **Train-Test Split**"
      ]
    },
    {
      "cell_type": "code",
      "execution_count": null,
      "metadata": {
        "id": "B5p_K5ZyWI73"
      },
      "outputs": [],
      "source": [
        "from sklearn.model_selection import train_test_split\n",
        "\n",
        "# Split stratified berdasarkan kolom 'Churn'\n",
        "data_latih, data_uji = train_test_split(\n",
        "    data_final,\n",
        "    test_size=0.2,\n",
        "    random_state=42,\n",
        "    stratify=data_final[\"Churn\"]\n",
        ")\n",
        "\n",
        "# Reset index\n",
        "data_latih.reset_index(drop=True, inplace=True)\n",
        "data_uji.reset_index(drop=True, inplace=True)"
      ]
    },
    {
      "cell_type": "markdown",
      "metadata": {
        "id": "lh-OPjj3VwZ5"
      },
      "source": [
        "Disini kita lakukan stratify train test split mengingat perbedaan distribusi yang cukup jauh antara records churn dan non-churn agar proses traininng dan evaluasi mendapatkan hasil yang seimbang diantara dua kelas itu"
      ]
    },
    {
      "cell_type": "markdown",
      "metadata": {
        "id": "6_hAs8WoWOz7"
      },
      "source": [
        "## Decision Tree"
      ]
    },
    {
      "cell_type": "markdown",
      "metadata": {
        "id": "8xNgx1AaWawV"
      },
      "source": [
        "Untuk decision tree disini kita menggunakna gini index sebagai cara menentukan percabangan"
      ]
    },
    {
      "cell_type": "code",
      "execution_count": null,
      "metadata": {
        "id": "fVxDI0uVWI27"
      },
      "outputs": [],
      "source": [
        "# Hitung impurity Gini\n",
        "def hitung_gini(kolom_kelas):\n",
        "    elemen, banyak = np.unique(kolom_kelas, return_counts=True)\n",
        "    nilai_gini = 1 - np.sum([(banyak[i] / np.sum(banyak)) ** 2 for i in range(len(elemen))])\n",
        "    return nilai_gini"
      ]
    },
    {
      "cell_type": "markdown",
      "metadata": {
        "id": "Ey9uXn7iXEFn"
      },
      "source": [
        "Fungsi hitung_gini menerima nilai kelas pada variabel tertentu dengan nilai tertentu. Nilai dan frekuensi dari masing-masing kelas dihitung menggunakan fungsi np.unique dari library numpy, kemudian dilakukan kalkulasi nilai GINI."
      ]
    },
    {
      "cell_type": "code",
      "execution_count": null,
      "metadata": {
        "id": "WBx53torV7gk"
      },
      "outputs": [],
      "source": [
        "# Hitung nilai Gini split untuk fitur kategorikal\n",
        "def gini_split_kategorikal(data, nama_fitur_split, nama_fitur_kelas):\n",
        "    nilai, banyak = np.unique(data[nama_fitur_split], return_counts=True)\n",
        "    gini_split = np.sum([\n",
        "        (banyak[i] / np.sum(banyak)) * hitung_gini(\n",
        "            data[data[nama_fitur_split] == nilai[i]][nama_fitur_kelas]\n",
        "        )\n",
        "        for i in range(len(banyak))\n",
        "    ])\n",
        "    return gini_split"
      ]
    },
    {
      "cell_type": "markdown",
      "metadata": {
        "id": "3URNjbLjXQ3f"
      },
      "source": [
        "Fungsi `gini_split_kategorikal` digunakan untuk menghitung nilai *Gini split* dari sebuah fitur kategorikal terhadap label kelas, yang berguna dalam pemilihan fitur terbaik saat membangun pohon keputusan (*decision tree*). Fungsi ini bekerja dengan terlebih dahulu mencari semua nilai unik dari fitur kategorikal (`nama_fitur_split`) beserta jumlah kemunculannya. Kemudian, untuk setiap nilai unik tersebut, fungsi menghitung nilai Gini dari subset data yang memiliki nilai tersebut, lalu mengalikannya dengan proporsi jumlah data subset tersebut terhadap keseluruhan data. Hasil akhir dari fungsi ini adalah **nilai Gini split**, yaitu rata-rata tertimbang dari Gini impurity untuk setiap subset, yang menunjukkan seberapa baik fitur tersebut dalam membagi data berdasarkan kelas. Nilai ini digunakan untuk membandingkan fitur mana yang paling informatif saat membuat percabangan dalam decision tree."
      ]
    },
    {
      "cell_type": "code",
      "execution_count": null,
      "metadata": {
        "id": "gR8TqAfIRosZ"
      },
      "outputs": [],
      "source": [
        "# Hitung nilai Gini split untuk fitur numerik\n",
        "def gini_split_numerik(data, nama_fitur_split, nama_fitur_kelas, threshold):\n",
        "    data_kiri = data[data[nama_fitur_split] <= threshold]\n",
        "    data_kanan = data[data[nama_fitur_split] > threshold]\n",
        "    gini_kiri = hitung_gini(data_kiri[nama_fitur_kelas])\n",
        "    gini_kanan = hitung_gini(data_kanan[nama_fitur_kelas])\n",
        "    gini_split = (len(data_kiri) / len(data)) * gini_kiri + (len(data_kanan) / len(data)) * gini_kanan\n",
        "    return gini_split"
      ]
    },
    {
      "cell_type": "markdown",
      "metadata": {
        "id": "w9BVVnFDXZAM"
      },
      "source": [
        "Fungsi `gini_split_numerik` digunakan untuk menghitung nilai *Gini split* pada fitur numerik dengan menggunakan suatu nilai ambang batas (*threshold*) sebagai titik pemisah. Fungsi ini bekerja dengan membagi data menjadi dua subset, yaitu data yang nilai fiturnya kurang dari atau sama dengan threshold (`data_kiri`) dan data yang lebih besar dari threshold (`data_kanan`). Kemudian, fungsi menghitung nilai Gini impurity untuk masing-masing subset tersebut, dan menggabungkannya dengan cara rata-rata tertimbang berdasarkan proporsi jumlah data di masing-masing subset. Hasil akhirnya adalah **nilai Gini split untuk threshold tersebut**, yang menggambarkan seberapa baik threshold itu memisahkan data berdasarkan kelas, dan bisa digunakan untuk mencari threshold optimal dalam pembentukan decision tree."
      ]
    },
    {
      "cell_type": "code",
      "execution_count": null,
      "metadata": {
        "id": "4LkJBskVRvUb"
      },
      "outputs": [],
      "source": [
        "# Fungsi untuk mencari threshold terbaik untuk fitur numerik\n",
        "def cari_split_numerik_terbaik(data, nama_fitur_split, nama_fitur_kelas):\n",
        "    nilai_unik = np.unique(data[nama_fitur_split])\n",
        "    threshold_coba = (nilai_unik[:-1] + nilai_unik[1:]) / 2  # Ambil tengah-tengah\n",
        "    gini_splits = [gini_split_numerik(data, nama_fitur_split, nama_fitur_kelas, t) for t in threshold_coba]\n",
        "    if len(gini_splits) == 0:\n",
        "        return None, float('inf')\n",
        "    index_terbaik = np.argmin(gini_splits)\n",
        "    return threshold_coba[index_terbaik], gini_splits[index_terbaik]"
      ]
    },
    {
      "cell_type": "markdown",
      "metadata": {
        "id": "dcSJNb-WXg5V"
      },
      "source": [
        "Fungsi `cari_split_numerik_terbaik` digunakan untuk menentukan nilai *threshold* terbaik pada fitur numerik yang menghasilkan nilai *Gini split* paling kecil, yang berarti pemisahan data paling bersih berdasarkan kelas. Fungsi ini bekerja dengan terlebih dahulu mencari semua nilai unik dari fitur numerik yang diberikan, kemudian menghitung titik-titik tengah (*midpoints*) di antara pasangan nilai unik tersebut sebagai kandidat threshold. Untuk setiap kandidat threshold, dihitung nilai Gini split-nya menggunakan fungsi `gini_split_numerik`. Jika tidak ada threshold yang bisa dihitung (misalnya karena hanya ada satu nilai unik), fungsi akan mengembalikan `None` dan `inf` sebagai nilai default. Jika ada, fungsi mengembalikan threshold dengan nilai Gini split terkecil, yang bisa digunakan untuk membuat keputusan terbaik saat membagi node pada pohon keputusan."
      ]
    },
    {
      "cell_type": "markdown",
      "metadata": {
        "id": "Df2jPyw9tOKu"
      },
      "source": [
        "    \"\"\"\n",
        "    Membuat pohon keputusan dari data\n",
        "    \n",
        "    Parameters:\n",
        "    -----------\n",
        "    data : DataFrame\n",
        "        Data untuk membuat pohon\n",
        "    data_awal : DataFrame\n",
        "        Data asli (untuk kasus data kosong)\n",
        "    daftar_fitur : list\n",
        "        Daftar fitur yang digunakan\n",
        "    nama_fitur_kelas : str\n",
        "        Nama kolom kelas\n",
        "    kelas_parent_node : int, optional\n",
        "        Kelas mayoritas pada parent node\n",
        "    \n",
        "    Returns:\n",
        "    --------\n",
        "    dict or int\n",
        "        Pohon keputusan atau nilai prediksi (0 atau 1)\n",
        "    \"\"\""
      ]
    },
    {
      "cell_type": "code",
      "execution_count": null,
      "metadata": {
        "id": "FgTdRVqkWS4N"
      },
      "outputs": [],
      "source": [
        "# Memperbaiki fungsi pembuatan pohon keputusan\n",
        "def buat_tree(data, data_awal, daftar_fitur, nama_fitur_kelas, kelas_parent_node=None):\n",
        "    # Kasus 1: Data sudah homogen\n",
        "    if len(data) > 0 and len(np.unique(data[nama_fitur_kelas])) <= 1:\n",
        "        # Pastikan mengembalikan nilai integer (0 atau 1)\n",
        "        return int(np.unique(data[nama_fitur_kelas])[0])\n",
        "\n",
        "    # Kasus 2: Data kosong - ambil mayoritas dari data awal\n",
        "    elif len(data) == 0:\n",
        "        nilai, jumlah = np.unique(data_awal[nama_fitur_kelas], return_counts=True)\n",
        "        # Pastikan mengembalikan nilai integer (0 atau 1)\n",
        "        return int(nilai[np.argmax(jumlah)])\n",
        "\n",
        "    # Kasus 3: Tidak ada fitur yang tersisa\n",
        "    elif len(daftar_fitur) == 0:\n",
        "        # Jika parent node tidak ada, ambil mayoritas dari data saat ini\n",
        "        if kelas_parent_node is None:\n",
        "            nilai, jumlah = np.unique(data[nama_fitur_kelas], return_counts=True)\n",
        "            return int(nilai[np.argmax(jumlah)])\n",
        "        # Jika ada parent node, gunakan nilai parent\n",
        "        else:\n",
        "            return int(kelas_parent_node)\n",
        "\n",
        "    # Kasus normal: Pilih fitur terbaik dan buat split\n",
        "    else:\n",
        "        # Tentukan kelas mayoritas di node ini untuk digunakan sebagai nilai default\n",
        "        nilai, jumlah = np.unique(data[nama_fitur_kelas], return_counts=True)\n",
        "        kelas_parent_node = int(nilai[np.argmax(jumlah)])\n",
        "\n",
        "        # Pilih split terbaik\n",
        "        best_splits = []\n",
        "        for fitur in daftar_fitur:\n",
        "          # Cek apakah fitur numerik atau kategorikal\n",
        "            if (data[fitur].dtype in ['int64', 'float64', 'int32', 'float32']):\n",
        "                threshold, gini = cari_split_numerik_terbaik(data, fitur, nama_fitur_kelas)\n",
        "                if threshold is not None:  # Pastikan threshold valid\n",
        "                    best_splits.append((fitur, gini, threshold))\n",
        "            else:\n",
        "                gini = gini_split_kategorikal(data, fitur, nama_fitur_kelas)\n",
        "                best_splits.append((fitur, gini, None))\n",
        "\n",
        "        # Jika tidak ada split yang valid\n",
        "        if len(best_splits) == 0:\n",
        "            return kelas_parent_node\n",
        "\n",
        "        # Cari fitur dengan Gini terkecil\n",
        "        best_splits.sort(key=lambda x: x[1])\n",
        "        fitur_terbaik, gini_terbaik, threshold_terbaik = best_splits[0]\n",
        "\n",
        "        tree = {fitur_terbaik: {}}\n",
        "        daftar_fitur = [i for i in daftar_fitur if i != fitur_terbaik]\n",
        "\n",
        "        if threshold_terbaik is not None:  # fitur numerik\n",
        "            data_kiri = data[data[fitur_terbaik] <= threshold_terbaik]\n",
        "            data_kanan = data[data[fitur_terbaik] > threshold_terbaik]\n",
        "\n",
        "            # Gunakan string yang konsisten untuk kondisi\n",
        "            kondisi_kiri = f\"<= {threshold_terbaik:.5f}\"\n",
        "            kondisi_kanan = f\"> {threshold_terbaik:.5f}\"\n",
        "\n",
        "            tree[fitur_terbaik][kondisi_kiri] = buat_tree(\n",
        "                data_kiri, data_awal, daftar_fitur, nama_fitur_kelas, kelas_parent_node\n",
        "            )\n",
        "            tree[fitur_terbaik][kondisi_kanan] = buat_tree(\n",
        "                data_kanan, data_awal, daftar_fitur, nama_fitur_kelas, kelas_parent_node\n",
        "            )\n",
        "\n",
        "        else:  # fitur kategorikal\n",
        "            # Simpan semua nilai kategorikal yang ada\n",
        "            nilai_kategori = np.unique(data_awal[fitur_terbaik])\n",
        "\n",
        "            # Proses setiap nilai kategori\n",
        "            for nilai in nilai_kategori:\n",
        "                sub_data = data[data[fitur_terbaik] == nilai]\n",
        "                # Jika sub_data kosong, gunakan kelas mayoritas dari parent\n",
        "                if len(sub_data) == 0:\n",
        "                    tree[fitur_terbaik][int(nilai)] = kelas_parent_node\n",
        "                else:\n",
        "                    # Pastikan nilai kategori disimpan dengan tipe data yang konsisten (int)\n",
        "                    tree[fitur_terbaik][int(nilai)] = buat_tree(\n",
        "                        sub_data, data_awal, daftar_fitur, nama_fitur_kelas, kelas_parent_node\n",
        "                    )\n",
        "\n",
        "        return tree"
      ]
    },
    {
      "cell_type": "markdown",
      "metadata": {
        "id": "AV2CjfrOX9Xh"
      },
      "source": [
        "Fungsi `buat_tree` merupakan inti dari algoritma *decision tree* buatan sendiri yang bekerja secara rekursif untuk membentuk struktur pohon klasifikasi dari data yang diberikan. Fungsi ini menangani berbagai kondisi khusus, seperti data yang sudah homogen (semua nilai target sama), data kosong, atau tidak ada fitur yang tersisa. Dalam kasus-kasus tersebut, fungsi akan mengembalikan nilai kelas mayoritas (baik dari data awal maupun data saat ini) agar tetap bisa menghasilkan keputusan. Selain itu, fungsi juga menetapkan nilai kelas mayoritas pada setiap node sebagai fallback jika pada proses split tidak ditemukan pembagian yang valid.\n",
        "\n",
        "Pada kasus umum, fungsi akan memilih fitur terbaik berdasarkan nilai *Gini split* terkecil, baik dari fitur numerik maupun kategorikal. Untuk fitur numerik, digunakan threshold optimal untuk membagi data menjadi dua subset; sementara untuk fitur kategorikal, data dibagi berdasarkan setiap nilai kategorinya. Setelah pembagian, fungsi akan memanggil dirinya sendiri secara rekursif untuk masing-masing subset hingga kondisi berhenti tercapai. Struktur pohon akhir disimpan dalam bentuk nested dictionary, yang merepresentasikan jalur keputusan dari akar hingga ke daun pohon. Pendekatan ini mendekati logika pembentukan pohon pada algoritma seperti CART (*Classification and Regression Trees*), namun dibuat secara manual dan eksplisit agar lebih mudah dipahami."
      ]
    },
    {
      "cell_type": "code",
      "execution_count": null,
      "metadata": {
        "id": "WMGU_0iHSVbE"
      },
      "outputs": [],
      "source": [
        "fitur_input = list(data_latih.columns)\n",
        "fitur_input.remove(\"Churn\")  # Hapus label dari daftar fitur"
      ]
    },
    {
      "cell_type": "code",
      "execution_count": null,
      "metadata": {
        "id": "JQOijFjuWYPL"
      },
      "outputs": [],
      "source": [
        "tree = buat_tree(data_latih, data_latih, fitur_input, \"Churn\")"
      ]
    },
    {
      "cell_type": "markdown",
      "metadata": {
        "id": "ZL0Kgt55tVOb"
      },
      "source": [
        "    \"\"\"\n",
        "    Memprediksi kelas berdasarkan pohon keputusan\n",
        "    \n",
        "    Parameters:\n",
        "    -----------\n",
        "    data_uji : dict\n",
        "        Data uji dalam format dictionary\n",
        "    tree : dict or int\n",
        "        Pohon keputusan atau nilai prediksi langsung\n",
        "    \n",
        "    Returns:\n",
        "    --------\n",
        "    int\n",
        "        Hasil prediksi (0 atau 1)\n",
        "    \"\"\""
      ]
    },
    {
      "cell_type": "code",
      "execution_count": null,
      "metadata": {
        "id": "kSX0hUwqWc7Q"
      },
      "outputs": [],
      "source": [
        "# Fungsi prediksi yang sederhana\n",
        "def prediksi(data_uji, tree):\n",
        "    # Jika tree bukan dictionary, berarti sudah mencapai leaf node\n",
        "    if not isinstance(tree, dict):\n",
        "        return int(tree)  # Pastikan mengembalikan integer\n",
        "\n",
        "    # Ambil fitur yang digunakan di node ini\n",
        "    fitur = list(tree.keys())[0]\n",
        "\n",
        "    # Jika fitur tidak ada dalam data uji, gunakan prediksi default\n",
        "    if fitur not in data_uji:\n",
        "        # Ambil nilai pertama (default) dari sub-tree\n",
        "        first_value = list(tree[fitur].values())[0]\n",
        "        if isinstance(first_value, dict):\n",
        "            return prediksi(data_uji, first_value)\n",
        "        else:\n",
        "            return int(first_value)\n",
        "\n",
        "    # Nilai fitur dari data uji\n",
        "    nilai_fitur = data_uji[fitur]\n",
        "\n",
        "    # Periksa jenis node (numerik atau kategorikal)\n",
        "    for kondisi, subtree in tree[fitur].items():\n",
        "        # Jika kondisi berupa string dengan operator perbandingan (untuk fitur numerik)\n",
        "        if isinstance(kondisi, str):\n",
        "            if \"<=\" in kondisi:\n",
        "                threshold = float(kondisi.split('<=')[1])\n",
        "                if nilai_fitur <= threshold:\n",
        "                    return prediksi(data_uji, subtree)\n",
        "            elif \">\" in kondisi:\n",
        "                threshold = float(kondisi.split('>')[1])\n",
        "                if nilai_fitur > threshold:\n",
        "                    return prediksi(data_uji, subtree)\n",
        "        # Jika kondisi berupa nilai langsung (untuk fitur kategorikal)\n",
        "        elif kondisi == nilai_fitur:\n",
        "            return prediksi(data_uji, subtree)\n",
        "\n",
        "    # Jika tidak ada kondisi yang terpenuhi, ambil nilai default (subtree pertama)\n",
        "    first_value = list(tree[fitur].values())[0]\n",
        "    if isinstance(first_value, dict):\n",
        "        return prediksi(data_uji, first_value)\n",
        "    else:\n",
        "        return int(first_value)"
      ]
    },
    {
      "cell_type": "markdown",
      "metadata": {
        "id": "RZGN85y4Y6PB"
      },
      "source": [
        "Fungsi `prediksi` digunakan untuk melakukan klasifikasi terhadap satu instance data uji berdasarkan struktur decision tree yang telah dibentuk sebelumnya. Fungsi ini bekerja secara rekursif dengan memeriksa fitur yang digunakan pada setiap node dalam pohon. Jika node yang diakses sudah berupa nilai (leaf node), maka fungsi akan langsung mengembalikannya sebagai hasil prediksi. Untuk fitur numerik, fungsi akan membandingkan nilai fitur terhadap threshold menggunakan operator `<=` atau `>` yang terenkapsulasi dalam string kondisi; sedangkan untuk fitur kategorikal, fungsi akan mencocokkan nilai secara langsung. Jika fitur tidak ditemukan dalam data uji atau tidak ada kondisi yang cocok, fungsi akan memilih salah satu subtree sebagai default untuk menjaga agar proses prediksi tetap berjalan. Pendekatan ini membuat fungsi cukup tangguh dalam menghadapi berbagai struktur pohon dan variasi data uji."
      ]
    },
    {
      "cell_type": "code",
      "execution_count": null,
      "metadata": {
        "id": "hwjhRMVwWfXH"
      },
      "outputs": [],
      "source": [
        "data_uji_dict = data_uji.iloc[:,:-1].to_dict(orient=\"records\")"
      ]
    },
    {
      "cell_type": "markdown",
      "metadata": {
        "id": "7E-E6h2BZVO9"
      },
      "source": [
        "Lakukan pengujian menggunakan data uji. Kelas pada data uji perlu dihapus dan data uji perlu diubah menjadi dictionary."
      ]
    },
    {
      "cell_type": "code",
      "execution_count": null,
      "metadata": {
        "id": "Mo5kr-cRO0YL"
      },
      "outputs": [],
      "source": [
        "hasil_prediksi_dt = []\n",
        "for i in range(len(data_uji_dict)):\n",
        "  hasil_prediksi = (prediksi(data_uji_dict[i], tree))\n",
        "  hasil_prediksi_dt.append(hasil_prediksi)"
      ]
    },
    {
      "cell_type": "markdown",
      "metadata": {
        "id": "GwalcjsyZeGY"
      },
      "source": [
        "y_pred dari decision tree yang sudah dibuat selanjutnya akan disimpan di variabel hasil_prediksi_dt dalam bentuk list"
      ]
    },
    {
      "cell_type": "markdown",
      "metadata": {
        "id": "zNhFuSXiMh-v"
      },
      "source": [
        "## SVM"
      ]
    },
    {
      "cell_type": "code",
      "execution_count": null,
      "metadata": {
        "id": "5SNId5zjOg9w"
      },
      "outputs": [],
      "source": [
        "label_latih = data_latih['Churn']\n",
        "label_uji = data_uji['Churn']"
      ]
    },
    {
      "cell_type": "code",
      "execution_count": null,
      "metadata": {
        "id": "3SLttQtJPjiV"
      },
      "outputs": [],
      "source": [
        "def buat_trainingset(dataset):\n",
        "  trainingset = {}\n",
        "  kolom_kelas = dataset.columns[-1]\n",
        "  list_kelas = dataset[kolom_kelas].unique()\n",
        "  for kelas in list_kelas:\n",
        "    data_temp = dataset.copy(deep=True)\n",
        "    data_temp[kolom_kelas] = data_temp[kolom_kelas].map({kelas:1})\n",
        "    data_temp[kolom_kelas] = data_temp[kolom_kelas].fillna(-1)\n",
        "    trainingset[kelas] = data_temp\n",
        "  return trainingset"
      ]
    },
    {
      "cell_type": "code",
      "execution_count": null,
      "metadata": {
        "id": "8J_kSR62Phmb"
      },
      "outputs": [],
      "source": [
        "trainingset = buat_trainingset(data_latih)"
      ]
    },
    {
      "cell_type": "markdown",
      "metadata": {
        "id": "UTdRbqXibTd8"
      },
      "source": [
        "Fungsi `buat_trainingset` bertujuan untuk memodifikasi dataset sehingga menghasilkan dictionary `trainingset` yang dapat digunakan dalam proses pelatihan model. Fungsi ini pertama-tama mengambil kolom kelas dari dataset dan memperoleh daftar kelas unik. Selanjutnya, untuk setiap kelas, fungsi ini menyalin dataset dan memodifikasi nilai pada kolom kelas: kelas yang sesuai dengan key akan diberi nilai 1, sementara kelas lainnya akan diberi nilai -1. Dictionary `trainingset` ini kemudian menyimpan hasil modifikasi dataset untuk setiap kelas, yang digunakan sebagai data latih dalam proses pelatihan model. Fungsi ini akan menghasilkan dictionary dengan key berupa kelas dan value berupa dataset yang sudah dimodifikasi sesuai dengan kelas tersebut."
      ]
    },
    {
      "cell_type": "code",
      "execution_count": null,
      "metadata": {
        "id": "sIqYDdqtPOdM"
      },
      "outputs": [],
      "source": [
        "def hitung_cost_gradient(W,X,Y, regularization):\n",
        "  jarak = 1 - (Y * np.dot(X,W))\n",
        "  dw = np.zeros(len(W))\n",
        "  if max(0,jarak) == 0:\n",
        "    di = W\n",
        "  else:\n",
        "    di = W - (regularization * Y * X)\n",
        "  dw += di\n",
        "  return dw"
      ]
    },
    {
      "cell_type": "markdown",
      "metadata": {
        "id": "CRWCSiuSbg-K"
      },
      "source": [
        "Fungsi `hitung_cost_gradient` digunakan untuk menghitung nilai gradien dari cost function dalam algoritma Support Vector Machine (SVM). Tujuan dari algoritma SVM adalah meminimalkan cost function, dan untuk itu diperlukan perhitungan gradien untuk memperbarui parameter model. Fungsi ini pertama-tama menghitung jarak antara data dan margin dengan rumus `1 - (Y * np.dot(X, W))`. Jika jarak tersebut lebih besar dari 0, maka gradien diperbarui dengan mengurangkan nilai regularisasi yang disesuaikan dengan data dan bobot. Sebaliknya, jika jarak sama dengan atau lebih kecil dari 0, gradien akan tetap sama dengan bobot `W`. Fungsi ini mengembalikan gradien yang akan digunakan untuk memperbarui parameter model dalam proses optimasi."
      ]
    },
    {
      "cell_type": "code",
      "execution_count": null,
      "metadata": {
        "id": "f2eQeF6-PZ5W"
      },
      "outputs": [],
      "source": [
        "from sklearn.utils import shuffle\n",
        "\n",
        "def sgd(data_latih, label_latih, learning_rate=0.000001, max_epoch=1000, regularization=10000):\n",
        "  data_latih = data_latih.to_numpy()\n",
        "  label_latih = label_latih.to_numpy()\n",
        "  bobot = np.zeros(data_latih.shape[1])\n",
        "\n",
        "  for epoch in range(1, max_epoch):\n",
        "    X,Y = shuffle(data_latih, label_latih, random_state=101)\n",
        "    for index, x in enumerate(X):\n",
        "      delta = hitung_cost_gradient(bobot, x, Y[index], regularization)\n",
        "      bobot = bobot - (learning_rate * delta)\n",
        "  return bobot"
      ]
    },
    {
      "cell_type": "markdown",
      "metadata": {
        "id": "CHKSYUhCcNJ1"
      },
      "source": [
        "Fungsi `sgd` merupakan implementasi dari algoritma Stochastic Gradient Descent (SGD) yang digunakan untuk melakukan optimasi pada model dengan meminimalkan cost function. Fungsi ini menerima input berupa data latih (`data_latih`), label latih (`label_latih`), laju pembelajaran (`learning_rate`), jumlah iterasi maksimum (`max_epoch`), dan parameter regularisasi. Dalam setiap epoch, data dan label akan di-shuffle menggunakan `shuffle` dari `sklearn.utils` untuk memastikan bahwa model tidak terjebak pada urutan data tertentu. Kemudian, untuk setiap data individu, gradien dihitung menggunakan fungsi `hitung_cost_gradient`, dan bobot model diperbarui dengan mengurangkan nilai gradien yang telah dihitung dikalikan dengan laju pembelajaran. Proses ini diulang selama jumlah epoch yang ditentukan. Hasil akhirnya adalah bobot model yang teroptimasi yang akan digunakan untuk prediksi."
      ]
    },
    {
      "cell_type": "code",
      "execution_count": null,
      "metadata": {
        "id": "xiAKhm1hPbuh"
      },
      "outputs": [],
      "source": [
        "def training(trainingset):\n",
        "  list_kelas = trainingset.keys()\n",
        "  w = {}\n",
        "  for kelas in list_kelas:\n",
        "    data_latih = trainingset[kelas]\n",
        "    label_latih = data_latih.pop(data_latih.columns[-1])\n",
        "    w[kelas] = sgd(data_latih, label_latih)\n",
        "\n",
        "  return w"
      ]
    },
    {
      "cell_type": "code",
      "execution_count": null,
      "metadata": {
        "id": "IuvGr7n5PdIQ"
      },
      "outputs": [],
      "source": [
        "W = training(trainingset)"
      ]
    },
    {
      "cell_type": "markdown",
      "metadata": {
        "id": "d3aTWu3kcW1I"
      },
      "source": [
        "Fungsi `training` digunakan untuk melatih model pada setiap kelas yang ada dalam `trainingset`. Fungsi ini pertama-tama mengambil daftar kelas yang terdapat dalam `trainingset` dan kemudian untuk setiap kelas, mengambil dataset yang terkait. Label latih diambil dari kolom terakhir dataset dan kemudian dihapus dari data latih. Selanjutnya, fungsi `sgd` dipanggil untuk menghitung bobot model dengan data latih dan label latih yang telah dipisahkan, dan hasil bobot untuk setiap kelas disimpan dalam dictionary `w`. Setelah proses pelatihan selesai untuk semua kelas, dictionary `w` yang berisi bobot model untuk setiap kelas dikembalikan. Hasil akhir dari fungsi ini adalah dictionary `W`, yang berisi bobot model yang sudah dilatih untuk setiap kelas dalam `trainingset`."
      ]
    },
    {
      "cell_type": "code",
      "execution_count": null,
      "metadata": {
        "id": "WXF15Jc3PexR"
      },
      "outputs": [],
      "source": [
        "def testing(W, data_uji):\n",
        "    prediksi = np.array([]).astype(int)\n",
        "    # Drop kolom target (jika masih ada)\n",
        "    if 'Churn' in data_uji.columns:\n",
        "        data_uji = data_uji.drop(columns='Churn')\n",
        "\n",
        "    data_uji_np = data_uji.to_numpy()\n",
        "\n",
        "    for i in range(data_uji_np.shape[0]):\n",
        "        skor = {}\n",
        "        for kelas in W:\n",
        "            skor[kelas] = np.dot(W[kelas], data_uji_np[i])\n",
        "        prediksi = np.append(prediksi, max(skor, key=skor.get))  # kelas dengan skor tertinggi\n",
        "\n",
        "    return prediksi"
      ]
    },
    {
      "cell_type": "code",
      "execution_count": null,
      "metadata": {
        "id": "GEa_kWVtPoeT"
      },
      "outputs": [],
      "source": [
        "hasil_prediksi_svm = testing(W, data_uji)"
      ]
    },
    {
      "cell_type": "markdown",
      "metadata": {
        "id": "1pHvRf2Jcb2W"
      },
      "source": [
        "Fungsi `testing` digunakan untuk melakukan prediksi pada data uji berdasarkan bobot model yang telah dilatih sebelumnya. Fungsi ini pertama-tama memeriksa apakah ada kolom target yang bernama 'Churn' dalam `data_uji` dan jika ada, kolom tersebut dihapus. Kemudian, data uji diubah menjadi array numpy untuk memudahkan perhitungan. Untuk setiap baris data uji, fungsi menghitung skor untuk setiap kelas dengan cara mengalikan bobot kelas yang relevan dengan data uji tersebut menggunakan operasi dot product (`np.dot`). Kelas dengan skor tertinggi akan dipilih sebagai prediksi untuk baris data tersebut. Prediksi untuk semua data uji akan disimpan dalam array `prediksi`, yang kemudian dikembalikan sebagai hasil akhir. Hasil dari fungsi ini adalah array yang berisi prediksi kelas untuk setiap data uji berdasarkan model yang sudah dilatih."
      ]
    },
    {
      "cell_type": "markdown",
      "metadata": {
        "id": "a6h2jGBFxu-b"
      },
      "source": [
        "## Random Forest\n"
      ]
    },
    {
      "cell_type": "code",
      "execution_count": null,
      "metadata": {
        "colab": {
          "base_uri": "https://localhost:8080/"
        },
        "id": "p0EiS6frx0J6",
        "outputId": "3bd948bb-98e1-434b-a9f2-aec3f58c4048"
      },
      "outputs": [
        {
          "name": "stdout",
          "output_type": "stream",
          "text": [
            "--2025-05-01 03:02:28--  https://raw.githubusercontent.com/Muzann11/KA-lanjutan/main/data_final.csv\n",
            "Resolving raw.githubusercontent.com (raw.githubusercontent.com)... 185.199.108.133, 185.199.111.133, 185.199.110.133, ...\n",
            "Connecting to raw.githubusercontent.com (raw.githubusercontent.com)|185.199.108.133|:443... connected.\n",
            "HTTP request sent, awaiting response... 200 OK\n",
            "Length: 951539 (929K) [text/plain]\n",
            "Saving to: ‘data_final.csv’\n",
            "\n",
            "\rdata_final.csv        0%[                    ]       0  --.-KB/s               \rdata_final.csv      100%[===================>] 929.24K  --.-KB/s    in 0.01s   \n",
            "\n",
            "2025-05-01 03:02:28 (70.7 MB/s) - ‘data_final.csv’ saved [951539/951539]\n",
            "\n"
          ]
        }
      ],
      "source": [
        "! wget https://raw.githubusercontent.com/Muzann11/KA-lanjutan/main/data_final.csv"
      ]
    },
    {
      "cell_type": "code",
      "execution_count": null,
      "metadata": {
        "id": "T2sB8Sb5yo4I"
      },
      "outputs": [],
      "source": [
        "data_final = pd.read_csv('data_final.csv')"
      ]
    },
    {
      "cell_type": "code",
      "execution_count": null,
      "metadata": {
        "id": "NAJzTq97yjky"
      },
      "outputs": [],
      "source": [
        "from sklearn.model_selection import train_test_split\n",
        "\n",
        "# Split stratified berdasarkan kolom 'Churn'\n",
        "data_latih, data_uji = train_test_split(\n",
        "    data_final,\n",
        "    test_size=0.2,\n",
        "    random_state=42,\n",
        "    stratify=data_final[\"Churn\"]\n",
        ")\n",
        "\n",
        "# Reset index\n",
        "data_latih.reset_index(drop=True, inplace=True)\n",
        "data_uji.reset_index(drop=True, inplace=True)"
      ]
    },
    {
      "cell_type": "code",
      "execution_count": null,
      "metadata": {
        "id": "qeeWyKDrzebN"
      },
      "outputs": [],
      "source": [
        "X_train = data_latih.drop(columns=[\"Churn\"])\n",
        "y_train = data_latih[\"Churn\"]\n",
        "X_test = data_uji.drop(columns=[\"Churn\"])\n",
        "y_test = data_uji[\"Churn\"]"
      ]
    },
    {
      "cell_type": "code",
      "execution_count": null,
      "metadata": {
        "colab": {
          "base_uri": "https://localhost:8080/",
          "height": 81
        },
        "id": "CyUtk3gszPOu",
        "outputId": "e77f2e80-35f6-422d-d2b2-4425c02d744d"
      },
      "outputs": [
        {
          "data": {
            "text/html": [
              "<style>#sk-container-id-1 {\n",
              "  /* Definition of color scheme common for light and dark mode */\n",
              "  --sklearn-color-text: #000;\n",
              "  --sklearn-color-text-muted: #666;\n",
              "  --sklearn-color-line: gray;\n",
              "  /* Definition of color scheme for unfitted estimators */\n",
              "  --sklearn-color-unfitted-level-0: #fff5e6;\n",
              "  --sklearn-color-unfitted-level-1: #f6e4d2;\n",
              "  --sklearn-color-unfitted-level-2: #ffe0b3;\n",
              "  --sklearn-color-unfitted-level-3: chocolate;\n",
              "  /* Definition of color scheme for fitted estimators */\n",
              "  --sklearn-color-fitted-level-0: #f0f8ff;\n",
              "  --sklearn-color-fitted-level-1: #d4ebff;\n",
              "  --sklearn-color-fitted-level-2: #b3dbfd;\n",
              "  --sklearn-color-fitted-level-3: cornflowerblue;\n",
              "\n",
              "  /* Specific color for light theme */\n",
              "  --sklearn-color-text-on-default-background: var(--sg-text-color, var(--theme-code-foreground, var(--jp-content-font-color1, black)));\n",
              "  --sklearn-color-background: var(--sg-background-color, var(--theme-background, var(--jp-layout-color0, white)));\n",
              "  --sklearn-color-border-box: var(--sg-text-color, var(--theme-code-foreground, var(--jp-content-font-color1, black)));\n",
              "  --sklearn-color-icon: #696969;\n",
              "\n",
              "  @media (prefers-color-scheme: dark) {\n",
              "    /* Redefinition of color scheme for dark theme */\n",
              "    --sklearn-color-text-on-default-background: var(--sg-text-color, var(--theme-code-foreground, var(--jp-content-font-color1, white)));\n",
              "    --sklearn-color-background: var(--sg-background-color, var(--theme-background, var(--jp-layout-color0, #111)));\n",
              "    --sklearn-color-border-box: var(--sg-text-color, var(--theme-code-foreground, var(--jp-content-font-color1, white)));\n",
              "    --sklearn-color-icon: #878787;\n",
              "  }\n",
              "}\n",
              "\n",
              "#sk-container-id-1 {\n",
              "  color: var(--sklearn-color-text);\n",
              "}\n",
              "\n",
              "#sk-container-id-1 pre {\n",
              "  padding: 0;\n",
              "}\n",
              "\n",
              "#sk-container-id-1 input.sk-hidden--visually {\n",
              "  border: 0;\n",
              "  clip: rect(1px 1px 1px 1px);\n",
              "  clip: rect(1px, 1px, 1px, 1px);\n",
              "  height: 1px;\n",
              "  margin: -1px;\n",
              "  overflow: hidden;\n",
              "  padding: 0;\n",
              "  position: absolute;\n",
              "  width: 1px;\n",
              "}\n",
              "\n",
              "#sk-container-id-1 div.sk-dashed-wrapped {\n",
              "  border: 1px dashed var(--sklearn-color-line);\n",
              "  margin: 0 0.4em 0.5em 0.4em;\n",
              "  box-sizing: border-box;\n",
              "  padding-bottom: 0.4em;\n",
              "  background-color: var(--sklearn-color-background);\n",
              "}\n",
              "\n",
              "#sk-container-id-1 div.sk-container {\n",
              "  /* jupyter's `normalize.less` sets `[hidden] { display: none; }`\n",
              "     but bootstrap.min.css set `[hidden] { display: none !important; }`\n",
              "     so we also need the `!important` here to be able to override the\n",
              "     default hidden behavior on the sphinx rendered scikit-learn.org.\n",
              "     See: https://github.com/scikit-learn/scikit-learn/issues/21755 */\n",
              "  display: inline-block !important;\n",
              "  position: relative;\n",
              "}\n",
              "\n",
              "#sk-container-id-1 div.sk-text-repr-fallback {\n",
              "  display: none;\n",
              "}\n",
              "\n",
              "div.sk-parallel-item,\n",
              "div.sk-serial,\n",
              "div.sk-item {\n",
              "  /* draw centered vertical line to link estimators */\n",
              "  background-image: linear-gradient(var(--sklearn-color-text-on-default-background), var(--sklearn-color-text-on-default-background));\n",
              "  background-size: 2px 100%;\n",
              "  background-repeat: no-repeat;\n",
              "  background-position: center center;\n",
              "}\n",
              "\n",
              "/* Parallel-specific style estimator block */\n",
              "\n",
              "#sk-container-id-1 div.sk-parallel-item::after {\n",
              "  content: \"\";\n",
              "  width: 100%;\n",
              "  border-bottom: 2px solid var(--sklearn-color-text-on-default-background);\n",
              "  flex-grow: 1;\n",
              "}\n",
              "\n",
              "#sk-container-id-1 div.sk-parallel {\n",
              "  display: flex;\n",
              "  align-items: stretch;\n",
              "  justify-content: center;\n",
              "  background-color: var(--sklearn-color-background);\n",
              "  position: relative;\n",
              "}\n",
              "\n",
              "#sk-container-id-1 div.sk-parallel-item {\n",
              "  display: flex;\n",
              "  flex-direction: column;\n",
              "}\n",
              "\n",
              "#sk-container-id-1 div.sk-parallel-item:first-child::after {\n",
              "  align-self: flex-end;\n",
              "  width: 50%;\n",
              "}\n",
              "\n",
              "#sk-container-id-1 div.sk-parallel-item:last-child::after {\n",
              "  align-self: flex-start;\n",
              "  width: 50%;\n",
              "}\n",
              "\n",
              "#sk-container-id-1 div.sk-parallel-item:only-child::after {\n",
              "  width: 0;\n",
              "}\n",
              "\n",
              "/* Serial-specific style estimator block */\n",
              "\n",
              "#sk-container-id-1 div.sk-serial {\n",
              "  display: flex;\n",
              "  flex-direction: column;\n",
              "  align-items: center;\n",
              "  background-color: var(--sklearn-color-background);\n",
              "  padding-right: 1em;\n",
              "  padding-left: 1em;\n",
              "}\n",
              "\n",
              "\n",
              "/* Toggleable style: style used for estimator/Pipeline/ColumnTransformer box that is\n",
              "clickable and can be expanded/collapsed.\n",
              "- Pipeline and ColumnTransformer use this feature and define the default style\n",
              "- Estimators will overwrite some part of the style using the `sk-estimator` class\n",
              "*/\n",
              "\n",
              "/* Pipeline and ColumnTransformer style (default) */\n",
              "\n",
              "#sk-container-id-1 div.sk-toggleable {\n",
              "  /* Default theme specific background. It is overwritten whether we have a\n",
              "  specific estimator or a Pipeline/ColumnTransformer */\n",
              "  background-color: var(--sklearn-color-background);\n",
              "}\n",
              "\n",
              "/* Toggleable label */\n",
              "#sk-container-id-1 label.sk-toggleable__label {\n",
              "  cursor: pointer;\n",
              "  display: flex;\n",
              "  width: 100%;\n",
              "  margin-bottom: 0;\n",
              "  padding: 0.5em;\n",
              "  box-sizing: border-box;\n",
              "  text-align: center;\n",
              "  align-items: start;\n",
              "  justify-content: space-between;\n",
              "  gap: 0.5em;\n",
              "}\n",
              "\n",
              "#sk-container-id-1 label.sk-toggleable__label .caption {\n",
              "  font-size: 0.6rem;\n",
              "  font-weight: lighter;\n",
              "  color: var(--sklearn-color-text-muted);\n",
              "}\n",
              "\n",
              "#sk-container-id-1 label.sk-toggleable__label-arrow:before {\n",
              "  /* Arrow on the left of the label */\n",
              "  content: \"▸\";\n",
              "  float: left;\n",
              "  margin-right: 0.25em;\n",
              "  color: var(--sklearn-color-icon);\n",
              "}\n",
              "\n",
              "#sk-container-id-1 label.sk-toggleable__label-arrow:hover:before {\n",
              "  color: var(--sklearn-color-text);\n",
              "}\n",
              "\n",
              "/* Toggleable content - dropdown */\n",
              "\n",
              "#sk-container-id-1 div.sk-toggleable__content {\n",
              "  max-height: 0;\n",
              "  max-width: 0;\n",
              "  overflow: hidden;\n",
              "  text-align: left;\n",
              "  /* unfitted */\n",
              "  background-color: var(--sklearn-color-unfitted-level-0);\n",
              "}\n",
              "\n",
              "#sk-container-id-1 div.sk-toggleable__content.fitted {\n",
              "  /* fitted */\n",
              "  background-color: var(--sklearn-color-fitted-level-0);\n",
              "}\n",
              "\n",
              "#sk-container-id-1 div.sk-toggleable__content pre {\n",
              "  margin: 0.2em;\n",
              "  border-radius: 0.25em;\n",
              "  color: var(--sklearn-color-text);\n",
              "  /* unfitted */\n",
              "  background-color: var(--sklearn-color-unfitted-level-0);\n",
              "}\n",
              "\n",
              "#sk-container-id-1 div.sk-toggleable__content.fitted pre {\n",
              "  /* unfitted */\n",
              "  background-color: var(--sklearn-color-fitted-level-0);\n",
              "}\n",
              "\n",
              "#sk-container-id-1 input.sk-toggleable__control:checked~div.sk-toggleable__content {\n",
              "  /* Expand drop-down */\n",
              "  max-height: 200px;\n",
              "  max-width: 100%;\n",
              "  overflow: auto;\n",
              "}\n",
              "\n",
              "#sk-container-id-1 input.sk-toggleable__control:checked~label.sk-toggleable__label-arrow:before {\n",
              "  content: \"▾\";\n",
              "}\n",
              "\n",
              "/* Pipeline/ColumnTransformer-specific style */\n",
              "\n",
              "#sk-container-id-1 div.sk-label input.sk-toggleable__control:checked~label.sk-toggleable__label {\n",
              "  color: var(--sklearn-color-text);\n",
              "  background-color: var(--sklearn-color-unfitted-level-2);\n",
              "}\n",
              "\n",
              "#sk-container-id-1 div.sk-label.fitted input.sk-toggleable__control:checked~label.sk-toggleable__label {\n",
              "  background-color: var(--sklearn-color-fitted-level-2);\n",
              "}\n",
              "\n",
              "/* Estimator-specific style */\n",
              "\n",
              "/* Colorize estimator box */\n",
              "#sk-container-id-1 div.sk-estimator input.sk-toggleable__control:checked~label.sk-toggleable__label {\n",
              "  /* unfitted */\n",
              "  background-color: var(--sklearn-color-unfitted-level-2);\n",
              "}\n",
              "\n",
              "#sk-container-id-1 div.sk-estimator.fitted input.sk-toggleable__control:checked~label.sk-toggleable__label {\n",
              "  /* fitted */\n",
              "  background-color: var(--sklearn-color-fitted-level-2);\n",
              "}\n",
              "\n",
              "#sk-container-id-1 div.sk-label label.sk-toggleable__label,\n",
              "#sk-container-id-1 div.sk-label label {\n",
              "  /* The background is the default theme color */\n",
              "  color: var(--sklearn-color-text-on-default-background);\n",
              "}\n",
              "\n",
              "/* On hover, darken the color of the background */\n",
              "#sk-container-id-1 div.sk-label:hover label.sk-toggleable__label {\n",
              "  color: var(--sklearn-color-text);\n",
              "  background-color: var(--sklearn-color-unfitted-level-2);\n",
              "}\n",
              "\n",
              "/* Label box, darken color on hover, fitted */\n",
              "#sk-container-id-1 div.sk-label.fitted:hover label.sk-toggleable__label.fitted {\n",
              "  color: var(--sklearn-color-text);\n",
              "  background-color: var(--sklearn-color-fitted-level-2);\n",
              "}\n",
              "\n",
              "/* Estimator label */\n",
              "\n",
              "#sk-container-id-1 div.sk-label label {\n",
              "  font-family: monospace;\n",
              "  font-weight: bold;\n",
              "  display: inline-block;\n",
              "  line-height: 1.2em;\n",
              "}\n",
              "\n",
              "#sk-container-id-1 div.sk-label-container {\n",
              "  text-align: center;\n",
              "}\n",
              "\n",
              "/* Estimator-specific */\n",
              "#sk-container-id-1 div.sk-estimator {\n",
              "  font-family: monospace;\n",
              "  border: 1px dotted var(--sklearn-color-border-box);\n",
              "  border-radius: 0.25em;\n",
              "  box-sizing: border-box;\n",
              "  margin-bottom: 0.5em;\n",
              "  /* unfitted */\n",
              "  background-color: var(--sklearn-color-unfitted-level-0);\n",
              "}\n",
              "\n",
              "#sk-container-id-1 div.sk-estimator.fitted {\n",
              "  /* fitted */\n",
              "  background-color: var(--sklearn-color-fitted-level-0);\n",
              "}\n",
              "\n",
              "/* on hover */\n",
              "#sk-container-id-1 div.sk-estimator:hover {\n",
              "  /* unfitted */\n",
              "  background-color: var(--sklearn-color-unfitted-level-2);\n",
              "}\n",
              "\n",
              "#sk-container-id-1 div.sk-estimator.fitted:hover {\n",
              "  /* fitted */\n",
              "  background-color: var(--sklearn-color-fitted-level-2);\n",
              "}\n",
              "\n",
              "/* Specification for estimator info (e.g. \"i\" and \"?\") */\n",
              "\n",
              "/* Common style for \"i\" and \"?\" */\n",
              "\n",
              ".sk-estimator-doc-link,\n",
              "a:link.sk-estimator-doc-link,\n",
              "a:visited.sk-estimator-doc-link {\n",
              "  float: right;\n",
              "  font-size: smaller;\n",
              "  line-height: 1em;\n",
              "  font-family: monospace;\n",
              "  background-color: var(--sklearn-color-background);\n",
              "  border-radius: 1em;\n",
              "  height: 1em;\n",
              "  width: 1em;\n",
              "  text-decoration: none !important;\n",
              "  margin-left: 0.5em;\n",
              "  text-align: center;\n",
              "  /* unfitted */\n",
              "  border: var(--sklearn-color-unfitted-level-1) 1pt solid;\n",
              "  color: var(--sklearn-color-unfitted-level-1);\n",
              "}\n",
              "\n",
              ".sk-estimator-doc-link.fitted,\n",
              "a:link.sk-estimator-doc-link.fitted,\n",
              "a:visited.sk-estimator-doc-link.fitted {\n",
              "  /* fitted */\n",
              "  border: var(--sklearn-color-fitted-level-1) 1pt solid;\n",
              "  color: var(--sklearn-color-fitted-level-1);\n",
              "}\n",
              "\n",
              "/* On hover */\n",
              "div.sk-estimator:hover .sk-estimator-doc-link:hover,\n",
              ".sk-estimator-doc-link:hover,\n",
              "div.sk-label-container:hover .sk-estimator-doc-link:hover,\n",
              ".sk-estimator-doc-link:hover {\n",
              "  /* unfitted */\n",
              "  background-color: var(--sklearn-color-unfitted-level-3);\n",
              "  color: var(--sklearn-color-background);\n",
              "  text-decoration: none;\n",
              "}\n",
              "\n",
              "div.sk-estimator.fitted:hover .sk-estimator-doc-link.fitted:hover,\n",
              ".sk-estimator-doc-link.fitted:hover,\n",
              "div.sk-label-container:hover .sk-estimator-doc-link.fitted:hover,\n",
              ".sk-estimator-doc-link.fitted:hover {\n",
              "  /* fitted */\n",
              "  background-color: var(--sklearn-color-fitted-level-3);\n",
              "  color: var(--sklearn-color-background);\n",
              "  text-decoration: none;\n",
              "}\n",
              "\n",
              "/* Span, style for the box shown on hovering the info icon */\n",
              ".sk-estimator-doc-link span {\n",
              "  display: none;\n",
              "  z-index: 9999;\n",
              "  position: relative;\n",
              "  font-weight: normal;\n",
              "  right: .2ex;\n",
              "  padding: .5ex;\n",
              "  margin: .5ex;\n",
              "  width: min-content;\n",
              "  min-width: 20ex;\n",
              "  max-width: 50ex;\n",
              "  color: var(--sklearn-color-text);\n",
              "  box-shadow: 2pt 2pt 4pt #999;\n",
              "  /* unfitted */\n",
              "  background: var(--sklearn-color-unfitted-level-0);\n",
              "  border: .5pt solid var(--sklearn-color-unfitted-level-3);\n",
              "}\n",
              "\n",
              ".sk-estimator-doc-link.fitted span {\n",
              "  /* fitted */\n",
              "  background: var(--sklearn-color-fitted-level-0);\n",
              "  border: var(--sklearn-color-fitted-level-3);\n",
              "}\n",
              "\n",
              ".sk-estimator-doc-link:hover span {\n",
              "  display: block;\n",
              "}\n",
              "\n",
              "/* \"?\"-specific style due to the `<a>` HTML tag */\n",
              "\n",
              "#sk-container-id-1 a.estimator_doc_link {\n",
              "  float: right;\n",
              "  font-size: 1rem;\n",
              "  line-height: 1em;\n",
              "  font-family: monospace;\n",
              "  background-color: var(--sklearn-color-background);\n",
              "  border-radius: 1rem;\n",
              "  height: 1rem;\n",
              "  width: 1rem;\n",
              "  text-decoration: none;\n",
              "  /* unfitted */\n",
              "  color: var(--sklearn-color-unfitted-level-1);\n",
              "  border: var(--sklearn-color-unfitted-level-1) 1pt solid;\n",
              "}\n",
              "\n",
              "#sk-container-id-1 a.estimator_doc_link.fitted {\n",
              "  /* fitted */\n",
              "  border: var(--sklearn-color-fitted-level-1) 1pt solid;\n",
              "  color: var(--sklearn-color-fitted-level-1);\n",
              "}\n",
              "\n",
              "/* On hover */\n",
              "#sk-container-id-1 a.estimator_doc_link:hover {\n",
              "  /* unfitted */\n",
              "  background-color: var(--sklearn-color-unfitted-level-3);\n",
              "  color: var(--sklearn-color-background);\n",
              "  text-decoration: none;\n",
              "}\n",
              "\n",
              "#sk-container-id-1 a.estimator_doc_link.fitted:hover {\n",
              "  /* fitted */\n",
              "  background-color: var(--sklearn-color-fitted-level-3);\n",
              "}\n",
              "</style><div id=\"sk-container-id-1\" class=\"sk-top-container\"><div class=\"sk-text-repr-fallback\"><pre>RandomForestClassifier(random_state=42)</pre><b>In a Jupyter environment, please rerun this cell to show the HTML representation or trust the notebook. <br />On GitHub, the HTML representation is unable to render, please try loading this page with nbviewer.org.</b></div><div class=\"sk-container\" hidden><div class=\"sk-item\"><div class=\"sk-estimator fitted sk-toggleable\"><input class=\"sk-toggleable__control sk-hidden--visually\" id=\"sk-estimator-id-1\" type=\"checkbox\" checked><label for=\"sk-estimator-id-1\" class=\"sk-toggleable__label fitted sk-toggleable__label-arrow\"><div><div>RandomForestClassifier</div></div><div><a class=\"sk-estimator-doc-link fitted\" rel=\"noreferrer\" target=\"_blank\" href=\"https://scikit-learn.org/1.6/modules/generated/sklearn.ensemble.RandomForestClassifier.html\">?<span>Documentation for RandomForestClassifier</span></a><span class=\"sk-estimator-doc-link fitted\">i<span>Fitted</span></span></div></label><div class=\"sk-toggleable__content fitted\"><pre>RandomForestClassifier(random_state=42)</pre></div> </div></div></div></div>"
            ],
            "text/plain": [
              "RandomForestClassifier(random_state=42)"
            ]
          },
          "execution_count": 11,
          "metadata": {},
          "output_type": "execute_result"
        }
      ],
      "source": [
        "from sklearn.ensemble import RandomForestClassifier\n",
        "\n",
        "rf_model = RandomForestClassifier(n_estimators=100, random_state=42)\n",
        "rf_model.fit(X_train, y_train)"
      ]
    },
    {
      "cell_type": "code",
      "execution_count": null,
      "metadata": {
        "id": "891t5HeAzlYZ"
      },
      "outputs": [],
      "source": [
        "hasil_prediksi_rf = rf_model.predict(X_test)"
      ]
    },
    {
      "cell_type": "markdown",
      "metadata": {
        "id": "pLp9TPuknSB-"
      },
      "source": [
        "# **EVALUASI**"
      ]
    },
    {
      "cell_type": "markdown",
      "metadata": {
        "id": "4zcV8Vfwj8WW"
      },
      "source": [
        "## Fungsi-Fungsi Untuk Evaluasi"
      ]
    },
    {
      "cell_type": "code",
      "execution_count": null,
      "metadata": {
        "id": "RP1sK3rfBhiB"
      },
      "outputs": [],
      "source": [
        "def confusion_matrix_manual(y_true, y_pred, labels):\n",
        "  num_classes = len(labels)\n",
        "\n",
        "  # Inisialisasi matriks dengan ukuran (jumlah class)\n",
        "  confusion_matrix = np.zeros((num_classes, num_classes), dtype=int)\n",
        "\n",
        "  # Mengisi matriks\n",
        "  for true, pred in zip (y_true, y_pred):\n",
        "    confusion_matrix[true, pred] += 1\n",
        "\n",
        "  return confusion_matrix"
      ]
    },
    {
      "cell_type": "markdown",
      "metadata": {
        "id": "N-Oyb97zcgca"
      },
      "source": [
        "Fungsi `confusion_matrix_manual` digunakan untuk menghitung matriks kebingunguan (confusion matrix) secara manual, yang menunjukkan performa prediksi model dengan membandingkan nilai prediksi (`y_pred`) dan nilai sebenarnya (`y_true`) berdasarkan kelas yang telah ditentukan. Fungsi ini menerima tiga parameter: `y_true` (nilai kelas yang sebenarnya), `y_pred` (nilai kelas yang diprediksi), dan `labels` (daftar kelas yang mungkin). Pertama, fungsi menginisialisasi sebuah matriks kebingunguan berukuran (jumlah kelas x jumlah kelas) dengan nilai nol. Kemudian, untuk setiap pasangan nilai `true` dan `pred`, nilai pada matriks kebingunguan akan diperbarui dengan menambah 1 pada posisi yang sesuai, di mana baris menunjukkan kelas yang benar dan kolom menunjukkan kelas yang diprediksi. Matriks yang dihasilkan akan menggambarkan berapa kali setiap kombinasi kelas yang benar dan yang diprediksi terjadi. Fungsi ini mengembalikan matriks kebingunguan yang dapat digunakan untuk menganalisis performa model."
      ]
    },
    {
      "cell_type": "code",
      "execution_count": null,
      "metadata": {
        "id": "zCTyODeKLOGV"
      },
      "outputs": [],
      "source": [
        "def calculate_metrics (confusion_matrix, labels):\n",
        "  num_classes = confusion_matrix.shape[0]\n",
        "  metrics = {}\n",
        "  for i in range(num_classes):\n",
        "    TP = confusion_matrix[i, i]\n",
        "    FP = confusion_matrix[:, i].sum() - TP\n",
        "    FN = confusion_matrix[i, :].sum() - TP\n",
        "    TN = confusion_matrix.sum() - (TP + FP+ FN)\n",
        "    metrics[labels[i]] = {\n",
        "        \"TP\": TP,\n",
        "        \"FP\": FP,\n",
        "        \"FN\": FN,\n",
        "        \"TN\": TN\n",
        "        }\n",
        "  return metrics"
      ]
    },
    {
      "cell_type": "markdown",
      "metadata": {
        "id": "9qR4rYkbciwv"
      },
      "source": [
        "Fungsi `calculate_metrics` digunakan untuk menghitung metrik evaluasi dari matriks kebingunguan (confusion matrix), seperti True Positive (TP), False Positive (FP), False Negative (FN), dan True Negative (TN) untuk setiap kelas. Fungsi ini menerima dua parameter: `confusion_matrix` (matriks kebingunguan yang dihitung sebelumnya) dan `labels` (daftar kelas yang digunakan dalam perhitungan).\n",
        "\n",
        "Fungsi ini pertama-tama menginisialisasi sebuah dictionary `metrics` untuk menyimpan nilai-nilai metrik untuk setiap kelas. Kemudian, untuk setiap kelas (ditandai dengan indeks `i`), fungsi menghitung:\n",
        "- **TP** (True Positive): Jumlah prediksi yang benar untuk kelas tersebut.\n",
        "- **FP** (False Positive): Jumlah data yang salah dikategorikan sebagai kelas tersebut, dihitung dengan menjumlahkan seluruh kolom pada matriks kebingunguan untuk kelas tersebut, kecuali TP.\n",
        "- **FN** (False Negative): Jumlah data yang benar dari kelas tersebut tetapi salah diprediksi sebagai kelas lain, dihitung dengan menjumlahkan seluruh baris pada matriks kebingunguan untuk kelas tersebut, kecuali TP.\n",
        "- **TN** (True Negative): Jumlah data yang tidak termasuk dalam kelas tersebut dan diprediksi dengan benar sebagai kelas selain kelas yang diuji, dihitung dengan mengurangi jumlah TP, FP, dan FN dari total jumlah elemen dalam matriks.\n",
        "\n",
        "Fungsi ini akan mengembalikan sebuah dictionary `metrics` yang menyimpan metrik untuk setiap kelas, yang dapat digunakan untuk menilai performa model dalam setiap kelas."
      ]
    },
    {
      "cell_type": "code",
      "execution_count": null,
      "metadata": {
        "id": "sjLlOx7NO1SP"
      },
      "outputs": [],
      "source": [
        "def normalize_confusion_matrix(cm):\n",
        "    \"\"\"\n",
        "    Fungsi untuk melakukan normalisasi pada hasil confusion matrix dengan rentang 0-1\n",
        "\n",
        "    parameter :\n",
        "      cm : confusion matrix yang akan dinormalisasi\n",
        "    return\n",
        "      cm_normalized : confusion matrix yang sudah dinormalisasi\n",
        "    \"\"\"\n",
        "    cm_normalized = cm.astype('float') / cm.sum(axis=1)[:, np.newaxis]\n",
        "    return cm_normalized"
      ]
    },
    {
      "cell_type": "markdown",
      "metadata": {
        "id": "1sLuB16uctrL"
      },
      "source": [
        "Fungsi `normalize_confusion_matrix` digunakan untuk menormalisasi matriks kebingunguan dengan membagi setiap elemen matriks dengan jumlah elemen pada baris yang sesuai, menghasilkan nilai dalam rentang 0 hingga 1. Ini membantu dalam mengevaluasi performa model dengan lebih adil, mengingat perbedaan jumlah data di setiap kelas. Fungsi ini mengembalikan matriks kebingunguan yang sudah dinormalisasi."
      ]
    },
    {
      "cell_type": "code",
      "execution_count": null,
      "metadata": {
        "id": "tdwGQ0IKahtz"
      },
      "outputs": [],
      "source": [
        "def calculate_precision(metrics):\n",
        "    \"\"\"\n",
        "    Menghitung precision per kelas dan rata-rata precision.\n",
        "\n",
        "    Parameter:\n",
        "        metrics : dict hasil dari calculate_metrics()\n",
        "\n",
        "    Return:\n",
        "        precision_per_class : dict {label: precision}\n",
        "        avg_precision : float\n",
        "    \"\"\"\n",
        "    precision_per_class = {}\n",
        "    total_precision = 0\n",
        "    num_classes = len(metrics)\n",
        "\n",
        "    for label, metric in metrics.items():\n",
        "        TP = metric[\"TP\"]\n",
        "        FP = metric[\"FP\"]\n",
        "        precision = TP / (TP + FP) if (TP + FP) > 0 else 0\n",
        "        precision_per_class[label] = precision\n",
        "        total_precision += precision\n",
        "\n",
        "    avg_precision = total_precision / num_classes\n",
        "    return precision_per_class, avg_precision"
      ]
    },
    {
      "cell_type": "markdown",
      "metadata": {
        "id": "yjyuWnqScxS2"
      },
      "source": [
        "Fungsi `calculate_precision` digunakan untuk menghitung nilai precision per kelas serta rata-rata precision untuk semua kelas berdasarkan metrik yang dihitung sebelumnya. Fungsi ini menerima input berupa dictionary `metrics` yang dihasilkan dari fungsi `calculate_metrics()`, yang berisi nilai TP dan FP untuk setiap kelas. Precision untuk setiap kelas dihitung dengan rumus TP / (TP + FP), dan jika jumlah TP + FP sama dengan nol, precision diatur menjadi nol. Nilai precision per kelas disimpan dalam dictionary `precision_per_class`, sementara rata-rata precision dihitung dengan menjumlahkan semua precision dan membaginya dengan jumlah kelas. Fungsi ini mengembalikan dictionary precision per kelas serta rata-rata precision untuk seluruh kelas."
      ]
    },
    {
      "cell_type": "code",
      "execution_count": null,
      "metadata": {
        "id": "9glC_O49bN5-"
      },
      "outputs": [],
      "source": [
        "def calculate_recall(metrics):\n",
        "    \"\"\"\n",
        "    Menghitung recall per kelas dan rata-rata recall.\n",
        "\n",
        "    Parameter:\n",
        "        metrics : dict hasil dari calculate_metrics()\n",
        "\n",
        "    Return:\n",
        "        recall_per_class : dict {label: recall}\n",
        "        avg_recall : float\n",
        "    \"\"\"\n",
        "    recall_per_class = {}\n",
        "    total_recall = 0\n",
        "    num_classes = len(metrics)\n",
        "\n",
        "    for label, metric in metrics.items():\n",
        "        TP = metric[\"TP\"]\n",
        "        FN = metric[\"FN\"]\n",
        "        recall = TP / (TP + FN) if (TP + FN) > 0 else 0\n",
        "        recall_per_class[label] = recall\n",
        "        total_recall += recall\n",
        "\n",
        "    avg_recall = total_recall / num_classes\n",
        "    return recall_per_class, avg_recall\n"
      ]
    },
    {
      "cell_type": "markdown",
      "metadata": {
        "id": "SqgqpLIYc0bK"
      },
      "source": [
        "Fungsi `calculate_recall` digunakan untuk menghitung nilai recall per kelas serta rata-rata recall untuk semua kelas berdasarkan metrik yang dihitung sebelumnya. Fungsi ini menerima input berupa dictionary `metrics` yang dihasilkan dari fungsi `calculate_metrics()`, yang berisi nilai TP dan FN untuk setiap kelas. Recall dihitung dengan rumus TP / (TP + FN), dan jika jumlah TP + FN sama dengan nol, recall diatur menjadi nol. Nilai recall per kelas disimpan dalam dictionary `recall_per_class`, sementara rata-rata recall dihitung dengan menjumlahkan semua recall dan membaginya dengan jumlah kelas. Fungsi ini mengembalikan dictionary recall per kelas serta rata-rata recall untuk seluruh kelas."
      ]
    },
    {
      "cell_type": "code",
      "execution_count": null,
      "metadata": {
        "id": "k6V4TIXaNpdq"
      },
      "outputs": [],
      "source": [
        "def calculate_f1_score(metrics):\n",
        "    \"\"\"\n",
        "    Menghitung f1-score per kelas dan rata-rata f1-score.\n",
        "\n",
        "    Parameter:\n",
        "        metrics : dict hasil dari calculate_metrics()\n",
        "\n",
        "    Return:\n",
        "        f1_per_class : dict {label: f1-score}\n",
        "        avg_f1 : float\n",
        "    \"\"\"\n",
        "    f1_per_class = {}\n",
        "    total_f1 = 0\n",
        "    num_classes = len(metrics)\n",
        "\n",
        "    for label, metric in metrics.items():\n",
        "        TP = metric[\"TP\"]\n",
        "        FP = metric[\"FP\"]\n",
        "        FN = metric[\"FN\"]\n",
        "        precision = TP / (TP + FP) if (TP + FP) > 0 else 0\n",
        "        recall = TP / (TP + FN) if (TP + FN) > 0 else 0\n",
        "        f1 = 2 * (precision * recall) / (precision + recall) if (precision + recall) > 0 else 0\n",
        "        f1_per_class[label] = f1\n",
        "        total_f1 += f1\n",
        "\n",
        "    avg_f1 = total_f1 / num_classes\n",
        "    return f1_per_class, avg_f1\n"
      ]
    },
    {
      "cell_type": "markdown",
      "metadata": {
        "id": "JJNgPsuJc4BC"
      },
      "source": [
        "Fungsi `calculate_f1_score` digunakan untuk menghitung nilai F1-score per kelas serta rata-rata F1-score untuk seluruh kelas berdasarkan metrik yang dihitung sebelumnya. Fungsi ini menerima input berupa dictionary `metrics` yang dihasilkan dari fungsi `calculate_metrics()`, yang berisi nilai TP, FP, dan FN untuk setiap kelas. F1-score dihitung dengan rumus 2 * (precision * recall) / (precision + recall), dengan precision dan recall dihitung terlebih dahulu. Jika jumlah precision dan recall adalah nol, F1-score diatur menjadi nol. Nilai F1-score per kelas disimpan dalam dictionary `f1_per_class`, sementara rata-rata F1-score dihitung dengan menjumlahkan semua F1-score dan membaginya dengan jumlah kelas. Fungsi ini mengembalikan dictionary F1-score per kelas serta rata-rata F1-score untuk seluruh kelas."
      ]
    },
    {
      "cell_type": "code",
      "execution_count": null,
      "metadata": {
        "id": "gI-8cjDUO6n1"
      },
      "outputs": [],
      "source": [
        "def calculate_accuracy_score(metrics):\n",
        "    \"\"\"\n",
        "    Fungsi untuk menghitung accuracy_score\n",
        "\n",
        "    parameter :\n",
        "      metrics : hasil fungsi calculate_metrics\n",
        "    return\n",
        "      accuracy : nilai accuracy_score\n",
        "    \"\"\"\n",
        "    total_accuracy = 0\n",
        "    num_classes = len(metrics)\n",
        "\n",
        "    for label, metric in metrics.items():\n",
        "        accuracy = (metric['TP'] + metric['TN']) / (metric['TP'] + metric['FP'] + metric['FN'] + metric['TN'])\n",
        "        total_accuracy += accuracy\n",
        "\n",
        "    avg_accuracy = total_accuracy / num_classes\n",
        "    return avg_accuracy"
      ]
    },
    {
      "cell_type": "markdown",
      "metadata": {
        "id": "TNIlEU51c7DS"
      },
      "source": [
        "Fungsi `calculate_accuracy_score` digunakan untuk menghitung nilai *accuracy score* rata-rata berdasarkan metrik yang dihitung sebelumnya. Fungsi ini menerima input berupa dictionary `metrics`, yang berisi nilai TP, FP, FN, dan TN untuk setiap kelas. Untuk setiap kelas, *accuracy* dihitung dengan rumus (TP + TN) / (TP + FP + FN + TN), yang menunjukkan proporsi prediksi yang benar (baik positif maupun negatif) dibandingkan dengan total prediksi. Nilai *accuracy* per kelas dijumlahkan, dan rata-rata *accuracy* dihitung dengan membaginya dengan jumlah kelas. Fungsi ini mengembalikan rata-rata *accuracy* untuk seluruh kelas."
      ]
    },
    {
      "cell_type": "code",
      "execution_count": null,
      "metadata": {
        "id": "EB2U8gjoPELc"
      },
      "outputs": [],
      "source": [
        "def cm_plot(cm, true_labels, predictions):\n",
        "    \"\"\"\n",
        "    Menampilkan visualisasi Confusion Matrix dalam bentuk heatmap.\n",
        "\n",
        "    Parameter:\n",
        "    - cm : array-like\n",
        "        Confusion matrix hasil prediksi model (bisa dinormalisasi atau tidak).\n",
        "    - true_labels : array-like\n",
        "        Label sebenarnya (ground truth) dari data.\n",
        "    - predictions : array-like\n",
        "        Label hasil prediksi dari model.\n",
        "    - labels : array-like\n",
        "        Daftar semua label unik pada kelas target.\n",
        "\n",
        "    Output:\n",
        "    - Menampilkan plot heatmap Confusion Matrix menggunakan seaborn.\n",
        "    \"\"\"\n",
        "    plt.figure(figsize=(6, 4))\n",
        "    sns.heatmap(cm, annot=True, cmap=\"Blues\", xticklabels=np.unique(true_labels), yticklabels=np.unique(true_labels))\n",
        "    plt.xlabel('Predicted')\n",
        "    plt.ylabel('True')\n",
        "    plt.title('Confusion Matrix')\n",
        "    plt.show()"
      ]
    },
    {
      "cell_type": "markdown",
      "metadata": {
        "id": "Kpkwli1ac_X9"
      },
      "source": [
        "Fungsi `cm_plot` digunakan untuk menampilkan visualisasi matriks kebingunguan (Confusion Matrix) dalam bentuk heatmap menggunakan seaborn. Fungsi ini menerima tiga parameter utama: `cm` yang berisi matriks kebingunguan hasil prediksi model (bisa dalam bentuk normalisasi atau tidak), `true_labels` yang merupakan label sebenarnya dari data, dan `predictions` yang merupakan hasil prediksi model. Fungsi ini juga menggunakan `sns.heatmap` untuk memplot matriks kebingunguan dengan anotasi untuk setiap elemen, serta menampilkan label pada sumbu X dan Y berdasarkan kelas target yang unik. Outputnya adalah visualisasi heatmap yang menggambarkan hubungan antara label yang sebenarnya dan hasil prediksi."
      ]
    },
    {
      "cell_type": "markdown",
      "metadata": {
        "id": "qemhEFYVkBa1"
      },
      "source": [
        "## Persiapan Variabel"
      ]
    },
    {
      "cell_type": "code",
      "execution_count": null,
      "metadata": {
        "id": "tPtORbJf0avV"
      },
      "outputs": [],
      "source": [
        "# Label asli\n",
        "y_true = data_uji[\"Churn\"].tolist()\n",
        "\n",
        "# Label prediksi Decision Tree\n",
        "y_pred_dt = hasil_prediksi_dt\n",
        "\n",
        "# Label prediksi Decision Tree\n",
        "y_pred_svm = hasil_prediksi_svm\n",
        "\n",
        "# Label prediksi Random Forest\n",
        "y_pred_rf = hasil_prediksi_rf\n",
        "\n",
        "# Pastikan label sudah diketahui (misalnya dari data latih)\n",
        "labels = np.unique(data_latih[\"Churn\"]).tolist()\n",
        "\n",
        "# Hitung confusion matrix\n",
        "conf_matrix_dt = confusion_matrix_manual(y_true, y_pred_dt, labels)\n",
        "\n",
        "conf_matrix_svm = confusion_matrix_manual(y_true, y_pred_svm, labels)\n",
        "\n",
        "conf_matrix_rf = confusion_matrix_manual(y_true, y_pred_rf, labels)\n",
        "\n",
        "# Hitung metrik evaluasi\n",
        "metrics_dt = calculate_metrics(conf_matrix_dt, labels)\n",
        "\n",
        "metrics_svm = calculate_metrics(conf_matrix_svm, labels)\n",
        "\n",
        "metrics_rf = calculate_metrics(conf_matrix_rf, labels)\n"
      ]
    },
    {
      "cell_type": "markdown",
      "metadata": {
        "id": "M8_9oEmfBUDp"
      },
      "source": [
        "## **Evaluasi Decision Tree**"
      ]
    },
    {
      "cell_type": "code",
      "execution_count": null,
      "metadata": {
        "colab": {
          "base_uri": "https://localhost:8080/"
        },
        "id": "64YiCSuBblp5",
        "outputId": "754da4a4-9167-45de-e0da-22282eae4f83"
      },
      "outputs": [
        {
          "name": "stdout",
          "output_type": "stream",
          "text": [
            "Accuracy : 0.7139815471965933\n",
            "Precision per kelas: {0: np.float64(0.800952380952381), 1: np.float64(0.4596100278551532)}\n",
            "Recall per kelas: {0: np.float64(0.81256038647343), 1: np.float64(0.4411764705882353)}\n",
            "F1-score per kelas: {0: np.float64(0.8067146282973622), 1: np.float64(0.4502046384720328)}\n",
            "\n",
            "Rata-rata: \n",
            "Precision: 0.63, Recall: 0.63, F1: 0.63\n"
          ]
        }
      ],
      "source": [
        "precision_dt, avg_precision_dt = calculate_precision(metrics_dt)\n",
        "recall_dt, avg_recall_dt = calculate_recall(metrics_dt)\n",
        "f1_dt, avg_f1_dt = calculate_f1_score(metrics_dt)\n",
        "accuracy_dt = calculate_accuracy_score(metrics_dt)\n",
        "\n",
        "print(\"Accuracy :\", accuracy_dt)\n",
        "print(\"Precision per kelas:\", precision_dt)\n",
        "print(\"Recall per kelas:\", recall_dt)\n",
        "print(\"F1-score per kelas:\", f1_dt)\n",
        "print(\"\\nRata-rata: \")\n",
        "print(f\"Precision: {avg_precision_dt:.2f}, Recall: {avg_recall_dt:.2f}, F1: {avg_f1_dt:.2f}\")"
      ]
    },
    {
      "cell_type": "code",
      "execution_count": null,
      "metadata": {
        "colab": {
          "base_uri": "https://localhost:8080/"
        },
        "id": "pvnVQAKRLpOs",
        "outputId": "da93a500-82df-4a5b-840c-35a7775e43aa"
      },
      "outputs": [
        {
          "name": "stdout",
          "output_type": "stream",
          "text": [
            "Confusion Matrix DT:\n",
            "[[841 194]\n",
            " [209 165]]\n"
          ]
        }
      ],
      "source": [
        "# Cetak hasil\n",
        "print(\"Confusion Matrix DT:\")\n",
        "print(conf_matrix_dt)"
      ]
    },
    {
      "cell_type": "code",
      "execution_count": null,
      "metadata": {
        "id": "vmIMLM1fcM7i"
      },
      "outputs": [],
      "source": [
        "norm_cm_dt = normalize_confusion_matrix(conf_matrix_dt)"
      ]
    },
    {
      "cell_type": "code",
      "execution_count": null,
      "metadata": {
        "colab": {
          "base_uri": "https://localhost:8080/",
          "height": 410
        },
        "id": "E6Ur9A8ucTb8",
        "outputId": "d0da4105-ab13-445a-a062-f6cc053b0dfd"
      },
      "outputs": [
        {
          "data": {
            "image/png": "[encoded data removed]",
            "text/plain": [
              "<Figure size 600x400 with 2 Axes>"
            ]
          },
          "metadata": {},
          "output_type": "display_data"
        }
      ],
      "source": [
        "cm_plot(norm_cm_dt, y_true, y_pred_dt)"
      ]
    },
    {
      "cell_type": "markdown",
      "metadata": {
        "id": "X1NKNOo3JHhf"
      },
      "source": [
        "Perbandingan dengan DecisionTreeClassifier dari library scikit-learn"
      ]
    },
    {
      "cell_type": "code",
      "execution_count": null,
      "metadata": {
        "id": "3aHEiAJ8WWKY"
      },
      "outputs": [],
      "source": [
        "from sklearn.metrics import accuracy_score, classification_report\n",
        "\n",
        "# Misalnya: data_latih dan data_uji sudah dibagi seperti ini\n",
        "X_latih = data_latih.drop(\"Churn\", axis=1)\n",
        "y_latih = data_latih[\"Churn\"]\n",
        "X_uji = data_uji.drop(\"Churn\", axis=1)\n",
        "y_uji = data_uji[\"Churn\"].tolist()"
      ]
    },
    {
      "cell_type": "code",
      "execution_count": null,
      "metadata": {
        "colab": {
          "base_uri": "https://localhost:8080/"
        },
        "id": "w6CaB9Pme1QM",
        "outputId": "022fe9b8-ed83-44da-991e-ab65c35d89dc"
      },
      "outputs": [
        {
          "name": "stdout",
          "output_type": "stream",
          "text": [
            "Akurasi: 0.7253371185237757\n",
            "\n",
            "Laporan klasifikasi:\n",
            "               precision    recall  f1-score   support\n",
            "\n",
            "           0       0.82      0.81      0.81      1035\n",
            "           1       0.48      0.50      0.49       374\n",
            "\n",
            "    accuracy                           0.73      1409\n",
            "   macro avg       0.65      0.65      0.65      1409\n",
            "weighted avg       0.73      0.73      0.73      1409\n",
            "\n"
          ]
        }
      ],
      "source": [
        "from sklearn.tree import DecisionTreeClassifier\n",
        "\n",
        "# Membuat model Decision Tree\n",
        "model = DecisionTreeClassifier(random_state=42)\n",
        "model.fit(X_latih, y_latih)\n",
        "\n",
        "# Prediksi data uji\n",
        "y_pred_sklearn_dt = model.predict(X_uji)\n",
        "\n",
        "# Evaluasi hasil prediksi\n",
        "print(\"Akurasi:\", accuracy_score(y_uji, y_pred_sklearn_dt))\n",
        "print(\"\\nLaporan klasifikasi:\\n\", classification_report(y_uji, y_pred_sklearn_dt))"
      ]
    },
    {
      "cell_type": "code",
      "execution_count": null,
      "metadata": {
        "colab": {
          "base_uri": "https://localhost:8080/"
        },
        "id": "EpkY5X9EcyCt",
        "outputId": "4ad1a1d0-195e-4b48-aaea-2d2aa9c64780"
      },
      "outputs": [
        {
          "name": "stdout",
          "output_type": "stream",
          "text": [
            "[[834 201]\n",
            " [186 188]] \n",
            "\n"
          ]
        }
      ],
      "source": [
        "# Confusion matrix\n",
        "cm = confusion_matrix(y_uji, y_pred_sklearn_dt)\n",
        "print(cm, \"\\n\")"
      ]
    },
    {
      "cell_type": "markdown",
      "metadata": {
        "id": "qsGS1jEAL-bh"
      },
      "source": [
        "## **Evaluasi SVM**"
      ]
    },
    {
      "cell_type": "code",
      "execution_count": null,
      "metadata": {
        "colab": {
          "base_uri": "https://localhost:8080/"
        },
        "id": "Y4TLzgTjLpvB",
        "outputId": "ccb57fea-5e53-4d56-bf26-6e9124ac4454"
      },
      "outputs": [
        {
          "name": "stdout",
          "output_type": "stream",
          "text": [
            "Accuracy : 0.602555003548616\n",
            "Precision per kelas: {0: np.float64(0.7141568981064021), 1: np.float64(0.19)}\n",
            "Recall per kelas: {0: np.float64(0.7652173913043478), 1: np.float64(0.15240641711229946)}\n",
            "F1-score per kelas: {0: np.float64(0.7388059701492538), 1: np.float64(0.16913946587537093)}\n",
            "\n",
            "Rata-rata: \n",
            "Precision: 0.45, Recall: 0.46, F1: 0.45\n"
          ]
        }
      ],
      "source": [
        "precision_svm, avg_precision_svm = calculate_precision(metrics_svm)\n",
        "recall_svm, avg_recall_svm = calculate_recall(metrics_svm)\n",
        "f1_svm, avg_f1_svm = calculate_f1_score(metrics_svm)\n",
        "accuracy_svm = calculate_accuracy_score(metrics_svm)\n",
        "\n",
        "print(\"Accuracy :\", accuracy_svm)\n",
        "print(\"Precision per kelas:\", precision_svm)\n",
        "print(\"Recall per kelas:\", recall_svm)\n",
        "print(\"F1-score per kelas:\", f1_svm)\n",
        "print(\"\\nRata-rata: \")\n",
        "print(f\"Precision: {avg_precision_svm:.2f}, Recall: {avg_recall_svm:.2f}, F1: {avg_f1_svm:.2f}\")"
      ]
    },
    {
      "cell_type": "code",
      "execution_count": null,
      "metadata": {
        "colab": {
          "base_uri": "https://localhost:8080/"
        },
        "id": "Y8JqM4oudPU7",
        "outputId": "49c68b6a-45c5-48bb-d1a7-07a267966547"
      },
      "outputs": [
        {
          "name": "stdout",
          "output_type": "stream",
          "text": [
            "Confusion Matrix SVM:\n",
            "[[792 243]\n",
            " [317  57]]\n"
          ]
        }
      ],
      "source": [
        "# Cetak hasil\n",
        "print(\"Confusion Matrix SVM:\")\n",
        "print(conf_matrix_svm)"
      ]
    },
    {
      "cell_type": "code",
      "execution_count": null,
      "metadata": {
        "colab": {
          "base_uri": "https://localhost:8080/",
          "height": 410
        },
        "id": "lwVcfVLIdaLw",
        "outputId": "fa018629-e9a9-4df3-8c4e-5ec07713fb8d"
      },
      "outputs": [
        {
          "data": {
            "image/png": "[encoded data removed]",
            "text/plain": [
              "<Figure size 600x400 with 2 Axes>"
            ]
          },
          "metadata": {},
          "output_type": "display_data"
        }
      ],
      "source": [
        "norm_cm_svm = normalize_confusion_matrix(conf_matrix_svm)\n",
        "\n",
        "cm_plot(norm_cm_svm, y_true, y_pred_svm)"
      ]
    },
    {
      "cell_type": "markdown",
      "metadata": {
        "id": "U6tGoGYiIn1q"
      },
      "source": [
        "Perbandingan dengan SVM Classifier dari scikit-learn"
      ]
    },
    {
      "cell_type": "code",
      "execution_count": null,
      "metadata": {
        "colab": {
          "base_uri": "https://localhost:8080/"
        },
        "id": "eKxa6PtplIQX",
        "outputId": "9df6b20e-39d8-45ef-9e8f-3baa97cbbc39"
      },
      "outputs": [
        {
          "name": "stdout",
          "output_type": "stream",
          "text": [
            "Akurasi SVM sklearn: 0.7877927608232789\n",
            "\n",
            "Laporan klasifikasi SVM sklean:\n",
            "               precision    recall  f1-score   support\n",
            "\n",
            "           0       0.84      0.88      0.86      1035\n",
            "           1       0.62      0.53      0.57       374\n",
            "\n",
            "    accuracy                           0.79      1409\n",
            "   macro avg       0.73      0.70      0.71      1409\n",
            "weighted avg       0.78      0.79      0.78      1409\n",
            "\n"
          ]
        }
      ],
      "source": [
        "from sklearn.svm import SVC\n",
        "# Inisialisasi dan latih model SVM\n",
        "svm_model = SVC(kernel='linear', random_state=101)\n",
        "svm_model.fit(X_latih, y_latih)\n",
        "\n",
        "# Prediksi data uji\n",
        "y_pred_sklearn_svm = svm_model.predict(X_uji)\n",
        "\n",
        "# Evaluasi hasil prediksi\n",
        "print(\"Akurasi SVM sklearn:\", accuracy_score(y_uji, y_pred_sklearn_svm))\n",
        "print(\"\\nLaporan klasifikasi SVM sklean:\\n\", classification_report(y_uji, y_pred_sklearn_svm))"
      ]
    },
    {
      "cell_type": "code",
      "execution_count": null,
      "metadata": {
        "colab": {
          "base_uri": "https://localhost:8080/"
        },
        "id": "U8ke6xbAi2k3",
        "outputId": "1c222b68-cf65-421c-8b77-bdead6c91967"
      },
      "outputs": [
        {
          "name": "stdout",
          "output_type": "stream",
          "text": [
            "[[913 122]\n",
            " [177 197]] \n",
            "\n"
          ]
        }
      ],
      "source": [
        "# confusion matrix\n",
        "cm = confusion_matrix(y_uji, y_pred_sklearn_svm)\n",
        "\n",
        "print(cm, \"\\n\")"
      ]
    },
    {
      "cell_type": "markdown",
      "metadata": {
        "id": "A1QZQtph1fIz"
      },
      "source": [
        "## **Evaluasi Random Forest**"
      ]
    },
    {
      "cell_type": "code",
      "execution_count": null,
      "metadata": {
        "colab": {
          "base_uri": "https://localhost:8080/"
        },
        "id": "sDxInu7R0kbk",
        "outputId": "e16f05a3-5d82-4235-a7f1-2268ba70d052"
      },
      "outputs": [
        {
          "name": "stdout",
          "output_type": "stream",
          "text": [
            "Accuracy : 0.7821149751596878\n",
            "Precision per kelas: {0: np.float64(0.8297101449275363), 1: np.float64(0.6098360655737705)}\n",
            "Recall per kelas: {0: np.float64(0.885024154589372), 1: np.float64(0.49732620320855614)}\n",
            "F1-score per kelas: {0: np.float64(0.8564749883122955), 1: np.float64(0.5478645066273932)}\n",
            "\n",
            "Rata-rata: \n",
            "Precision: 0.72, Recall: 0.69, F1: 0.70\n"
          ]
        }
      ],
      "source": [
        "precision_rf, avg_precision_rf = calculate_precision(metrics_rf)\n",
        "recall_rf, avg_recall_rf = calculate_recall(metrics_rf)\n",
        "f1_rf, avg_f1_rf = calculate_f1_score(metrics_rf)\n",
        "accuracy_rf = calculate_accuracy_score(metrics_rf)\n",
        "\n",
        "print(\"Accuracy :\", accuracy_rf)\n",
        "print(\"Precision per kelas:\", precision_rf)\n",
        "print(\"Recall per kelas:\", recall_rf)\n",
        "print(\"F1-score per kelas:\", f1_rf)\n",
        "print(\"\\nRata-rata: \")\n",
        "print(f\"Precision: {avg_precision_rf:.2f}, Recall: {avg_recall_rf:.2f}, F1: {avg_f1_rf:.2f}\")"
      ]
    },
    {
      "cell_type": "code",
      "execution_count": null,
      "metadata": {
        "colab": {
          "base_uri": "https://localhost:8080/"
        },
        "id": "zmfeHg7Q1unk",
        "outputId": "e8c901ed-826a-4937-e756-c3eac8f90384"
      },
      "outputs": [
        {
          "name": "stdout",
          "output_type": "stream",
          "text": [
            "Confusion Matrix RT:\n",
            "[[916 119]\n",
            " [188 186]]\n"
          ]
        }
      ],
      "source": [
        "# Cetak hasil\n",
        "print(\"Confusion Matrix RT:\")\n",
        "print(conf_matrix_rf)"
      ]
    },
    {
      "cell_type": "code",
      "execution_count": null,
      "metadata": {
        "id": "rH2TBMxT1yZb"
      },
      "outputs": [],
      "source": [
        "norm_cm_rf = normalize_confusion_matrix(conf_matrix_rf)"
      ]
    },
    {
      "cell_type": "code",
      "execution_count": null,
      "metadata": {
        "colab": {
          "base_uri": "https://localhost:8080/",
          "height": 410
        },
        "id": "0ahtNMDA11-C",
        "outputId": "7fc20bf3-3ca7-4538-9700-13462097752c"
      },
      "outputs": [
        {
          "data": {
            "image/png": "[encoded data removed]",
            "text/plain": [
              "<Figure size 600x400 with 2 Axes>"
            ]
          },
          "metadata": {},
          "output_type": "display_data"
        }
      ],
      "source": [
        "cm_plot(norm_cm_rf, y_true, y_pred_rf)"
      ]
    },
    {
      "cell_type": "markdown",
      "metadata": {
        "id": "dHWRyjcC3V_t"
      },
      "source": [
        "# **TEMUAN (secara ringkas)**"
      ]
    },
    {
      "cell_type": "markdown",
      "metadata": {
        "id": "lUD3JLylLu32"
      },
      "source": [
        "![image.png](data:image/png;base64,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)"
      ]
    },
    {
      "cell_type": "markdown",
      "metadata": {
        "id": "H-ctfmhGL0lp"
      },
      "source": [
        "1. Distribusi Data Tidak Seimbang Churn (Yes) hanya 26.54% dari total data Tidak churn (No) mendominasi sebesar 73.46%\n",
        "\n",
        "  Model cenderung memprioritaskan prediksi untuk kelas mayoritas (tidak churn), sehingga performa terhadap kelas minoritas (churn) bisa tertinggal, meskipun akurasinya tinggi. Oleh karena itu, metrik seperti `Recall_1, Precision_1, dan F1_1` menjadi fokus utama evaluasi.\n",
        "\n",
        "2. Fokus pada Kelas '1' (Churn)\n",
        "Karena churn berarti kehilangan pelanggan dan pendapatan, maka model yang mampu mendeteksi sebanyak mungkin pelanggan churn secara akurat dan seimbang menjadi sangat penting. Kita fokus pada:\n",
        "  * `Recall_1` → Seberapa banyak churn yang berhasil dikenali\n",
        "  * `Precision_1` → Seberapa akurat prediksi churn-nya\n",
        "  * `F1_1` → Keseimbangan antara keduanya\n",
        "\n",
        "3. Perbandingan performa model dan model terbaik\n",
        "  * `SVM (scikit-learn)` : Terbaik secara keseluruhan dalam mendeteksi churn\n",
        "  * `Random Forest (Scikit-Learn)` : Cukup baik, alternatif kedua\n",
        "  * `Decision Tree (Scikit-Learn)` : Seimbang, tapi kurang akurat\n",
        "  * `Decision Tree (Manual)` : Kurang optimal\n",
        "  * `SVM (Manual) ` : Sangat buruk dalam mendeteksi churn\n",
        "\n",
        "4. Performa model manual dan scikit, mana yang lebih baik?\n",
        "\n",
        "  model manual decision tree dan SVM memiliki performa yang lebih rendah dibandingkan model yang dibangun dengan scikit learn, ini dikarenakan model yang dibuat secara manual tidak sefleksibel dan seoptimal mode scikit learn. Model yang dibuat manual tidak mendukung optimasi otomatis, dan kurang mampu menangkap pola kompleks. Karena itu, untuk kasus churn prediction dengan data yang tidak seimbang, model Scikit-Learn lebih akurat dan efektif.\n",
        "\n",
        "  jadi `kesimpulannya, model scikit learn lebih baik` jika dibandingkan dengan model yang dibuat secara manual"
      ]
    }
  ],
  "metadata": {
    "colab": {
      "provenance": []
    },
    "kernelspec": {
      "display_name": "Python 3",
      "name": "python3"
    },
    "language_info": {
      "name": "python"
    }
  },
  "nbformat": 4,
  "nbformat_minor": 0
}